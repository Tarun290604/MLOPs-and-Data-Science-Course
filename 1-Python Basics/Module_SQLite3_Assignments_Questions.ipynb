{
 "cells": [
  {
   "cell_type": "markdown",
   "id": "964cf61d",
   "metadata": {},
   "source": [
    "# Module: SQLite3 Assignments\n",
    "## Lesson: SQLite3\n",
    "### Assignment 1: Creating and Connecting to a Database\n",
    "\n",
    "1. Write a Python function to create a new SQLite3 database named `test.db`.\n",
    "2. Write a Python function to create a table named `employees` with columns `id` (integer), `name` (text), `age` (integer), and `department` (text) in the `test.db` database.\n",
    "\n",
    "### Assignment 2: Inserting Data\n",
    "\n",
    "1. Write a Python function to insert a new employee into the `employees` table.\n",
    "2. Insert at least 5 different employees into the `employees` table.\n",
    "\n",
    "### Assignment 3: Querying Data\n",
    "\n",
    "1. Write a Python function to fetch and display all records from the `employees` table.\n",
    "2. Write a Python function to fetch and display all employees from a specific department.\n",
    "\n",
    "### Assignment 4: Updating Data\n",
    "\n",
    "1. Write a Python function to update the department of an employee based on their `id`.\n",
    "2. Update the department of at least 2 employees and display the updated records.\n",
    "\n",
    "### Assignment 5: Deleting Data\n",
    "\n",
    "1. Write a Python function to delete an employee from the `employees` table based on their `id`.\n",
    "2. Delete at least 1 employee and display the remaining records.\n",
    "\n",
    "### Assignment 6: Advanced Queries\n",
    "\n",
    "1. Write a Python function to fetch and display employees older than a certain age.\n",
    "2. Write a Python function to fetch and display employees whose names start with a specific letter.\n",
    "\n",
    "### Assignment 7: Handling Transactions\n",
    "\n",
    "1. Write a Python function to insert multiple employees into the `employees` table in a single transaction. Ensure that if any insertion fails, none of the insertions are committed.\n",
    "2. Write a Python function to update the age of multiple employees in a single transaction. Ensure that if any update fails, none of the updates are committed.\n",
    "\n",
    "### Assignment 8: Creating Relationships\n",
    "\n",
    "1. Create a new table named `departments` with columns `id` (integer) and `name` (text).\n",
    "2. Modify the `employees` table to include a foreign key referencing the `id` column in the `departments` table.\n",
    "3. Write a Python function to insert data into both the `departments` and `employees` tables, ensuring referential integrity.\n",
    "\n",
    "### Assignment 9: Indexing and Optimization\n",
    "\n",
    "1. Create an index on the `name` column of the `employees` table.\n",
    "2. Write a Python function to fetch and display all employees whose names start with a specific letter. Compare the performance with and without the index.\n",
    "\n",
    "### Assignment 10: Backing Up and Restoring Data\n",
    "\n",
    "1. Write a Python function to back up the `test.db` database to a file named `backup.db`.\n",
    "2. Write a Python function to restore the `test.db` database from the `backup.db` file."
   ]
  },
  {
   "cell_type": "code",
   "execution_count": 1,
   "id": "e3306cc1",
   "metadata": {},
   "outputs": [
    {
     "name": "stderr",
     "output_type": "stream",
     "text": [
      "Unable to create process using 'C:\\Users\\Tarunkumar k\\Desktop\\Data Science\\python\\venv\\python.exe \"C:\\Users\\Tarunkumar k\\Desktop\\Data Science\\python\\venv\\Scripts\\pip-script.py\" install sqlite3'\n"
     ]
    }
   ],
   "source": [
    "!pip install sqlite3"
   ]
  },
  {
   "cell_type": "code",
   "execution_count": 2,
   "metadata": {},
   "outputs": [],
   "source": [
    "import sqlite3"
   ]
  },
  {
   "cell_type": "code",
   "execution_count": 8,
   "id": "a3b94966",
   "metadata": {},
   "outputs": [],
   "source": [
    "# 1. Write a Python function to create a new SQLite3 database named `test.db`.\n",
    "connection = sqlite3.connect('example.db')\n",
    "cursor = connection.cursor()"
   ]
  },
  {
   "cell_type": "code",
   "execution_count": 9,
   "id": "f7f19617",
   "metadata": {},
   "outputs": [],
   "source": [
    "# 2. Write a Python function to create a table named `employees` with columns `id` (integer),\n",
    "#  `name` (text), `age` (integer), and `department` (text) in the `test.db` database.\n",
    "\n",
    "cursor.execute('''\n",
    "create table if not exists employees(\n",
    "    name text not null,\n",
    "    age integer,\n",
    "    id integer primary key,\n",
    "    department text)\n",
    "''')\n",
    "\n",
    "connection.commit()"
   ]
  },
  {
   "cell_type": "code",
   "execution_count": 16,
   "id": "eb2e9bd5",
   "metadata": {},
   "outputs": [],
   "source": [
    "# 1. Write a Python function to insert a new employee into the `employees` table.\n",
    "\n",
    "cursor.execute('''\n",
    "insert into employees (name,age,id,department)\n",
    "values ('Tarun',50,92,'CSE')\n",
    "''')\n",
    "connection.commit()\n",
    "# 2. Insert at least 5 different employees into the `employees` table.\n",
    "\n",
    "cursor.execute('''\n",
    "insert into employees (name,age,id,department)\n",
    "values \n",
    "               ('arun',50,1,'CSE'),\n",
    "               ('Varun',50,2,'CSE'),\n",
    "               ('karun',50,22,'CSE'),\n",
    "               ('Marun',50,32,'CSE'),\n",
    "               ('Sarun',50,45,'CSE')\n",
    "''')\n",
    "connection.commit()"
   ]
  },
  {
   "cell_type": "code",
   "execution_count": 19,
   "id": "702e0fa2",
   "metadata": {},
   "outputs": [
    {
     "name": "stdout",
     "output_type": "stream",
     "text": [
      "('arun', 50, 1, 'CSE')\n",
      "('Varun', 50, 2, 'CSE')\n",
      "('Tarun', 50, 12, 'CSE')\n",
      "('karun', 50, 22, 'CSE')\n",
      "('Marun', 50, 32, 'CSE')\n",
      "('Sarun', 50, 45, 'CSE')\n",
      "('Tarun', 50, 92, 'CSE')\n",
      "('Tarun', 50, 99, 'CSE')\n",
      "('arun', 50, 1, 'CSE')\n",
      "('Varun', 50, 2, 'CSE')\n",
      "('Tarun', 50, 12, 'CSE')\n",
      "('karun', 50, 22, 'CSE')\n",
      "('Marun', 50, 32, 'CSE')\n",
      "('Sarun', 50, 45, 'CSE')\n",
      "('Tarun', 50, 92, 'CSE')\n",
      "('Tarun', 50, 99, 'CSE')\n"
     ]
    }
   ],
   "source": [
    "# 1. Write a Python function to fetch and display all records from the `employees` table.\n",
    "\n",
    "def fetch_all_employees(cursor):\n",
    "    rows = cursor.execute(\"SELECT * FROM employees\")\n",
    "    for row in rows:\n",
    "        print(row)\n",
    "\n",
    "fetch_all_employees(cursor)\n",
    "\n",
    "# 2. Write a Python function to fetch and display all employees from a specific department.\n",
    "def fetch(cursor,depart):\n",
    "    rows = cursor.execute(\"SELECT * FROM employees WHERE department = ?\", (depart,))\n",
    "    for row in rows:\n",
    "        print(row)\n",
    "\n",
    "fetch(cursor,'CSE')\n"
   ]
  },
  {
   "cell_type": "code",
   "execution_count": 22,
   "id": "a4b22ee2",
   "metadata": {},
   "outputs": [
    {
     "name": "stdout",
     "output_type": "stream",
     "text": [
      "Department updated for employee ID 12 to 'AIML'.\n",
      "Department updated for employee ID 22 to 'EEE'.\n",
      "('arun', 50, 1, 'CSE')\n",
      "('Varun', 50, 2, 'CSE')\n",
      "('Tarun', 50, 12, 'AIML')\n",
      "('karun', 50, 22, 'EEE')\n",
      "('Marun', 50, 32, 'CSE')\n",
      "('Sarun', 50, 45, 'CSE')\n",
      "('Tarun', 50, 92, 'CSE')\n",
      "('Tarun', 50, 99, 'CSE')\n"
     ]
    }
   ],
   "source": [
    "# 1. Write a Python function to update the department of an employee based on their `id`.\n",
    "\n",
    "def update_dep(cursor,dep,id):\n",
    "    query = \"UPDATE employees SET department = ? WHERE id = ?\"\n",
    "    cursor.execute(query,(dep,id))\n",
    "    connection.commit()\n",
    "    print(f\"Department updated for employee ID {id} to '{dep}'.\")\n",
    "\n",
    "\n",
    "# 2. Update the department of at least 2 employees and display the updated records.\n",
    "update_dep(cursor,'AIML',12)\n",
    "update_dep(cursor,'EEE',22)\n",
    "\n",
    "fetch_all_employees(cursor)"
   ]
  },
  {
   "cell_type": "code",
   "execution_count": 25,
   "id": "94a3cfee",
   "metadata": {},
   "outputs": [
    {
     "name": "stdout",
     "output_type": "stream",
     "text": [
      "Deleted id  1\n",
      "('Varun', 50, 2, 'CSE')\n",
      "('karun', 50, 22, 'EEE')\n",
      "('Marun', 50, 32, 'CSE')\n",
      "('Sarun', 50, 45, 'CSE')\n",
      "('Tarun', 50, 92, 'CSE')\n",
      "('Tarun', 50, 99, 'CSE')\n"
     ]
    }
   ],
   "source": [
    "# 1. Write a Python function to delete an employee from the `employees` table based on their `id`.\n",
    "\n",
    "def del_func(cursor,id):\n",
    "    query = \"DELETE FROM employees WHERE id = ?\"\n",
    "    cursor.execute(query, (id,))\n",
    "    connection.commit()\n",
    "    print('Deleted id ',id)\n",
    "\n",
    "\n",
    "# 2. Delete at least 1 employee and display the remaining records.\n",
    "\n",
    "del_func(cursor,1)\n",
    "fetch_all_employees(cursor)"
   ]
  },
  {
   "cell_type": "code",
   "execution_count": 31,
   "id": "dc6d91fc",
   "metadata": {},
   "outputs": [
    {
     "name": "stdout",
     "output_type": "stream",
     "text": [
      "('karun', 50, 22, 'EEE')\n"
     ]
    }
   ],
   "source": [
    "# 1. Write a Python function to fetch and display employees older than a certain age.\n",
    "\n",
    "def old_emp(cursor,age):\n",
    "    query = \"SELECT * FROM employees WHERE age > ?\"\n",
    "    rows = cursor.execute(query, (age,))\n",
    "    for row in rows:\n",
    "        print(row)\n",
    "\n",
    "old_emp(cursor,50)\n",
    "\n",
    "# 2. Write a Python function to fetch and display employees whose names start with a specific letter.\n",
    "def emp_name(cursor,letter):\n",
    "    query = \"SELECT * FROM employees WHERE name LIKE ?\"\n",
    "    rows = cursor.execute(query, (f\"%{letter}%\",))\n",
    "    for row in rows:\n",
    "        print(row)\n",
    "emp_name(cursor,'k')"
   ]
  },
  {
   "cell_type": "code",
   "execution_count": null,
   "id": "5e85b56e",
   "metadata": {},
   "outputs": [
    {
     "name": "stdout",
     "output_type": "stream",
     "text": [
      "All employees inserted successfully.\n"
     ]
    }
   ],
   "source": [
    "# 1. Write a Python function to insert multiple employees into the `employees` table in a single transaction.\n",
    "#  Ensure that if any insertion fails, none of the insertions are committed.\n",
    "\n",
    "def insert_multiple_employees(cursor, connection, employee_list):\n",
    "    try:\n",
    "        cursor.executemany('''\n",
    "            INSERT INTO employees (name, age, id, department)\n",
    "            VALUES (?, ?, ?, ?)\n",
    "        ''', employee_list)\n",
    "        \n",
    "        connection.commit()\n",
    "        print(\"All employees inserted successfully.\")\n",
    "        \n",
    "    except Exception as e:\n",
    "        connection.rollback()\n",
    "        print(\"Insertion failed. Rolled back the transaction.\")\n",
    "        print(\"Error:\", e)\n",
    "\n",
    "employees = [\n",
    "    ('Alice', 30, 101, 'HR'),\n",
    "    ('Bob', 35, 102, 'Finance'),\n",
    "    ('Charlie', 40, 103, 'IT'),\n",
    "]\n",
    "\n",
    "insert_multiple_employees(cursor, connection, employees)\n"
   ]
  },
  {
   "cell_type": "code",
   "execution_count": 39,
   "id": "fb226555",
   "metadata": {},
   "outputs": [
    {
     "name": "stdout",
     "output_type": "stream",
     "text": [
      "('Varun', 45, 2, 'CSE')\n",
      "('karun', 50, 22, 'EEE')\n",
      "('Marun', 55, 32, 'CSE')\n",
      "('Sarun', 50, 45, 'CSE')\n",
      "('Tarun', 50, 92, 'CSE')\n",
      "('Tarun', 50, 99, 'CSE')\n",
      "('Alice', 45, 101, 'HR')\n",
      "('Bob', 50, 102, 'Finance')\n",
      "('Charlie', 55, 103, 'IT')\n"
     ]
    }
   ],
   "source": [
    "fetch_all_employees(cursor)"
   ]
  },
  {
   "cell_type": "code",
   "execution_count": 38,
   "id": "9d99a340",
   "metadata": {},
   "outputs": [
    {
     "name": "stdout",
     "output_type": "stream",
     "text": [
      "All age updates committed successfully.\n"
     ]
    }
   ],
   "source": [
    "# 2. Write a Python function to update the age of multiple employees in a single transaction. \n",
    "# Ensure that if any update fails, none of the updates are committed.\n",
    "\n",
    "def update_multiple_ages(cursor, connection, updates):\n",
    "    \"\"\"\n",
    "    updates: list of tuples -> [(new_age, employee_id), ...]\n",
    "    \"\"\"\n",
    "    try:\n",
    "        cursor.executemany('''\n",
    "            UPDATE employees SET age = ? WHERE id = ?\n",
    "        ''', updates)\n",
    "        \n",
    "        connection.commit()\n",
    "        print(\"All age updates committed successfully.\")\n",
    "        \n",
    "    except Exception as e:\n",
    "        connection.rollback()\n",
    "        print(\"Update failed. Rolled back the transaction.\")\n",
    "        print(\"Error:\", e)\n",
    "\n",
    "age_updates = [\n",
    "    (45, 2),\n",
    "    (50, 22),\n",
    "    (55, 32),\n",
    "]\n",
    "\n",
    "update_multiple_ages(cursor, connection, age_updates)"
   ]
  },
  {
   "cell_type": "code",
   "execution_count": 42,
   "id": "3395a1cf",
   "metadata": {},
   "outputs": [],
   "source": [
    "# 1. Create a new table named `departments` with columns `id` (integer) and `name` (text).\n",
    "\n",
    "cursor.execute('''\n",
    "create table if not exists departments(\n",
    "id integer primary key,\n",
    "name text not null\n",
    ")\n",
    "''')\n",
    "\n",
    "connection.commit()"
   ]
  },
  {
   "cell_type": "code",
   "execution_count": 47,
   "id": "b350d60f",
   "metadata": {},
   "outputs": [
    {
     "name": "stdout",
     "output_type": "stream",
     "text": [
      "Foreign key added successfully.\n"
     ]
    }
   ],
   "source": [
    "# 2. Modify the `employees` table to include a foreign key referencing the `id` column in the `departments` table.\n",
    "\n",
    "def add_foreign_key_to_employees(cursor, connection):\n",
    "    try:\n",
    "        cursor.execute(\"PRAGMA foreign_keys = ON\")\n",
    "\n",
    "        # Clean up any leftover table from failed attempts\n",
    "        cursor.execute(\"DROP TABLE IF EXISTS employees_old\")\n",
    "\n",
    "        # Rename original table\n",
    "        cursor.execute(\"ALTER TABLE employees RENAME TO employees_old\")\n",
    "        \n",
    "        # Create new table with foreign key\n",
    "        cursor.execute('''\n",
    "            CREATE TABLE employees (\n",
    "                name TEXT,\n",
    "                age INTEGER,\n",
    "                id INTEGER PRIMARY KEY,\n",
    "                department INTEGER,\n",
    "                FOREIGN KEY (department) REFERENCES departments(id)\n",
    "            )\n",
    "        ''')\n",
    "        \n",
    "        # Copy data from old table\n",
    "        cursor.execute('''\n",
    "            INSERT INTO employees (name, age, id, department)\n",
    "            SELECT name, age, id, department FROM employees_old\n",
    "        ''')\n",
    "        \n",
    "        # Drop old table\n",
    "        cursor.execute(\"DROP TABLE employees_old\")\n",
    "\n",
    "        connection.commit()\n",
    "        print(\"Foreign key added successfully.\")\n",
    "\n",
    "    except Exception as e:\n",
    "        connection.rollback()\n",
    "        print(\"Failed to add foreign key. Rolled back changes.\")\n",
    "        print(\"Error:\", e)\n",
    "\n",
    "add_foreign_key_to_employees(cursor, connection)"
   ]
  },
  {
   "cell_type": "code",
   "execution_count": 48,
   "id": "3ca208a9",
   "metadata": {},
   "outputs": [
    {
     "name": "stdout",
     "output_type": "stream",
     "text": [
      "Department and employee inserted successfully.\n"
     ]
    }
   ],
   "source": [
    "# 3. Write a Python function to insert data into both the `departments` and\n",
    "#  `employees` tables, ensuring referential integrity.\n",
    "\n",
    "def insert_department_and_employee(cursor, connection, dept_id, dept_name, employee):\n",
    "    \"\"\"\n",
    "    Inserts a department (if it doesn't exist) and an employee referencing it.\n",
    "\n",
    "    Parameters:\n",
    "    - dept_id: int - Department ID\n",
    "    - dept_name: str - Department name\n",
    "    - employee: tuple - (name, age, id, department_id)\n",
    "    \"\"\"\n",
    "    try:\n",
    "        # Ensure foreign key enforcement\n",
    "        cursor.execute(\"PRAGMA foreign_keys = ON\")\n",
    "\n",
    "        # Begin transaction\n",
    "        connection.execute(\"BEGIN\")\n",
    "\n",
    "        # Insert department if it doesn't exist\n",
    "        cursor.execute(\n",
    "            \"INSERT OR IGNORE INTO departments (id, name) VALUES (?, ?)\",\n",
    "            (dept_id, dept_name)\n",
    "        )\n",
    "\n",
    "        # Insert employee\n",
    "        cursor.execute(\n",
    "            \"INSERT INTO employees (name, age, id, department) VALUES (?, ?, ?, ?)\",\n",
    "            employee\n",
    "        )\n",
    "\n",
    "        # Commit if all went well\n",
    "        connection.commit()\n",
    "        print(\"Department and employee inserted successfully.\")\n",
    "\n",
    "    except Exception as e:\n",
    "        connection.rollback()\n",
    "        print(\"Insert failed. Rolled back the transaction.\")\n",
    "        print(\"Error:\", e)\n",
    "\n",
    "\n",
    "# Department info\n",
    "dept_id = 1\n",
    "dept_name = \"CSE\"\n",
    "\n",
    "# Employee: (name, age, id, department_id)\n",
    "employee_data = (\"Alice\", 30, 101, dept_id)\n",
    "\n",
    "insert_department_and_employee(cursor, connection, dept_id, dept_name, employee_data)"
   ]
  },
  {
   "cell_type": "code",
   "execution_count": 51,
   "id": "db595401",
   "metadata": {},
   "outputs": [
    {
     "name": "stdout",
     "output_type": "stream",
     "text": [
      "('Alice', 30, 101, 1)\n"
     ]
    }
   ],
   "source": [
    "fetch_all_employees(cursor)"
   ]
  },
  {
   "cell_type": "code",
   "execution_count": 53,
   "id": "f3472f20",
   "metadata": {},
   "outputs": [
    {
     "name": "stdout",
     "output_type": "stream",
     "text": [
      "\n",
      "🔎 Fetching employees whose names start with 'A'\n",
      "\n",
      "Without Index: 1 results in 0.000000 seconds\n",
      "With Index   : 1 results in 0.000000 seconds\n",
      "\n",
      "📄 Sample results:\n",
      "('Alice', 30, 101, 1)\n"
     ]
    }
   ],
   "source": [
    "# 1. Create an index on the `name` column of the `employees` table.\n",
    "\n",
    "cursor.execute(\"CREATE INDEX IF NOT EXISTS idx_employee_name ON employees(name)\")\n",
    "\n",
    "connection.commit()\n",
    "\n",
    "# 2. Write a Python function to fetch and display all employees whose names start with a specific letter. Compare the performance with and without the index.\n",
    "\n",
    "import time\n",
    "\n",
    "def fetch_employees_by_letter(cursor, letter):\n",
    "    \"\"\"\n",
    "    Fetches employees whose names start with the given letter.\n",
    "    Measures performance with and without an index.\n",
    "    \"\"\"\n",
    "    print(f\"\\n🔎 Fetching employees whose names start with '{letter}'\\n\")\n",
    "\n",
    "    # Query\n",
    "    query = \"SELECT * FROM employees WHERE name LIKE ?\"\n",
    "    param = (letter + '%',)\n",
    "\n",
    "    # 1. Run WITHOUT index (drop if exists)\n",
    "    cursor.execute(\"DROP INDEX IF EXISTS idx_employee_name\")\n",
    "    connection.commit()\n",
    "\n",
    "    start = time.time()\n",
    "    cursor.execute(query, param)\n",
    "    results_no_index = cursor.fetchall()\n",
    "    duration_no_index = time.time() - start\n",
    "\n",
    "    print(f\"Without Index: {len(results_no_index)} results in {duration_no_index:.6f} seconds\")\n",
    "\n",
    "    # 2. Create the index\n",
    "    cursor.execute(\"CREATE INDEX IF NOT EXISTS idx_employee_name ON employees(name)\")\n",
    "    connection.commit()\n",
    "\n",
    "    # 3. Run WITH index\n",
    "    start = time.time()\n",
    "    cursor.execute(query, param)\n",
    "    results_with_index = cursor.fetchall()\n",
    "    duration_with_index = time.time() - start\n",
    "\n",
    "    print(f\"With Index   : {len(results_with_index)} results in {duration_with_index:.6f} seconds\")\n",
    "\n",
    "    # Display some sample results (optional)\n",
    "    print(\"\\n📄 Sample results:\")\n",
    "    for row in results_with_index[:5]:\n",
    "        print(row)\n",
    "\n",
    "fetch_employees_by_letter(cursor, 'A')\n"
   ]
  },
  {
   "cell_type": "code",
   "execution_count": 55,
   "id": "efea6060",
   "metadata": {},
   "outputs": [
    {
     "name": "stdout",
     "output_type": "stream",
     "text": [
      "✅ Backup successful: 'example.db' → 'backup.db'\n"
     ]
    }
   ],
   "source": [
    "# 1. Write a Python function to back up the `test.db` database to a file named `backup.db`.\n",
    "\n",
    "import shutil\n",
    "\n",
    "def backup_database(src_path='example.db', backup_path='backup.db'):\n",
    "    try:\n",
    "        # Safely copy the database file\n",
    "        shutil.copyfile(src_path, backup_path)\n",
    "        print(f\"✅ Backup successful: '{src_path}' → '{backup_path}'\")\n",
    "    except Exception as e:\n",
    "        print(\"❌ Backup failed.\")\n",
    "        print(\"Error:\", e)\n",
    "\n",
    "backup_database()"
   ]
  },
  {
   "cell_type": "code",
   "execution_count": 56,
   "id": "16c8b777",
   "metadata": {},
   "outputs": [
    {
     "name": "stdout",
     "output_type": "stream",
     "text": [
      "✅ Database restored: 'backup.db' → 'test.db'\n"
     ]
    }
   ],
   "source": [
    "# 2. Write a Python function to restore the `test.db` database from the `backup.db` file.\n",
    "\n",
    "def restore_database(backup_path='backup.db', restore_path='test.db'):\n",
    "    try:\n",
    "        shutil.copyfile(backup_path, restore_path)\n",
    "        print(f\"✅ Database restored: '{backup_path}' → '{restore_path}'\")\n",
    "    except Exception as e:\n",
    "        print(\"❌ Restore failed.\")\n",
    "        print(\"Error:\", e)\n",
    "\n",
    "restore_database()"
   ]
  }
 ],
 "metadata": {
  "kernelspec": {
   "display_name": "Python 3",
   "language": "python",
   "name": "python3"
  },
  "language_info": {
   "codemirror_mode": {
    "name": "ipython",
    "version": 3
   },
   "file_extension": ".py",
   "mimetype": "text/x-python",
   "name": "python",
   "nbconvert_exporter": "python",
   "pygments_lexer": "ipython3",
   "version": "3.12.0"
  }
 },
 "nbformat": 4,
 "nbformat_minor": 5
}
