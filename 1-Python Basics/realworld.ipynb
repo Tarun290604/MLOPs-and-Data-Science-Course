{
 "cells": [
  {
   "cell_type": "markdown",
   "metadata": {},
   "source": [
    "### List is one of the most used data structutes in python"
   ]
  },
  {
   "cell_type": "code",
   "execution_count": 4,
   "metadata": {},
   "outputs": [
    {
     "name": "stdout",
     "output_type": "stream",
     "text": [
      "['Buy Groceries', 'Clean house', 'Pay bills', 'Schedule meet', 'Go for run']\n",
      "['Buy Groceries', 'Pay bills', 'Schedule meet', 'Go for run']\n",
      "Don't forget to pay bills\n",
      "Remaining task:\n",
      "Buy Groceries\n",
      "Pay bills\n",
      "Schedule meet\n",
      "Go for run\n"
     ]
    }
   ],
   "source": [
    "to_do_list = [\"Buy Groceries\", \"Clean house\",\"Pay bills\"]\n",
    "\n",
    "to_do_list.append(\"Schedule meet\")\n",
    "to_do_list.append(\"Go for run\")\n",
    "print(to_do_list)\n",
    "\n",
    "to_do_list.remove(\"Clean house\")\n",
    "print(to_do_list)\n",
    "\n",
    "if \"Pay bills\" in to_do_list:\n",
    "    print(\"Don't forget to pay bills\")\n",
    "\n",
    "print(\"Remaining task:\")\n",
    "for task in to_do_list:\n",
    "    print(task)"
   ]
  }
 ],
 "metadata": {
  "kernelspec": {
   "display_name": "Python 3",
   "language": "python",
   "name": "python3"
  },
  "language_info": {
   "codemirror_mode": {
    "name": "ipython",
    "version": 3
   },
   "file_extension": ".py",
   "mimetype": "text/x-python",
   "name": "python",
   "nbconvert_exporter": "python",
   "pygments_lexer": "ipython3",
   "version": "3.12.0"
  }
 },
 "nbformat": 4,
 "nbformat_minor": 2
}
