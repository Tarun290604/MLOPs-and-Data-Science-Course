{
 "cells": [
  {
   "cell_type": "markdown",
   "metadata": {},
   "source": [
    "# Module: Exception Handling Assignments\n",
    "## Lesson: Exception Handling with try, except, and finally\n",
    "### Assignment 1: Handling Division by Zero\n",
    "\n",
    "Write a function that takes two integers as input and returns their division. Use try, except, and finally blocks to handle division by zero and print an appropriate message.\n",
    "\n",
    "### Assignment 2: File Reading with Exception Handling\n",
    "\n",
    "Write a function that reads the contents of a file named `data.txt`. Use try, except, and finally blocks to handle file not found errors and ensure the file is properly closed.\n",
    "\n",
    "### Assignment 3: Handling Multiple Exceptions\n",
    "\n",
    "Write a function that takes a list of integers and returns their sum. Use try, except, and finally blocks to handle TypeError if a non-integer value is encountered and print an appropriate message.\n",
    "\n",
    "### Assignment 4: Exception Handling in User Input\n",
    "\n",
    "Write a function that prompts the user to enter an integer. Use try, except, and finally blocks to handle ValueError if the user enters a non-integer value and print an appropriate message.\n",
    "\n",
    "### Assignment 5: Exception Handling in Dictionary Access\n",
    "\n",
    "Write a function that takes a dictionary and a key as input and returns the value associated with the key. Use try, except, and finally blocks to handle KeyError if the key is not found in the dictionary and print an appropriate message.\n",
    "\n",
    "### Assignment 6: Nested Exception Handling\n",
    "\n",
    "Write a function that performs nested exception handling. It should first attempt to convert a string to an integer, and then attempt to divide by that integer. Use nested try, except, and finally blocks to handle ValueError and ZeroDivisionError and print appropriate messages.\n",
    "\n",
    "### Assignment 7: Exception Handling in List Operations\n",
    "\n",
    "Write a function that takes a list and an index as input and returns the element at the given index. Use try, except, and finally blocks to handle IndexError if the index is out of range and print an appropriate message.\n",
    "\n",
    "### Assignment 8: Exception Handling in Network Operations\n",
    "\n",
    "Write a function that attempts to open a URL and read its contents. Use try, except, and finally blocks to handle network-related errors and print an appropriate message.\n",
    "\n",
    "### Assignment 9: Exception Handling in JSON Parsing\n",
    "\n",
    "Write a function that attempts to parse a JSON string. Use try, except, and finally blocks to handle JSONDecodeError if the string is not a valid JSON and print an appropriate message.\n",
    "\n",
    "### Assignment 10: Custom Exception Handling\n",
    "\n",
    "Define a custom exception named `NegativeNumberError`. Write a function that raises this exception if a negative number is encountered in a list. Use try, except, and finally blocks to handle the custom exception and print an appropriate message.\n",
    "\n",
    "### Assignment 11: Exception Handling in Function Calls\n",
    "\n",
    "Write a function that calls another function which may raise an exception. Use try, except, and finally blocks to handle the exception and print an appropriate message.\n",
    "\n",
    "### Assignment 12: Exception Handling in Class Methods\n",
    "\n",
    "Define a class with a method that performs a division operation. Use try, except, and finally blocks within the method to handle division by zero and print an appropriate message.\n",
    "\n",
    "### Assignment 13: Exception Handling in Data Conversion\n",
    "\n",
    "Write a function that takes a list of strings and converts them to integers. Use try, except, and finally blocks to handle ValueError if a string cannot be converted and print an appropriate message.\n",
    "\n",
    "### Assignment 14: Exception Handling in List Comprehensions\n",
    "\n",
    "Write a function that uses a list comprehension to convert a list of strings to integers. Use try, except, and finally blocks within the list comprehension to handle ValueError and print an appropriate message.\n",
    "\n",
    "### Assignment 15: Exception Handling in File Writing\n",
    "\n",
    "Write a function that attempts to write a list of strings to a file. Use try, except, and finally blocks to handle IOError and ensure the file is properly closed."
   ]
  },
  {
   "cell_type": "code",
   "execution_count": 3,
   "metadata": {},
   "outputs": [
    {
     "name": "stdout",
     "output_type": "stream",
     "text": [
      "Division operation completed.\n"
     ]
    }
   ],
   "source": [
    "# Write a function that takes two integers as input and returns their division. Use try, except, and finally blocks to handle division by zero and print an appropriate message.\n",
    "\n",
    "def safe_division(dividend, divisor):\n",
    "    try:\n",
    "        result = dividend / divisor\n",
    "    except ZeroDivisionError:\n",
    "        print(\"Error: Division by zero is not allowed.\")\n",
    "    finally:\n",
    "        print(\"Division operation completed.\")\n",
    "\n",
    "safe_division(5,5)"
   ]
  },
  {
   "cell_type": "code",
   "execution_count": 8,
   "id": "80c6a2e8",
   "metadata": {},
   "outputs": [
    {
     "name": "stdout",
     "output_type": "stream",
     "text": [
      "This is a sample text file for testing the read function.\n",
      "It contains multiple lines of text to demonstrate file handling in Python.\n",
      "\n",
      "File read operation completed.\n"
     ]
    }
   ],
   "source": [
    "# Write a function that reads the contents of a file named `data.txt`. Use try, except, and finally blocks to handle file not found errors and ensure the file is properly closed.\n",
    "\n",
    "def read_file_contents(filename):\n",
    "    try:\n",
    "        with open(filename, 'r') as file:\n",
    "            contents = file.read()\n",
    "            print(contents)\n",
    "    except FileNotFoundError:\n",
    "        print(\"Error: The file was not found.\")\n",
    "    finally:\n",
    "        print(\"File read operation completed.\")\n",
    "\n",
    "read_file_contents('data.txt')"
   ]
  },
  {
   "cell_type": "code",
   "execution_count": 13,
   "id": "85ac546b",
   "metadata": {},
   "outputs": [
    {
     "name": "stdout",
     "output_type": "stream",
     "text": [
      "Executed\n",
      "31\n"
     ]
    }
   ],
   "source": [
    "# Write a function that takes a list of integers and returns their sum. Use try, except, and finally blocks to handle TypeError if a non-integer value is encountered and print an appropriate message.\n",
    "def sum_of_integers(lst):\n",
    "    try:\n",
    "        return sum(lst)\n",
    "    except TypeError:\n",
    "        print(\"Error: The list contains non-integer values.\")\n",
    "    finally:\n",
    "        print(\"Executed\")\n",
    "# Test the function\n",
    "x=[1, 2, 3, 4, 5,8,8]\n",
    "print(sum_of_integers(x))"
   ]
  },
  {
   "cell_type": "code",
   "execution_count": 15,
   "id": "29c590e7",
   "metadata": {},
   "outputs": [
    {
     "name": "stdout",
     "output_type": "stream",
     "text": [
      "That's not an integer! Please try again.\n",
      "Program ended\n"
     ]
    }
   ],
   "source": [
    "# Write a function that prompts the user to enter an integer. Use try, except, and finally blocks to handle ValueError if the user enters a non-integer value and print an appropriate message.\n",
    "def get_integer():\n",
    "    try:\n",
    "        integer = int(input(\"Please enter an integer: \"))\n",
    "        return integer\n",
    "    except ValueError:\n",
    "        print(\"That's not an integer! Please try again.\")\n",
    "    finally:\n",
    "        print(\"Program ended\")\n",
    "get_integer()"
   ]
  },
  {
   "cell_type": "code",
   "execution_count": 18,
   "id": "8b416b57",
   "metadata": {},
   "outputs": [
    {
     "name": "stdout",
     "output_type": "stream",
     "text": [
      "Sonu\n",
      "Key 'Mayan' not found in the dictionary.\n",
      "None\n",
      "Varun\n"
     ]
    }
   ],
   "source": [
    "# Write a function that takes a dictionary and a key as input and returns the value associated with the key. Use try, except, and finally blocks to handle KeyError if the key is not found in the dictionary and print an appropriate message.\n",
    "\n",
    "def get_value(dictionary, key):\n",
    "    try:\n",
    "        value = dictionary[key]\n",
    "        return value\n",
    "    except KeyError:\n",
    "        print(f\"Key '{key}' not found in the dictionary.\")\n",
    "    finally:\n",
    "        pass\n",
    "\n",
    "print(get_value({\"Tarun\":\"Varun\",\"Karan\":\"Arun\",\"Mayank\":\"Sonu\"},\"Mayank\"))\n",
    "print(get_value({\"Tarun\":\"Varun\",\"Karan\":\"Arun\",\"Mayank\":\"Sonu\"},\"Mayan\"))\n",
    "print(get_value({\"Tarun\":\"Varun\",\"Karan\":\"Arun\",\"Mayank\":\"Sonu\"},\"Tarun\"))"
   ]
  },
  {
   "cell_type": "code",
   "execution_count": 19,
   "id": "d9bf2b00",
   "metadata": {},
   "outputs": [
    {
     "name": "stdout",
     "output_type": "stream",
     "text": [
      "0.10101010101010101\n",
      "Program ended.\n"
     ]
    }
   ],
   "source": [
    "# Write a function that performs nested exception handling. It should first attempt to convert a string to an integer, and then attempt to divide by that integer. Use nested try, except, and finally blocks to handle ValueError and ZeroDivisionError and print appropriate messages.\n",
    "def nested_exception_handling():\n",
    "    try:\n",
    "        num_str = input(\"Enter a number: \")\n",
    "        num = int(num_str)\n",
    "        try:\n",
    "            result = 10 / num\n",
    "            print(result)\n",
    "        except ZeroDivisionError:\n",
    "            print(\"Error: Division by zero is not allowed.\")\n",
    "        finally:\n",
    "            print(\"Program ended.\")\n",
    "    except ValueError:\n",
    "        print(\"Error: Invalid input. Please enter a valid number.\")\n",
    "\n",
    "nested_exception_handling()"
   ]
  },
  {
   "cell_type": "code",
   "execution_count": 21,
   "id": "7a5260a5",
   "metadata": {},
   "outputs": [
    {
     "name": "stdout",
     "output_type": "stream",
     "text": [
      "Function executed successfully.\n",
      "4\n"
     ]
    }
   ],
   "source": [
    "# Write a function that takes a list and an index as input and returns the element at the given index. Use try, except, and finally blocks to handle IndexError if the index is out of range and print an appropriate message.\n",
    "def get_element(lst, index):\n",
    "    try:\n",
    "        return lst[index]\n",
    "    except IndexError:\n",
    "        print(\"Index out of range. Please check the index.\")\n",
    "    finally:\n",
    "        print(\"Function executed successfully.\")\n",
    "\n",
    "x=[2,3,4,5,1,4,4,2,3]\n",
    "print(get_element(x, 5))  # Output: Index out of range. Please check th"
   ]
  },
  {
   "cell_type": "code",
   "execution_count": 22,
   "id": "40c6324f",
   "metadata": {},
   "outputs": [
    {
     "name": "stdout",
     "output_type": "stream",
     "text": [
      "JSON parsing complete\n",
      "None\n",
      "JSON parsing complete\n",
      "None\n",
      "Error parsing JSON: Expecting value: line 1 column 1 (char 0)\n",
      "JSON parsing complete\n",
      "None\n"
     ]
    }
   ],
   "source": [
    "# Write a function that attempts to parse a JSON string. Use try, except, and finally blocks to handle JSONDecodeError if the string is not a valid JSON and print an appropriate message.\n",
    "import json\n",
    "def parse_json(json_string):\n",
    "    try:\n",
    "        # Attempt to parse the JSON string\n",
    "        json_data = json.loads(json_string)\n",
    "    except json.JSONDecodeError as e:\n",
    "# If the string is not a valid JSON, print an error message\n",
    "        print(f\"Error parsing JSON: {e}\")\n",
    "    finally:\n",
    "# Regardless of whether the string is valid or not, print a success message\n",
    "        print(\"JSON parsing complete\")\n",
    "        # Test the function with a valid and an invalid JSON string\n",
    "print(parse_json('{\"name\": \"John\", \"age\": 30}'))  # Valid\n",
    "print(parse_json('{\"name\": \"John\", \"age\": 30}'))  # Valid \n",
    "print(parse_json('Invalid JSON'))  # Invalid\n"
   ]
  },
  {
   "cell_type": "code",
   "execution_count": 24,
   "id": "06d0a35f",
   "metadata": {},
   "outputs": [
    {
     "name": "stdout",
     "output_type": "stream",
     "text": [
      "2\n",
      "3\n",
      "4\n",
      "Error: Negative numbers are not allowed: Negative number encountered\n",
      "Program terminated\n"
     ]
    }
   ],
   "source": [
    "# Define a custom exception named `NegativeNumberError`. Write a function that raises this exception if a negative number is encountered in a list. Use try, except, and finally blocks to handle the custom exception and print an appropriate message.\n",
    "class NegativeNumberError(Exception):\n",
    "    \"\"\"A simple custom exception.\"\"\"\n",
    "    def __init__(self, value, message=\"Negative numbers are not allowed\"):\n",
    "        self.value = value\n",
    "        self.message = f\"{message}: {value}\"\n",
    "        super().__init__(self.message)\n",
    "\n",
    "def check_negative_numbers(lst):\n",
    "    try:\n",
    "        for num in lst:\n",
    "            if num < 0:\n",
    "                raise NegativeNumberError(\"Negative number encountered\")\n",
    "            else:\n",
    "                print(num)\n",
    "    except NegativeNumberError as e:\n",
    "        print(f\"Error: {e}\")\n",
    "    finally:\n",
    "        print(\"Program terminated\")\n",
    "\n",
    "check_negative_numbers([2,3,4,-1])"
   ]
  },
  {
   "cell_type": "code",
   "execution_count": 28,
   "id": "07794ba8",
   "metadata": {},
   "outputs": [
    {
     "name": "stdout",
     "output_type": "stream",
     "text": [
      "URL read operation completed.\n",
      "None\n"
     ]
    }
   ],
   "source": [
    "\n",
    "# Write a function that attempts to open a URL and read its contents. Use try, except, and finally blocks to handle network-related errors and print an appropriate message.\n",
    "def read_url(url):\n",
    "    try:\n",
    "        # Attempt to open the URL and read its contents\n",
    "        import requests\n",
    "        response = requests.get(url)\n",
    "        if response.status_code == 200:\n",
    "            return response.text\n",
    "    except requests.exceptions.RequestException as e:\n",
    "        print(f\"Error: {e}\")\n",
    "    finally:\n",
    "        print(\"URL read operation completed.\")\n",
    "# Test the function with a valid URL\n",
    "print(read_url(\"http://www.arvind.com\"))"
   ]
  },
  {
   "cell_type": "code",
   "execution_count": 33,
   "id": "56e2b670",
   "metadata": {},
   "outputs": [
    {
     "name": "stdout",
     "output_type": "stream",
     "text": [
      "0.10101010101010101\n",
      "Function call completed\n"
     ]
    }
   ],
   "source": [
    "# Write a function that calls another function which may raise an exception. Use try, except, and finally blocks to handle the exception and print an appropriate message.\n",
    "def call_function(func, *args, **kwargs):\n",
    "    try:\n",
    "        func(*args, **kwargs)\n",
    "    except Exception as e:\n",
    "        print(f\"An error occurred: {e}\")\n",
    "    finally:\n",
    "        print(\"Function call completed\")\n",
    "def divide_numbers(a, b):\n",
    "    print (a / b)\n",
    "call_function(divide_numbers, 10, 99)"
   ]
  },
  {
   "cell_type": "code",
   "execution_count": 35,
   "id": "82224fde",
   "metadata": {},
   "outputs": [
    {
     "name": "stdout",
     "output_type": "stream",
     "text": [
      "Division operation completed.\n",
      "5.0\n",
      "Error: Division by zero is not allowed.\n",
      "Division operation completed.\n",
      "None\n"
     ]
    }
   ],
   "source": [
    "# Define a class with a method that performs a division operation. Use try, except, and finally blocks within the method to handle division by zero and print an appropriate message.\n",
    "\n",
    "class DivisionOperation:\n",
    "    def perform_division(self, dividend, divisor):\n",
    "        try:\n",
    "            result = dividend / divisor\n",
    "            return result\n",
    "        except ZeroDivisionError:\n",
    "            print(\"Error: Division by zero is not allowed.\")\n",
    "        finally:\n",
    "            print(\"Division operation completed.\")\n",
    "x=DivisionOperation()\n",
    "print(x.perform_division(10, 2))\n",
    "print(x.perform_division(10, 0))"
   ]
  },
  {
   "cell_type": "code",
   "execution_count": 37,
   "id": "5203c995",
   "metadata": {},
   "outputs": [
    {
     "name": "stdout",
     "output_type": "stream",
     "text": [
      "Conversion complete.\n",
      "Conversion complete.\n",
      "Conversion complete.\n",
      "Conversion complete.\n",
      "[5, 9, 10, 11]\n"
     ]
    }
   ],
   "source": [
    "# Write a function that takes a list of strings and converts them to integers. Use try, except, and finally blocks to handle ValueError if a string cannot be converted and print an appropriate message.\n",
    "\n",
    "def convert_to_int(lst):\n",
    "    result = []\n",
    "    for s in lst:\n",
    "        try:\n",
    "            result.append(int(s))\n",
    "        except ValueError:\n",
    "            print(f\"Error: '{s}' cannot be converted to an integer.\")\n",
    "        finally:\n",
    "                print(\"Conversion complete.\")\n",
    "    print(result)\n",
    "\n",
    "convert_to_int([\"5\",\"9\",\"10\",\"11\"])"
   ]
  },
  {
   "cell_type": "code",
   "execution_count": 43,
   "id": "f4e1c3e6",
   "metadata": {},
   "outputs": [
    {
     "name": "stdout",
     "output_type": "stream",
     "text": [
      "Cannot convert 'abc' to integer\n",
      "Cannot convert '3.14' to integer\n",
      "[10, 20, None, -5, None, 100]\n"
     ]
    }
   ],
   "source": [
    "# Write a function that uses a list comprehension to convert a list of strings to integers. Use try, except, and finally blocks within the list comprehension to handle ValueError and print an appropriate message.\n",
    "\n",
    "def convert_to_int_list(str_list):\n",
    "    return [\n",
    "        (lambda x: int(x) if x.isdigit() or (x.startswith('-') and x[1:].isdigit()) else handle_error(x))(s)\n",
    "        for s in str_list\n",
    "    ]\n",
    "\n",
    "def handle_error(value):\n",
    "    try:\n",
    "        raise ValueError(f\"Cannot convert '{value}' to integer\")\n",
    "    except ValueError as e:\n",
    "        print(e)\n",
    "    finally:\n",
    "        return None  # Return None to indicate failure\n",
    "\n",
    "# Example usage\n",
    "str_numbers = [\"10\", \"20\", \"abc\", \"-5\", \"3.14\", \"100\"]\n",
    "converted_list = convert_to_int_list(str_numbers)\n",
    "print(converted_list)  # Output: [10, 20, None, -5, None, 100]\n"
   ]
  },
  {
   "cell_type": "code",
   "execution_count": null,
   "id": "b7a5273b",
   "metadata": {},
   "outputs": [],
   "source": [
    "# Write a function that attempts to write a list of strings to a file. Use try, except, and finally blocks to handle IOError and ensure the file is properly closed.\n",
    "def write_strings_to_file(strings, filename):\n",
    "    try:\n",
    "        with open(filename, 'w') as file:\n",
    "            for string in strings:\n",
    "                file.write(string + '\\n')\n",
    "    except IOError as e:\n",
    "        print(f\"Error writing to file: {e}\")\n",
    "    finally:\n",
    "        file.close()\n",
    "        # Example usage:\n",
    "write_strings_to_file([\"Hello\", \"World\",\"Tarun is a good boy\",\"Varun is a bad boy\",\"Arun\"], \"example.txt\")s"
   ]
  }
 ],
 "metadata": {
  "kernelspec": {
   "display_name": "Python 3",
   "language": "python",
   "name": "python3"
  },
  "language_info": {
   "codemirror_mode": {
    "name": "ipython",
    "version": 3
   },
   "file_extension": ".py",
   "mimetype": "text/x-python",
   "name": "python",
   "nbconvert_exporter": "python",
   "pygments_lexer": "ipython3",
   "version": "3.12.0"
  }
 },
 "nbformat": 4,
 "nbformat_minor": 5
}
