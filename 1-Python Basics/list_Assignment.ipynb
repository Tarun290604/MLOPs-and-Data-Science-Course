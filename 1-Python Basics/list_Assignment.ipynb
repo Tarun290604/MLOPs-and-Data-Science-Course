{
 "cells": [
  {
   "cell_type": "markdown",
   "metadata": {},
   "source": [
    "# Module 3: Data Structures Assignments\n",
    "## Lesson 3.1: Lists\n",
    "### Assignment 1: Creating and Accessing Lists\n",
    "\n",
    "Create a list of the first 20 positive integers. Print the list.\n",
    "\n",
    "### Assignment 2: Accessing List Elements\n",
    "\n",
    "Print the first, middle, and last elements of the list created in Assignment 1.\n",
    "\n",
    "### Assignment 3: List Slicing\n",
    "\n",
    "Print the first five elements, the last five elements, and the elements from index 5 to 15 of the list created in Assignment 1.\n",
    "\n",
    "### Assignment 4: List Comprehensions\n",
    "\n",
    "Create a new list containing the squares of the first 10 positive integers using a list comprehension. Print the new list.\n",
    "\n",
    "### Assignment 5: Filtering Lists\n",
    "\n",
    "Create a new list containing only the even numbers from the list created in Assignment 1 using a list comprehension. Print the new list.\n",
    "\n",
    "### Assignment 6: List Methods\n",
    "\n",
    "Create a list of random numbers and sort it in ascending and descending order. Remove the duplicates from the list and print the modified list.\n",
    "\n",
    "### Assignment 7: Nested Lists\n",
    "\n",
    "Create a nested list representing a 3x3 matrix and print the matrix. Access and print the element at the second row and third column.\n",
    "\n",
    "### Assignment 8: List of Dictionaries\n",
    "\n",
    "Create a list of dictionaries where each dictionary represents a student with keys 'name' and 'score'. Sort the list of dictionaries by the 'score' in descending order and print the sorted list.\n",
    "\n",
    "### Assignment 9: Matrix Transposition\n",
    "\n",
    "Write a function that takes a 3x3 matrix (nested list) as input and returns its transpose. Print the original and transposed matrices.\n",
    "\n",
    "### Assignment 10: Flattening a Nested List\n",
    "\n",
    "Write a function that takes a nested list and flattens it into a single list. Print the original and flattened lists.\n",
    "\n",
    "### Assignment 11: List Manipulation\n",
    "\n",
    "Create a list of the first 10 positive integers. Remove the elements at indices 2, 4, and 6, and insert the element '99' at index 5. Print the modified list.\n",
    "\n",
    "### Assignment 12: List Zipping\n",
    "\n",
    "Create two lists of the same length. Use the `zip` function to combine these lists into a list of tuples and print the result.\n",
    "\n",
    "### Assignment 13: List Reversal\n",
    "\n",
    "Write a function that takes a list and returns a new list with the elements in reverse order. Print the original and reversed lists.\n",
    "\n",
    "### Assignment 14: List Rotation\n",
    "\n",
    "Write a function that rotates a list by n positions. Print the original and rotated lists.\n",
    "\n",
    "### Assignment 15: List Intersection\n",
    "\n",
    "Write a function that takes two lists and returns a new list containing only the elements that are present in both lists. Print the intersected list."
   ]
  },
  {
   "cell_type": "code",
   "execution_count": 2,
   "metadata": {},
   "outputs": [
    {
     "name": "stdout",
     "output_type": "stream",
     "text": [
      "[1, 2, 3, 4, 5, 6, 7, 8, 9, 10, 11, 12, 13, 14, 15, 16, 17, 18, 19, 20]\n"
     ]
    }
   ],
   "source": [
    "# Create a list of the first 20 positive integers. Print the list.\n",
    "\n",
    "num=[x for x in range(1,21)]\n",
    "print(num)"
   ]
  },
  {
   "cell_type": "code",
   "execution_count": 5,
   "id": "1a81f101",
   "metadata": {},
   "outputs": [
    {
     "name": "stdout",
     "output_type": "stream",
     "text": [
      "First element: 1\n",
      "Middle element: 11\n",
      "Last element: 20\n"
     ]
    }
   ],
   "source": [
    "\n",
    "# Print the first, middle, and last elements of the list created in Assignment 1.\n",
    "\n",
    "print(\"First element:\", num[0])\n",
    "print(\"Middle element:\", num[len(num) // 2])\n",
    "print(\"Last element:\", num[-1])"
   ]
  },
  {
   "cell_type": "code",
   "execution_count": 6,
   "id": "bd37e974",
   "metadata": {},
   "outputs": [
    {
     "name": "stdout",
     "output_type": "stream",
     "text": [
      "[1, 2, 3, 4, 5]\n",
      "[16, 17, 18, 19, 20]\n",
      "[6, 7, 8, 9, 10, 11, 12, 13, 14, 15]\n"
     ]
    }
   ],
   "source": [
    "# Print the first five elements, the last five elements, and the elements from index 5 to 15 of the list created in Assignment 1.\n",
    "\n",
    "print(num[:5])\n",
    "print(num[-5:])\n",
    "print(num[5:15])"
   ]
  },
  {
   "cell_type": "code",
   "execution_count": 7,
   "id": "7f65c4cd",
   "metadata": {},
   "outputs": [
    {
     "data": {
      "text/plain": [
       "[0, 1, 4, 9, 16, 25, 36, 49, 64, 81, 100]"
      ]
     },
     "execution_count": 7,
     "metadata": {},
     "output_type": "execute_result"
    }
   ],
   "source": [
    "\n",
    "# Create a new list containing the squares of the first 10 positive integers using a list comprehension. Print the new list.\n",
    "\n",
    "lst=[x**2 for x in range(11)]\n",
    "lst"
   ]
  },
  {
   "cell_type": "code",
   "execution_count": 8,
   "id": "9673e978",
   "metadata": {},
   "outputs": [
    {
     "data": {
      "text/plain": [
       "[0, 2, 4, 6, 8, 10, 12, 14, 16, 18, 20]"
      ]
     },
     "execution_count": 8,
     "metadata": {},
     "output_type": "execute_result"
    }
   ],
   "source": [
    "\n",
    "# Create a new list containing only the even numbers from the list created in Assignment 1 using a list comprehension. Print the new list.\n",
    "\n",
    "num = [x for x in range(21) if x%2==0]\n",
    "num"
   ]
  },
  {
   "cell_type": "code",
   "execution_count": 9,
   "id": "35e0626c",
   "metadata": {},
   "outputs": [
    {
     "name": "stdout",
     "output_type": "stream",
     "text": [
      "[71, 31, 2, 64, 90, 49, 58, 54, 97, 50]\n",
      "[2, 31, 49, 50, 54, 58, 64, 71, 90, 97]\n",
      "[97, 90, 71, 64, 58, 54, 50, 49, 31, 2]\n",
      "[64, 97, 2, 58, 71, 49, 50, 54, 90, 31]\n"
     ]
    }
   ],
   "source": [
    "\n",
    "# Create a list of random numbers and sort it in ascending and descending order.\n",
    "#  Remove the duplicates from the list and print the modified list.\n",
    "\n",
    "#  Use the random library to generate the random numbers.\n",
    "import random\n",
    "#  Generate a list of 10 random numbers between 1 and 100.\n",
    "random_numbers = [random.randint(1, 100) for _ in range(10)]\n",
    "print(random_numbers)\n",
    "#  Sort the list in ascending order.\n",
    "random_numbers.sort()\n",
    "print(random_numbers)\n",
    "#  Sort the list in descending order.\n",
    "random_numbers.sort(reverse=True)\n",
    "print(random_numbers)\n",
    "#  Remove duplicates from the list by converting it to a set.\n",
    "random_numbers = list(set(random_numbers))\n",
    "#  Print the modified list.\n",
    "print(random_numbers)"
   ]
  },
  {
   "cell_type": "code",
   "execution_count": null,
   "id": "cfa31527",
   "metadata": {},
   "outputs": [
    {
     "name": "stdout",
     "output_type": "stream",
     "text": [
      "Original Matrix:\n",
      "[1, 2, 3]\n",
      "[4, 5, 6]\n",
      "[7, 8, 9]\n",
      "Element at (1, 2): 6\n"
     ]
    }
   ],
   "source": [
    "# Create a nested list representing a 3x3 matrix and print the matrix. \n",
    "# Access and print the element at the second row and third column.\n",
    "matrix = [[1, 2, 3], [4, 5, 6],\n",
    "          [7, 8, 9]]\n",
    "print(\"Original Matrix:\")\n",
    "for row in matrix:\n",
    "    print(row)\n",
    "\n",
    "# Access and print the element at the second row and third column.\n",
    "print(\"Element at (1, 2):\", matrix[1][2])  # Not"
   ]
  },
  {
   "cell_type": "code",
   "execution_count": 11,
   "id": "7002b59c",
   "metadata": {},
   "outputs": [
    {
     "name": "stdout",
     "output_type": "stream",
     "text": [
      "[{'name': 'Bob', 'score': 95}, {'name': 'John', 'score': 90}, {'name': 'Alice', 'score': 85}, {'name': 'Charlie', 'score': 80}]\n"
     ]
    }
   ],
   "source": [
    "# Create a list of dictionaries where each dictionary represents a student with keys 'name' and 'score'. Sort the list of dictionaries by the 'score' in descending order and print the sorted list.\n",
    "\n",
    "students = [{'name': 'John', 'score': 90}, {'name': 'Alice',\n",
    "            'score': 85}, {'name': 'Bob', 'score': 95}, \n",
    "            {'name': 'Charlie', 'score': 80}]\n",
    "# Sort the list of dictionaries by the 'score' in descending order\n",
    "students.sort(key=lambda x: x['score'], reverse=True)\n",
    "# Print the sorted list of dictionaries\n",
    "print(students)"
   ]
  },
  {
   "cell_type": "code",
   "execution_count": 14,
   "id": "18db4e94",
   "metadata": {},
   "outputs": [
    {
     "name": "stdout",
     "output_type": "stream",
     "text": [
      "Result matrix is\n",
      "1  2  3  \n",
      "1  2  3  \n",
      "1  2  3  \n"
     ]
    }
   ],
   "source": [
    "\n",
    "#Write a function that takes a 3x3 matrix (nested list) as input and returns its transpose. Print the original and transposed matrices.\n",
    "\n",
    "def transpose(a,b):\n",
    "    for i in range(3):\n",
    "        for j in range(3):\n",
    "            b[j][i] = a[i][j]\n",
    "    \n",
    "    return a\n",
    "\n",
    "a = [ [1, 1, 1], \n",
    " [2, 2, 2], \n",
    " [3, 3, 3]] \n",
    " \n",
    " \n",
    "# To store result \n",
    "b = [[0 for x in range(3)] for y in range(3)] \n",
    " \n",
    "transpose(a, b) \n",
    " \n",
    "print(\"Result matrix is\") \n",
    "for i in range(3): \n",
    " for j in range(3): \n",
    "  print(b[i][j], \" \", end='') \n",
    " print() "
   ]
  },
  {
   "cell_type": "code",
   "execution_count": 16,
   "id": "b11ac255",
   "metadata": {},
   "outputs": [
    {
     "name": "stdout",
     "output_type": "stream",
     "text": [
      "[1, 2, 3, 4, 5, 6]\n"
     ]
    }
   ],
   "source": [
    "# Write a function that takes a nested list and flattens it into a single list. Print the original and flattened lists.\n",
    "\n",
    "# The function should be able to handle lists of varying depths.\n",
    "def flatten_list(nested_list):\n",
    "    # Initialize an empty list to store the flattened elements\n",
    "    flattened_list = [item for sublist in nested_list for item in sublist]\n",
    "    print(flattened_list)\n",
    "\n",
    "a = [[1, 2], [3, 4], [5, 6]]\n",
    "flatten_list(a)"
   ]
  },
  {
   "cell_type": "code",
   "execution_count": 18,
   "id": "8ac16904",
   "metadata": {},
   "outputs": [
    {
     "name": "stdout",
     "output_type": "stream",
     "text": [
      "[1, 2, 3, 4, 5, 6, 7, 8, 9, 10]\n",
      "[1, 2, 4, 6, 8, 99, 9, 10]\n"
     ]
    }
   ],
   "source": [
    "# Create a list of the first 10 positive integers. \n",
    "# Remove the elements at indices 2, 4, and 6, and insert the element '99' at index 5.\n",
    "#  Print the modified list.\n",
    "\n",
    "num=[x for x in range(1,11)]\n",
    "print(num)\n",
    "del num[2:7:2]\n",
    "num.insert(5,99)\n",
    "print(num)"
   ]
  },
  {
   "cell_type": "code",
   "execution_count": 21,
   "id": "52511dbd",
   "metadata": {},
   "outputs": [
    {
     "name": "stdout",
     "output_type": "stream",
     "text": [
      "(('Tarun', 20), ('Sonu', 22), ('Mayank', 19))\n"
     ]
    }
   ],
   "source": [
    "\n",
    "# Create two lists of the same length. Use the `zip` function to combine these lists into a list of tuples and print the result.\n",
    "\n",
    "name=[\"Tarun\",\"Sonu\",\"Mayank\"]\n",
    "age=[20,22,19]\n",
    "\n",
    "result=zip(name,age)\n",
    "print(tuple(result))"
   ]
  },
  {
   "cell_type": "code",
   "execution_count": 23,
   "id": "9b9bb740",
   "metadata": {},
   "outputs": [
    {
     "name": "stdout",
     "output_type": "stream",
     "text": [
      "Original List: [1, 2, 4, 6, 8, 99, 9, 10]\n",
      "Reversed List: [10, 9, 99, 8, 6, 4, 2, 1]\n"
     ]
    }
   ],
   "source": [
    "# Write a function that takes a list and returns a new list with the elements in reverse order. Print the original and reversed lists.\n",
    "\n",
    "def reverselist(numbers):\n",
    "    # Create a copy of the original list\n",
    "    original_list = numbers.copy()\n",
    "    # Reverse the list\n",
    "    reversed_list = numbers[::-1]\n",
    "    # Print the original and reversed lists\n",
    "    print(\"Original List:\", original_list)\n",
    "    print(\"Reversed List:\", reversed_list)\n",
    "\n",
    "reverselist(num)"
   ]
  },
  {
   "cell_type": "code",
   "execution_count": 24,
   "id": "cf5c7155",
   "metadata": {},
   "outputs": [
    {
     "name": "stdout",
     "output_type": "stream",
     "text": [
      "Original List: [1, 2, 4, 6, 8, 99, 9, 10]\n",
      "Rotated List: [6, 8, 99, 9, 10, 1, 2, 4]\n"
     ]
    }
   ],
   "source": [
    "# Write a function that rotates a list by n positions. Print the original and rotated lists.\n",
    "\n",
    "def rotate_list(input_list, n):\n",
    "    # Create a copy of the input list to avoid modifying the original list\n",
    "    original_list = input_list.copy()\n",
    "    # Calculate the effective rotation positions by taking the modulus of n with the length of the list\n",
    "    effective_n = n % len(input_list)\n",
    "    # Rotate the list using list slicing\n",
    "    rotated_list = input_list[-effective_n:] + input_list[:-effective_n]\n",
    "    print(\"Original List:\", original_list)\n",
    "    print(\"Rotated List:\", rotated_list)\n",
    "\n",
    "rotate_list(num,5)"
   ]
  },
  {
   "cell_type": "code",
   "execution_count": 25,
   "id": "b99fdea1",
   "metadata": {},
   "outputs": [
    {
     "name": "stdout",
     "output_type": "stream",
     "text": [
      "[10, 11, 12, 13, 14]\n"
     ]
    }
   ],
   "source": [
    "# Write a function that takes two lists and returns a new list containing only the elements that are present in both lists. Print the intersected list.\n",
    "\n",
    "def intersect(l1,l2):\n",
    "    intersected_list = [value for value in l1 if value in l2]\n",
    "    print(intersected_list)\n",
    "\n",
    "num1=[x for x in range(5,15)]\n",
    "num2=[x for x in range(10,20)]\n",
    "intersect(num1,num2)"
   ]
  }
 ],
 "metadata": {
  "kernelspec": {
   "display_name": "Python 3",
   "language": "python",
   "name": "python3"
  },
  "language_info": {
   "codemirror_mode": {
    "name": "ipython",
    "version": 3
   },
   "file_extension": ".py",
   "mimetype": "text/x-python",
   "name": "python",
   "nbconvert_exporter": "python",
   "pygments_lexer": "ipython3",
   "version": "3.12.0"
  }
 },
 "nbformat": 4,
 "nbformat_minor": 5
}
