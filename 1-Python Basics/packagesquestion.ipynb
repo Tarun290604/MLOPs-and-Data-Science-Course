{
 "cells": [
  {
   "cell_type": "markdown",
   "metadata": {},
   "source": [
    "# Module 5: Modules and Packages Assignments\n",
    "## Lesson 5.1: Importing Modules\n",
    "### Assignment 1: Importing and Using Modules\n",
    "\n",
    "Import the `math` module and use it to calculate the square root of 25 and the sine of 90 degrees.\n",
    "\n",
    "### Assignment 2: Aliasing Modules\n",
    "\n",
    "Import the `datetime` module with an alias and use it to print the current date and time.\n",
    "\n",
    "### Assignment 3: Importing Specific Functions\n",
    "\n",
    "Import the `randint` function from the `random` module and use it to generate a random integer between 1 and 100.\n",
    "\n",
    "### Assignment 4: Importing Multiple Functions\n",
    "\n",
    "Import the `sqrt` and `pow` functions from the `math` module and use them to calculate the square root of 16 and 2 raised to the power of 3.\n",
    "\n",
    "### Assignment 5: Handling Import Errors\n",
    "\n",
    "Write code that attempts to import a non-existent module and gracefully handles the import error by printing an error message.\n",
    "\n",
    "## Lesson 5.2: Standard Library Overview\n",
    "### Assignment 6: Working with the `os` Module\n",
    "\n",
    "Use the `os` module to create a new directory, list the contents of the current directory, and remove the newly created directory.\n",
    "\n",
    "### Assignment 7: Working with the `sys` Module\n",
    "\n",
    "Use the `sys` module to print the Python version currently in use and the command-line arguments passed to the script.\n",
    "\n",
    "### Assignment 8: Working with the `math` Module\n",
    "\n",
    "Use the `math` module to calculate the greatest common divisor (GCD) of two numbers and the factorial of a number.\n",
    "\n",
    "### Assignment 9: Working with the `datetime` Module\n",
    "\n",
    "Use the `datetime` module to print the current date, calculate the date 100 days from today, and determine the day of the week for a given date.\n",
    "\n",
    "### Assignment 10: Working with the `random` Module\n",
    "\n",
    "Use the `random` module to generate a list of 5 random numbers between 1 and 50 and shuffle the elements of a list.\n",
    "\n",
    "## Lesson 5.3: Creating and Using Packages\n",
    "### Assignment 11: Creating a Simple Package\n",
    "\n",
    "Create a package named `mypackage` with two modules: `module1` and `module2`. `module1` should contain a function that adds two numbers, and `module2` should contain a function that multiplies two numbers. Write code to use these functions.\n",
    "\n",
    "### Assignment 12: Using `__init__.py`\n",
    "\n",
    "Modify the `mypackage` package to include an `__init__.py` file that imports the functions from `module1` and `module2`. Write code to use these functions.\n",
    "\n",
    "### Assignment 13: Importing from a Package\n",
    "\n",
    "Write code to import and use the functions from `mypackage` without explicitly importing `module1` and `module2`.\n",
    "\n",
    "### Assignment 14: Relative Imports\n",
    "\n",
    "Create a subpackage named `subpackage` within `mypackage` and move `module2` into `subpackage`. Modify the import statements in `__init__.py` to use relative imports. Write code to use the functions from both modules.\n",
    "\n",
    "### Assignment 15: Handling Package Import Errors\n",
    "\n",
    "Write code that attempts to import a non-existent function from `mypackage` and gracefully handles the import error by printing an error message."
   ]
  },
  {
   "cell_type": "markdown",
   "id": "03adf0e3",
   "metadata": {},
   "source": [
    "Import the `math` module and use it to calculate the square root of 25 and the sine of 90 degrees."
   ]
  },
  {
   "cell_type": "code",
   "execution_count": 2,
   "id": "a5de7e67",
   "metadata": {},
   "outputs": [
    {
     "name": "stdout",
     "output_type": "stream",
     "text": [
      "5.0\n",
      "0.8939966636005579\n"
     ]
    }
   ],
   "source": [
    "from math import sqrt,sin\n",
    "\n",
    "print(sqrt(25))\n",
    "print(sin(90))"
   ]
  },
  {
   "cell_type": "markdown",
   "id": "168ba40c",
   "metadata": {},
   "source": [
    "Import the `datetime` module with an alias and use it to print the current date and time."
   ]
  },
  {
   "cell_type": "code",
   "execution_count": 3,
   "id": "54bc5f93",
   "metadata": {},
   "outputs": [
    {
     "name": "stdout",
     "output_type": "stream",
     "text": [
      "2025-03-07 08:41:44.014646\n"
     ]
    }
   ],
   "source": [
    "import datetime \n",
    "\n",
    "now = datetime.datetime.now()\n",
    "print(now)  # prints the current date and time"
   ]
  },
  {
   "cell_type": "markdown",
   "id": "c396e40b",
   "metadata": {},
   "source": [
    "### Assignment 3: Importing Specific Functions\n",
    "\n",
    "Import the `randint` function from the `random` module and use it to generate a random integer between 1 and 100."
   ]
  },
  {
   "cell_type": "code",
   "execution_count": 5,
   "id": "1a715801",
   "metadata": {},
   "outputs": [
    {
     "name": "stdout",
     "output_type": "stream",
     "text": [
      "79\n"
     ]
    }
   ],
   "source": [
    "from random import randint\n",
    "\n",
    "print(randint(1,100))"
   ]
  },
  {
   "cell_type": "markdown",
   "id": "8c8d6a20",
   "metadata": {},
   "source": [
    "\n",
    "### Assignment 4: Importing Multiple Functions\n",
    "\n",
    "Import the `sqrt` and `pow` functions from the `math` module and use them to calculate the square root of 16 and 2 raised to the power of 3."
   ]
  },
  {
   "cell_type": "code",
   "execution_count": 7,
   "id": "0bd9cd1e",
   "metadata": {},
   "outputs": [
    {
     "name": "stdout",
     "output_type": "stream",
     "text": [
      "4.0\n",
      "8.0\n"
     ]
    }
   ],
   "source": [
    "from math import sqrt, pow\n",
    "\n",
    "print(sqrt(16))\n",
    "print(pow(2,3))"
   ]
  },
  {
   "cell_type": "code",
   "execution_count": 9,
   "id": "0a050f67",
   "metadata": {},
   "outputs": [
    {
     "name": "stdout",
     "output_type": "stream",
     "text": [
      "Error: The module 'nonexistent_module' could not be found. Please check the module name or installation.\n"
     ]
    }
   ],
   "source": [
    "# Write code that attempts to import a non-existent module and gracefully handles the import error by printing an error message.\n",
    "\n",
    "try:\n",
    "    import x  # This module does not exist\n",
    "except ImportError:\n",
    "    print(\"Error: The module 'nonexistent_module' could not be found. Please check the module name or installation.\")\n"
   ]
  },
  {
   "cell_type": "code",
   "execution_count": 11,
   "id": "d34a9e77",
   "metadata": {},
   "outputs": [
    {
     "name": "stdout",
     "output_type": "stream",
     "text": [
      "['new_directory', 'packagesquestion.ipynb', 'packagessolution.ipynb']\n",
      "['packagesquestion.ipynb', 'packagessolution.ipynb']\n"
     ]
    }
   ],
   "source": [
    "# Use the `os` module to create a new directory, list the contents of the current directory, and remove the newly created directory.\n",
    "import os\n",
    "# Create a new directory\n",
    "os.mkdir('new_directory')\n",
    "# List the contents of the current directory\n",
    "print(os.listdir())\n",
    "# Remove the newly created directory\n",
    "try:\n",
    "    os.rmdir('new_directory')\n",
    "except FileNotFoundError:\n",
    "    print(\"The directory does not exist.\")\n",
    "\n",
    "print(os.listdir())"
   ]
  },
  {
   "cell_type": "code",
   "execution_count": 12,
   "id": "f7066a0d",
   "metadata": {},
   "outputs": [
    {
     "name": "stdout",
     "output_type": "stream",
     "text": [
      "Python Version: 3.12.0 | packaged by Anaconda, Inc. | (main, Oct  2 2023, 17:20:38) [MSC v.1916 64 bit (AMD64)]\n",
      "Command-Line Arguments: ['C:\\\\Users\\\\Tarunkumar k\\\\AppData\\\\Roaming\\\\Python\\\\Python312\\\\site-packages\\\\ipykernel_launcher.py', '--f=\"c:\\\\Users\\\\Tarunkumar k\\\\AppData\\\\Roaming\\\\jupyter\\\\runtime\\\\kernel-v38b8c6ab52405d8e20147c471bb9ebd3c78bff58a.json\"']\n"
     ]
    }
   ],
   "source": [
    "### Assignment 7: Working with the `sys` Module\n",
    "\n",
    "# Use the `sys` module to print the Python version currently in use and the command-line arguments passed to the script.\n",
    "\n",
    "import sys\n",
    "print(\"Python Version:\", sys.version)\n",
    "print(\"Command-Line Arguments:\", sys.argv)"
   ]
  },
  {
   "cell_type": "code",
   "execution_count": 14,
   "id": "4d6be5b1",
   "metadata": {},
   "outputs": [
    {
     "name": "stdout",
     "output_type": "stream",
     "text": [
      "The GCD of 48 and 18 is: 6\n",
      "The factorial of 48 is: 12413915592536072670862289047373375038521486354677760000000000\n"
     ]
    }
   ],
   "source": [
    "### Assignment 8: Working with the `math` Module\n",
    "\n",
    "# Use the `math` module to calculate the greatest common divisor (GCD) of two numbers and the factorial of a number.\n",
    "import math\n",
    "# Define two numbers\n",
    "num1 = 48\n",
    "num2 = 18\n",
    "# Calculate the GCD of num1 and num2 using the `math.gcd()` function\n",
    "gcd = math.gcd(num1, num2)\n",
    "# Calculate the factorial of num1 using the `math.factorial()` function\n",
    "factorial = math.factorial(num1)\n",
    "# Print the results\n",
    "print(f\"The GCD of {num1} and {num2} is: {gcd}\")\n",
    "print(f\"The factorial of {num1} is: {factorial}\")"
   ]
  },
  {
   "cell_type": "code",
   "execution_count": 17,
   "id": "1dac0501",
   "metadata": {},
   "outputs": [
    {
     "name": "stdout",
     "output_type": "stream",
     "text": [
      "2025-03-07 08:57:05\n",
      "2025-06-15 08:57:05.141376\n",
      "Friday\n",
      "Sunday\n"
     ]
    }
   ],
   "source": [
    "# Use the `datetime` module to print the current date, calculate the date 100 days from today, and determine the day of the week for a given date.\n",
    "\n",
    "import datetime\n",
    "now = datetime.datetime.now()\n",
    "print(now.strftime(\"%Y-%m-%d %H:%M:%S\"))\n",
    "x= now + datetime.timedelta(days=100)\n",
    "print(x)\n",
    "print(now.strftime(\"%A\"))\n",
    "print(x.strftime(\"%A\"))\n"
   ]
  },
  {
   "cell_type": "code",
   "execution_count": 24,
   "id": "9bc6fb8f",
   "metadata": {},
   "outputs": [
    {
     "name": "stdout",
     "output_type": "stream",
     "text": [
      "[30, 5, 13, 42, 50]\n",
      "[30, 5, 42, 13, 50]\n"
     ]
    }
   ],
   "source": [
    "# Use the `random` module to generate a list of 5 random numbers between 1 and 50 and shuffle the elements of a list.\n",
    "\n",
    "import random\n",
    "\n",
    "ls=[]\n",
    "for x in range(5):\n",
    "    ls.append(random.randint(1,50))\n",
    "\n",
    "print(ls)\n",
    "random.shuffle(ls)\n",
    "print(ls)\n"
   ]
  },
  {
   "cell_type": "code",
   "execution_count": 26,
   "id": "352e0368",
   "metadata": {},
   "outputs": [
    {
     "name": "stdout",
     "output_type": "stream",
     "text": [
      "Random numbers: [48, 18, 38, 8, 35]\n",
      "Shuffled list: [8, 18, 35, 38, 48]\n"
     ]
    }
   ],
   "source": [
    "import random\n",
    "\n",
    "# Generate a list of 5 random numbers between 1 and 50\n",
    "random_numbers = [random.randint(1, 50) for _ in range(5)]\n",
    "print(\"Random numbers:\", random_numbers)\n",
    "\n",
    "random.shuffle(random_numbers)\n",
    "print(\"Shuffled list:\", random_numbers)\n"
   ]
  },
  {
   "cell_type": "markdown",
   "id": "d96a5467",
   "metadata": {},
   "source": [
    "\n",
    "Create a package named `mypackage` with two modules: `module1` and `module2`. `module1` should contain a function that adds two numbers, and `module2` should contain a function that multiplies two numbers. Write code to use these functions."
   ]
  },
  {
   "cell_type": "code",
   "execution_count": 31,
   "id": "fb72362f",
   "metadata": {},
   "outputs": [],
   "source": [
    "# from mypackage.module1 import add\n",
    "# from mypackage.module2 import mul\n",
    "\n",
    "# print(add(6,5))\n",
    "# print(mul(6,5))"
   ]
  },
  {
   "cell_type": "code",
   "execution_count": null,
   "id": "a7291e78",
   "metadata": {},
   "outputs": [],
   "source": []
  }
 ],
 "metadata": {
  "kernelspec": {
   "display_name": "Python 3",
   "language": "python",
   "name": "python3"
  },
  "language_info": {
   "codemirror_mode": {
    "name": "ipython",
    "version": 3
   },
   "file_extension": ".py",
   "mimetype": "text/x-python",
   "name": "python",
   "nbconvert_exporter": "python",
   "pygments_lexer": "ipython3",
   "version": "3.12.0"
  }
 },
 "nbformat": 4,
 "nbformat_minor": 5
}
