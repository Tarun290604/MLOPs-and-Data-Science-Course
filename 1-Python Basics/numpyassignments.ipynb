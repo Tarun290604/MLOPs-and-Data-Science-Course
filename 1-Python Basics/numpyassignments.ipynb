{
 "cells": [
  {
   "cell_type": "markdown",
   "metadata": {},
   "source": [
    "# Module: NumPy Assignments\n",
    "## Lesson: NumPy\n",
    "### Assignment 1: Array Creation and Manipulation\n",
    "\n",
    "1. Create a NumPy array of shape (5, 5) filled with random integers between 1 and 20. Replace all the elements in the third column with 1.\n",
    "2. Create a NumPy array of shape (4, 4) with values from 1 to 16. Replace the diagonal elements with 0.\n",
    "\n",
    "### Assignment 2: Array Indexing and Slicing\n",
    "\n",
    "1. Create a NumPy array of shape (6, 6) with values from 1 to 36. Extract the sub-array consisting of the 3rd to 5th rows and 2nd to 4th columns.\n",
    "2. Create a NumPy array of shape (5, 5) with random integers. Extract the elements on the border.\n",
    "\n",
    "### Assignment 3: Array Operations\n",
    "\n",
    "1. Create two NumPy arrays of shape (3, 4) filled with random integers. Perform element-wise addition, subtraction, multiplication, and division.\n",
    "2. Create a NumPy array of shape (4, 4) with values from 1 to 16. Compute the row-wise and column-wise sum.\n",
    "\n",
    "### Assignment 4: Statistical Operations\n",
    "\n",
    "1. Create a NumPy array of shape (5, 5) filled with random integers. Compute the mean, median, standard deviation, and variance of the array.\n",
    "2. Create a NumPy array of shape (3, 3) with values from 1 to 9. Normalize the array (i.e., scale the values to have a mean of 0 and a standard deviation of 1).\n",
    "\n",
    "### Assignment 5: Broadcasting\n",
    "\n",
    "1. Create a NumPy array of shape (3, 3) filled with random integers. Add a 1D array of shape (3,) to each row of the 2D array using broadcasting.\n",
    "2. Create a NumPy array of shape (4, 4) filled with random integers. Subtract a 1D array of shape (4,) from each column of the 2D array using broadcasting.\n",
    "\n",
    "### Assignment 6: Linear Algebra\n",
    "\n",
    "1. Create a NumPy array of shape (3, 3) representing a matrix. Compute its determinant, inverse, and eigenvalues.\n",
    "2. Create two NumPy arrays of shape (2, 3) and (3, 2). Perform matrix multiplication on these arrays.\n",
    "\n",
    "### Assignment 7: Advanced Array Manipulation\n",
    "\n",
    "1. Create a NumPy array of shape (3, 3) with values from 1 to 9. Reshape the array to shape (1, 9) and then to shape (9, 1).\n",
    "2. Create a NumPy array of shape (5, 5) filled with random integers. Flatten the array and then reshape it back to (5, 5).\n",
    "\n",
    "### Assignment 8: Fancy Indexing and Boolean Indexing\n",
    "\n",
    "1. Create a NumPy array of shape (5, 5) filled with random integers. Use fancy indexing to extract the elements at the corners of the array.\n",
    "2. Create a NumPy array of shape (4, 4) filled with random integers. Use boolean indexing to set all elements greater than 10 to 10.\n",
    "\n",
    "### Assignment 9: Structured Arrays\n",
    "\n",
    "1. Create a structured array with fields 'name' (string), 'age' (integer), and 'weight' (float). Add some data and sort the array by age.\n",
    "2. Create a structured array with fields 'x' and 'y' (both integers). Add some data and compute the Euclidean distance between each pair of points.\n",
    "\n",
    "### Assignment 10: Masked Arrays\n",
    "\n",
    "1. Create a masked array of shape (4, 4) with random integers and mask the elements greater than 10. Compute the sum of the unmasked elements.\n",
    "2. Create a masked array of shape (3, 3) with random integers and mask the diagonal elements. Replace the masked elements with the mean of the unmasked elements."
   ]
  },
  {
   "cell_type": "code",
   "execution_count": 1,
   "metadata": {},
   "outputs": [],
   "source": [
    "import numpy as np"
   ]
  },
  {
   "cell_type": "code",
   "execution_count": 10,
   "id": "6828b406",
   "metadata": {},
   "outputs": [
    {
     "name": "stdout",
     "output_type": "stream",
     "text": [
      "[[ 6  5  1 18  7]\n",
      " [11  4  1  2  9]\n",
      " [ 8 12  1 15 12]\n",
      " [ 1  2  1  5 17]\n",
      " [ 1  9  1  3 15]]\n",
      "[[14  5  1 20 17]\n",
      " [ 1 18  1  2 14]\n",
      " [17 20  1  1 17]\n",
      " [ 9  1  1  8  5]\n",
      " [ 9 12  1 10 15]]\n",
      "[[ 0  2  3  4]\n",
      " [ 5  0  7  8]\n",
      " [ 9 10  0 12]\n",
      " [13 14 15  0]]\n"
     ]
    }
   ],
   "source": [
    "# 1. Create a NumPy array of shape (5, 5) filled with random integers between 1 and 20. Replace all the elements in the third column with 1.\n",
    "# 2. Create a NumPy array of shape (4, 4) with values from 1 to 16. Replace the diagonal elements with 0.\n",
    "\n",
    "import random\n",
    "x= [random.randint(1,20) for x in range(5) for y in range(5)]\n",
    "x = np.array(x).reshape(5,5)\n",
    "x[:,2]=1\n",
    "print(x)\n",
    "\n",
    "arr1= np.random.randint(1, 21, size=(5, 5))\n",
    "\n",
    "# Replace all elements in the third column (index 2) with 1\n",
    "arr1[:, 2] = 1\n",
    "print(arr1)\n",
    "\n",
    "arr = np.arange(1, 17).reshape(4, 4)\n",
    "np.fill_diagonal(arr, 0)\n",
    "print(arr)"
   ]
  },
  {
   "cell_type": "code",
   "execution_count": 28,
   "id": "f34e11d8",
   "metadata": {},
   "outputs": [
    {
     "name": "stdout",
     "output_type": "stream",
     "text": [
      "[[14 15 16]\n",
      " [20 21 22]\n",
      " [26 27 28]]\n",
      "[[1 1 5 7 4]\n",
      " [4 7 6 2 5]\n",
      " [2 6 3 6 4]\n",
      " [9 0 3 0 8]\n",
      " [9 0 9 9 4]]\n",
      "[1 1 5 7 4]\n",
      "[1 4 2 9 9]\n",
      "[4 5 4 8 4]\n",
      "[9 0 9 9 4]\n"
     ]
    }
   ],
   "source": [
    "\n",
    "# 1. Create a NumPy array of shape (6, 6) with values from 1 to 36. Extract the sub-array consisting of the 3rd to 5th rows and 2nd to 4th columns.\n",
    "# # 2. Create a NumPy array of shape (5, 5) with random integers. Extract the elements on the border.\n",
    "z=np.arange(1,37).reshape(6,6)\n",
    "print(z[2:5,1:4])\n",
    "a=np.random.randint(0,10,size=(5,5))\n",
    "print(a)\n",
    "print(a[0,0:5])\n",
    "print(a[0:5,0])\n",
    "print(a[0:5,4])\n",
    "print(a[4,0:5])"
   ]
  },
  {
   "cell_type": "code",
   "execution_count": 30,
   "id": "0be7f43c",
   "metadata": {},
   "outputs": [
    {
     "name": "stdout",
     "output_type": "stream",
     "text": [
      "[[106 129  16  61]\n",
      " [ 88 149  72  18]\n",
      " [117 111  51  41]]\n",
      "[[-42  57  14 -31]\n",
      " [ 38 -11  50 -18]\n",
      " [-33 -69  31  29]]\n",
      "[[2368 3348   15  690]\n",
      " [1575 5520  671    0]\n",
      " [3150 1890  410  210]]\n",
      "[[ 0.43243243  2.58333333 15.          0.32608696]\n",
      " [ 2.52        0.8625      5.54545455  0.        ]\n",
      " [ 0.56        0.23333333  4.1         5.83333333]]\n",
      "[28 32 36 40]\n",
      "[10 26 42 58]\n"
     ]
    }
   ],
   "source": [
    "\n",
    "# 1. Create two NumPy arrays of shape (3, 4) filled with random integers. Perform element-wise addition, subtraction, multiplication, and division.\n",
    "\n",
    "a=np.random.randint(0,100,size=(3,4))\n",
    "b=np.random.randint(0,100,size=(3,4))\n",
    "print(a+b)\n",
    "print(a-b)\n",
    "print(a*b)\n",
    "print(a/b)\n",
    "\n",
    "# 2. Create a NumPy array of shape (4, 4) with values from 1 to 16. Compute the row-wise and column-wise sum.\n",
    "arr=np.arange(1,17).reshape(4,4)\n",
    "print(arr.sum(axis=0))\n",
    "print(arr.sum(axis=1))"
   ]
  },
  {
   "cell_type": "code",
   "execution_count": null,
   "id": "46b7b670",
   "metadata": {},
   "outputs": [
    {
     "name": "stdout",
     "output_type": "stream",
     "text": [
      "[[33 30 22 14 21]\n",
      " [30  5 14 12 17]\n",
      " [20 23 38 22  3]\n",
      " [41 31 36 37 43]\n",
      " [ 3  3 47 44 47]]\n",
      "\n",
      "Mean: 25.44\n",
      "Median: 23.0\n",
      "Standard Deviation: 13.96876515659133\n",
      "Variance: 195.1264\n"
     ]
    }
   ],
   "source": [
    "# 1. Create a NumPy array of shape (5, 5) filled with random integers. Compute the mean, median, standard deviation, and variance of the array.\n",
    "\n",
    "arr=np.random.randint(1,50,size=(5,5))\n",
    "\n",
    "# 2. Compute the mean, median, standard deviation, and variance of the array.\n",
    "mean_value = np.mean(arr)\n",
    "median_value = np.median(arr)\n",
    "std_deviation = np.std(arr)\n",
    "variance_value = np.var(arr)\n",
    "\n",
    "print(arr)\n",
    "print(\"\\nMean:\", mean_value)\n",
    "print(\"Median:\", median_value)\n",
    "print(\"Standard Deviation:\", std_deviation)\n",
    "print(\"Variance:\", variance_value)\n",
    "\n",
    "# 2. Create a NumPy array of shape (3, 3) with values from 1 to 9. Normalize the array (i.e., scale the values to have a mean of 0 and a standard deviation of 1).\n",
    "\n",
    "arr1 = np.arange(1,9).reshape(3,3)\n",
    "print(arr1)\n",
    " "
   ]
  },
  {
   "cell_type": "code",
   "execution_count": 42,
   "id": "59b60e78",
   "metadata": {},
   "outputs": [
    {
     "name": "stdout",
     "output_type": "stream",
     "text": [
      "[[19 12  9]\n",
      " [ 9 42 11]\n",
      " [19  1 27]]\n",
      "[37 37 24]\n",
      "[[56 49 33]\n",
      " [46 79 35]\n",
      " [56 38 51]]\n",
      "[[32  7 32 40]\n",
      " [ 5 10 30 36]\n",
      " [40 48 33 21]\n",
      " [25 31 29 38]]\n",
      "[22 35 40 45]\n",
      "[[ 10 -28  -8  -5]\n",
      " [-17 -25 -10  -9]\n",
      " [ 18  13  -7 -24]\n",
      " [  3  -4 -11  -7]]\n"
     ]
    }
   ],
   "source": [
    "# 1. Create a NumPy array of shape (3, 3) filled with random integers. Add a 1D array of shape (3,) to each row of the 2D array using broadcasting.\n",
    "\n",
    "x = np.random.randint(1,50,size=(3,3))\n",
    "y = np.random.randint(1,50,size=(3,))\n",
    "print(x)\n",
    "print(y)\n",
    "print(x+y)\n",
    "\n",
    "# 2. Create a NumPy array of shape (4, 4) filled with random integers. Subtract a 1D array of shape (4,) from each column of the 2D array using broadcasting.\n",
    "x1 = np.random.randint(1,50,size=(4,4))\n",
    "y1 = np.random.randint(1,50,size=(4,))\n",
    "print(x1)\n",
    "print(y1)\n",
    "print(x1-y1)"
   ]
  },
  {
   "cell_type": "code",
   "execution_count": 47,
   "id": "e37390cb",
   "metadata": {},
   "outputs": [
    {
     "name": "stdout",
     "output_type": "stream",
     "text": [
      "Matrix Z:\n",
      " [[1 2 3]\n",
      " [4 5 6]\n",
      " [7 8 9]]\n",
      "Determinant of Z: 0.0\n",
      "Matrix Z is singular and cannot be inverted.\n",
      "Eigenvalues of Z: [ 1.61168440e+01 -1.11684397e+00 -1.30367773e-15]\n",
      "Matrix multiplication result (x @ y):\n",
      " [[ 52  58]\n",
      " [124 139]]\n"
     ]
    }
   ],
   "source": [
    "# 1. Create a NumPy array of shape (3, 3) representing a matrix. Compute its determinant, inverse, and eigenvalues.\n",
    "# 2. Create two NumPy arrays of shape (2, 3) and (3, 2). Perform matrix multiplication on these arrays.\n",
    "\n",
    "z = np.arange(1, 10).reshape(3, 3)\n",
    "print(\"Matrix Z:\\n\", z)\n",
    "\n",
    "# Determinant\n",
    "det_z = np.linalg.det(z)\n",
    "print(\"Determinant of Z:\", det_z)\n",
    "\n",
    "# Inverse (check if matrix is invertible)\n",
    "if det_z != 0:\n",
    "    inv_z = np.linalg.inv(z)\n",
    "    print(\"Inverse of Z:\\n\", inv_z)\n",
    "else:\n",
    "    print(\"Matrix Z is singular and cannot be inverted.\")\n",
    "\n",
    "# Eigenvalues\n",
    "eigvals_z = np.linalg.eigvals(z)\n",
    "print(\"Eigenvalues of Z:\", eigvals_z)\n",
    "\n",
    "# 2. Create two matrices and perform matrix multiplication\n",
    "x = np.arange(1, 7).reshape(2, 3)   # shape (2, 3)\n",
    "y = np.arange(6, 12).reshape(3, 2)  # shape (3, 2)\n",
    "\n",
    "# Matrix multiplication\n",
    "product = x @ y\n",
    "print(\"Matrix multiplication result (x @ y):\\n\", product)"
   ]
  },
  {
   "cell_type": "code",
   "execution_count": 53,
   "id": "6fde66b0",
   "metadata": {},
   "outputs": [
    {
     "name": "stdout",
     "output_type": "stream",
     "text": [
      "[[1 2 3 4 5 6 7 8 9]]\n",
      "[[1]\n",
      " [2]\n",
      " [3]\n",
      " [4]\n",
      " [5]\n",
      " [6]\n",
      " [7]\n",
      " [8]\n",
      " [9]]\n",
      "[[24 44 29 19 36]\n",
      " [19 27 38 11 20]\n",
      " [ 8 39 25  1 44]\n",
      " [19  8 21 45 40]\n",
      " [ 6 36 27 21 24]]\n",
      "[24 44 29 19 36 19 27 38 11 20  8 39 25  1 44 19  8 21 45 40  6 36 27 21\n",
      " 24]\n",
      "[[24 44 29 19 36]\n",
      " [19 27 38 11 20]\n",
      " [ 8 39 25  1 44]\n",
      " [19  8 21 45 40]\n",
      " [ 6 36 27 21 24]]\n"
     ]
    }
   ],
   "source": [
    "# 1. Create a NumPy array of shape (3, 3) with values from 1 to 9. Reshape the array to shape (1, 9) and then to shape (9, 1).\n",
    "# 2. Create a NumPy array of shape (5, 5) filled with random integers. Flatten the array and then reshape it back to (5, 5).\n",
    "\n",
    "x = np.arange(1,10).reshape(1,9)\n",
    "y=x.reshape(9,1)\n",
    "print(x)\n",
    "print(y)\n",
    "\n",
    "z = np.random.randint(1,50,size=(5,5))\n",
    "print(z)\n",
    "a=z.flatten()\n",
    "print(a)\n",
    "z=a.reshape(5,5)\n",
    "print(z)\n"
   ]
  },
  {
   "cell_type": "code",
   "execution_count": 54,
   "id": "91628196",
   "metadata": {},
   "outputs": [
    {
     "name": "stdout",
     "output_type": "stream",
     "text": [
      "Original (5x5) array:\n",
      " [[14 20  5 18 48]\n",
      " [ 2 17  1 13  3]\n",
      " [27 39 34 29  2]\n",
      " [ 4 30 40 41 19]\n",
      " [ 9 32 11 32 21]]\n",
      "Top-left and Top-right corners: [14 48]\n",
      "Bottom-left and Bottom-right corners: [ 9 21]\n",
      "\n",
      "Original (4x4) array:\n",
      " [[ 4  5 17 49]\n",
      " [32 13 45 21]\n",
      " [33  7  4  1]\n",
      " [ 5  8 11 38]]\n",
      "\n",
      "Modified array (values > 10 set to 10):\n",
      " [[ 4  5 10 10]\n",
      " [10 10 10 10]\n",
      " [10  7  4  1]\n",
      " [ 5  8 10 10]]\n"
     ]
    }
   ],
   "source": [
    "import numpy as np\n",
    "\n",
    "# Task 1: Create (5,5) array and extract corners using fancy indexing\n",
    "x = np.random.randint(1, 50, size=(5, 5))\n",
    "print(\"Original (5x5) array:\\n\", x)\n",
    "\n",
    "# Top-left and top-right\n",
    "print(\"Top-left and Top-right corners:\", x[[0, 0], [0, 4]])\n",
    "\n",
    "# Bottom-left and bottom-right\n",
    "print(\"Bottom-left and Bottom-right corners:\", x[[4, 4], [0, 4]])\n",
    "\n",
    "# Task 2: Boolean indexing on (4,4) array\n",
    "y = np.random.randint(1, 50, size=(4, 4))\n",
    "print(\"\\nOriginal (4x4) array:\\n\", y)\n",
    "\n",
    "# Set all elements > 10 to 10\n",
    "y[y > 10] = 10\n",
    "\n",
    "# Print modified array\n",
    "print(\"\\nModified array (values > 10 set to 10):\\n\", y)\n"
   ]
  },
  {
   "cell_type": "code",
   "execution_count": null,
   "id": "22077796",
   "metadata": {},
   "outputs": [
    {
     "name": "stdout",
     "output_type": "stream",
     "text": [
      "Original array:\n",
      " [('Alice', 25, 55.5) ('Bob', 30, 75. ) ('Charlie', 22, 68.2)\n",
      " ('Diana', 28, 60. )]\n",
      "\n",
      "Array sorted by age:\n",
      " [('Charlie', 22, 68.2) ('Alice', 25, 55.5) ('Diana', 28, 60. )\n",
      " ('Bob', 30, 75. )]\n",
      "\n",
      "Euclidean distances:\n",
      " [[0.         2.82842712 5.65685425 8.48528137]\n",
      " [2.82842712 0.         2.82842712 5.65685425]\n",
      " [5.65685425 2.82842712 0.         2.82842712]\n",
      " [8.48528137 5.65685425 2.82842712 0.        ]]\n"
     ]
    }
   ],
   "source": [
    "dtype = [('name', 'U10'), ('age', 'i4'), ('weight', 'f4')]\n",
    "data = np.array([\n",
    "    ('Alice', 25, 55.5),\n",
    "    ('Bob', 30, 75.0),\n",
    "    ('Charlie', 22, 68.2),\n",
    "    ('Diana', 28, 60.0)\n",
    "], dtype=dtype)\n",
    "print(\"Original array:\\n\", data)\n",
    "\n",
    "sorted_data = np.sort(data, order='age')\n",
    "print(\"\\nArray sorted by age:\\n\", sorted_data)\n",
    "\n",
    "dtype1 = [('x', 'i4'), ('y', 'i4')]\n",
    "data1 = np.array([(1, 2),(3, 4),(5, 6),(7, 8)], dtype=dtype1)\n",
    "\n",
    "coords = np.stack((data1['x'], data1['y']), axis=1)\n",
    "\n",
    "distances = np.linalg.norm(coords[:, None] - coords, axis=2)\n",
    "print(\"\\nEuclidean distances:\\n\", distances)"
   ]
  },
  {
   "cell_type": "code",
   "execution_count": 60,
   "id": "de11bbc6",
   "metadata": {},
   "outputs": [
    {
     "name": "stdout",
     "output_type": "stream",
     "text": [
      "Original (4x4) array:\n",
      " [[ 6  1 14 13]\n",
      " [11 20  3  8]\n",
      " [12 18 14 13]\n",
      " [20 19 11  1]]\n",
      "\n",
      "Masked array (values > 10 are masked):\n",
      " [[6 1 -- --]\n",
      " [-- -- 3 8]\n",
      " [-- -- -- --]\n",
      " [-- -- -- 1]]\n",
      "\n",
      "Sum of unmasked elements: 19\n",
      "\n",
      "Original (3x3) array:\n",
      " [[19 10 12]\n",
      " [ 7  1  2]\n",
      " [14 11  7]]\n",
      "\n",
      "Masked array (diagonal masked):\n",
      " [[-- 10 12]\n",
      " [7 -- 2]\n",
      " [14 11 --]]\n",
      "\n",
      "Masked elements replaced with mean of unmasked elements:\n",
      " [[ 9 10 12]\n",
      " [ 7  9  2]\n",
      " [14 11  9]]\n"
     ]
    }
   ],
   "source": [
    "# 1. Create a masked array of shape (4, 4) with random integers and mask the elements greater than 10. Compute the sum of the unmasked elements.\n",
    "# 2. Create a masked array of shape (3, 3) with random integers and mask the diagonal elements. Replace the masked elements with the mean of the unmasked elements.\n",
    "\n",
    "import numpy.ma as ma\n",
    "\n",
    "# Task 1: Mask elements > 10 and compute sum of unmasked\n",
    "arr1 = np.random.randint(1, 21, size=(4, 4))\n",
    "masked_arr1 = ma.masked_greater(arr1, 10)\n",
    "\n",
    "print(\"Original (4x4) array:\\n\", arr1)\n",
    "print(\"\\nMasked array (values > 10 are masked):\\n\", masked_arr1)\n",
    "print(\"\\nSum of unmasked elements:\", masked_arr1.sum())\n",
    "\n",
    "# Task 2: Mask diagonal and replace masked values with mean of unmasked\n",
    "arr2 = np.random.randint(1, 21, size=(3, 3))\n",
    "masked_arr2 = ma.array(arr2, mask=np.eye(3, dtype=bool))\n",
    "\n",
    "print(\"\\nOriginal (3x3) array:\\n\", arr2)\n",
    "print(\"\\nMasked array (diagonal masked):\\n\", masked_arr2)\n",
    "\n",
    "# Compute mean of unmasked elements\n",
    "mean_unmasked = masked_arr2.mean()\n",
    "\n",
    "# Fill masked values with the mean\n",
    "filled_arr2 = masked_arr2.filled(mean_unmasked)\n",
    "print(\"\\nMasked elements replaced with mean of unmasked elements:\\n\", filled_arr2)"
   ]
  }
 ],
 "metadata": {
  "kernelspec": {
   "display_name": "Python 3",
   "language": "python",
   "name": "python3"
  },
  "language_info": {
   "codemirror_mode": {
    "name": "ipython",
    "version": 3
   },
   "file_extension": ".py",
   "mimetype": "text/x-python",
   "name": "python",
   "nbconvert_exporter": "python",
   "pygments_lexer": "ipython3",
   "version": "3.12.0"
  }
 },
 "nbformat": 4,
 "nbformat_minor": 5
}
