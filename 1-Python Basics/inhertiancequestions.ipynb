{
 "cells": [
  {
   "cell_type": "markdown",
   "metadata": {},
   "source": [
    "# Module: Inheritance Assignments\n",
    "## Lesson: Single and Multiple Inheritance\n",
    "### Assignment 1: Single Inheritance Basic\n",
    "\n",
    "Create a base class named `Animal` with attributes `name` and `species`. Create a derived class named `Dog` that inherits from `Animal` and adds an attribute `breed`. Create an object of the `Dog` class and print its attributes.\n",
    "\n",
    "### Assignment 2: Method Overriding in Single Inheritance\n",
    "\n",
    "In the `Dog` class, override the `__str__` method to return a string representation of the object. Create an object of the class and print it.\n",
    "\n",
    "### Assignment 3: Single Inheritance with Additional Methods\n",
    "\n",
    "In the `Dog` class, add a method named `bark` that prints a barking sound. Create an object of the class and call the method.\n",
    "\n",
    "### Assignment 4: Multiple Inheritance Basic\n",
    "\n",
    "Create a base class named `Walker` with a method `walk` that prints a walking message. Create another base class named `Runner` with a method `run` that prints a running message. Create a derived class named `Athlete` that inherits from both `Walker` and `Runner`. Create an object of the `Athlete` class and call both methods.\n",
    "\n",
    "### Assignment 5: Method Resolution Order (MRO) in Multiple Inheritance\n",
    "\n",
    "In the `Athlete` class, override the `walk` method to print a different message. Create an object of the class and call the `walk` method. Use the `super()` function to call the `walk` method of the `Walker` class.\n",
    "\n",
    "### Assignment 6: Multiple Inheritance with Additional Attributes\n",
    "\n",
    "In the `Athlete` class, add an attribute `training_hours` and a method `train` that prints the training hours. Create an object of the class and call the method.\n",
    "\n",
    "### Assignment 7: Diamond Problem in Multiple Inheritance\n",
    "\n",
    "Create a class named `A` with a method `show` that prints a message. Create two derived classes `B` and `C` that inherit from `A` and override the `show` method. Create a class `D` that inherits from both `B` and `C`. Create an object of the `D` class and call the `show` method. Observe the method resolution order.\n",
    "\n",
    "### Assignment 8: Using `super()` in Single Inheritance\n",
    "\n",
    "Create a base class named `Shape` with an attribute `color`. Create a derived class named `Circle` that inherits from `Shape` and adds an attribute `radius`. Use the `super()` function to initialize the attributes. Create an object of the `Circle` class and print its attributes.\n",
    "\n",
    "### Assignment 9: Using `super()` in Multiple Inheritance\n",
    "\n",
    "Create a class named `Person` with an attribute `name`. Create a class named `Employee` with an attribute `employee_id`. Create a derived class `Manager` that inherits from both `Person` and `Employee`. Use the `super()` function to initialize the attributes. Create an object of the `Manager` class and print its attributes.\n",
    "\n",
    "### Assignment 10: Method Overriding and `super()`\n",
    "\n",
    "Create a class named `Vehicle` with a method `start` that prints a starting message. Create a derived class `Car` that overrides the `start` method to print a different message. Use the `super()` function to call the `start` method of the `Vehicle` class. Create an object of the `Car` class and call the `start` method.\n",
    "\n",
    "### Assignment 11: Multiple Inheritance with Different Methods\n",
    "\n",
    "Create a class named `Flyer` with a method `fly` that prints a flying message. Create a class named `Swimmer` with a method `swim` that prints a swimming message. Create a derived class `Superhero` that inherits from both `Flyer` and `Swimmer`. Create an object of the `Superhero` class and call both methods.\n",
    "\n",
    "### Assignment 12: Complex Multiple Inheritance\n",
    "\n",
    "Create a class named `Base1` with an attribute `a`. Create a class named `Base2` with an attribute `b`. Create a class named `Derived` that inherits from both `Base1` and `Base2` and adds an attribute `c`. Initialize all attributes using the `super()` function. Create an object of the `Derived` class and print its attributes.\n",
    "\n",
    "### Assignment 13: Checking Instance Types with Inheritance\n",
    "\n",
    "Create a base class named `Animal` and a derived class named `Cat`. Create objects of both classes and use the `isinstance` function to check the instance types.\n",
    "\n",
    "### Assignment 14: Polymorphism with Inheritance\n",
    "\n",
    "Create a base class named `Bird` with a method `speak`. Create two derived classes `Parrot` and `Penguin` that override the `speak` method. Create a list of `Bird` objects and call the `speak` method on each object to demonstrate polymorphism.\n",
    "\n",
    "### Assignment 15: Combining Single and Multiple Inheritance\n",
    "\n",
    "Create a base class named `Device` with an attribute `brand`. Create a derived class `Phone` that inherits from `Device` and adds an attribute `model`. Create another base class `Camera` with an attribute `resolution`. Create a derived class `Smartphone` that inherits from both `Phone` and `Camera`. Create an object of the `Smartphone` class and print its attributes."
   ]
  },
  {
   "cell_type": "code",
   "execution_count": 2,
   "metadata": {},
   "outputs": [
    {
     "name": "stdout",
     "output_type": "stream",
     "text": [
      "puppy\n",
      "German Sheperd\n",
      "German\n"
     ]
    }
   ],
   "source": [
    "# Create a base class named `Animal` with attributes `name` and `species`. \n",
    "# Create a derived class named `Dog` that inherits from `Animal` and adds an attribute `breed`.\n",
    "#  Create an object of the `Dog` class and print its attributes.\n",
    "\n",
    "class Animal:\n",
    "    def __init__(self, name, species):\n",
    "        self.name = name\n",
    "        self.species = species\n",
    "\n",
    "class Dog(Animal):\n",
    "    def __init__(self, name, species, breed):\n",
    "        super().__init__(name, species)\n",
    "        self.breed = breed\n",
    "\n",
    "dog = Dog(\"puppy\",\"German Sheperd\",\"German\")\n",
    "print(dog.name)\n",
    "print(dog.species)\n",
    "print(dog.breed)"
   ]
  },
  {
   "cell_type": "code",
   "execution_count": 8,
   "id": "7ba29ab8",
   "metadata": {},
   "outputs": [
    {
     "name": "stdout",
     "output_type": "stream",
     "text": [
      "puppy\n",
      "German Sheperd\n",
      "German\n",
      "My name is puppy\n"
     ]
    }
   ],
   "source": [
    "\n",
    "# In the `Dog` class, override the `__str__` method to return a string representation of the object. Create an object of the class and print it.\n",
    "\n",
    "class Dog(Animal):\n",
    "    def __init__(self, name, species, breed):\n",
    "        super().__init__(name, species)\n",
    "        self.breed = breed\n",
    "    \n",
    "    def __str__(self):\n",
    "        return f\"My name is {self.name}\"\n",
    "\n",
    "dog = Dog(\"puppy\",\"German Sheperd\",\"German\")\n",
    "print(dog.name)\n",
    "print(dog.species)\n",
    "print(dog.breed)\n",
    "print(dog)"
   ]
  },
  {
   "cell_type": "code",
   "execution_count": 9,
   "id": "6008efcb",
   "metadata": {},
   "outputs": [
    {
     "data": {
      "text/plain": [
       "'bow bow!'"
      ]
     },
     "execution_count": 9,
     "metadata": {},
     "output_type": "execute_result"
    }
   ],
   "source": [
    "# In the `Dog` class, add a method named `bark` that prints a barking sound. Create an object of the class and call the method.\n",
    "\n",
    "class Dog(Animal):\n",
    "    def __init__(self, name, species, breed):\n",
    "        super().__init__(name, species)\n",
    "        self.breed = breed\n",
    "    \n",
    "    def __str__(self):\n",
    "        return f\"My name is {self.name}\"\n",
    "    \n",
    "    def bark(self):\n",
    "        return f\"bow bow!\"\n",
    "\n",
    "dog = Dog(\"puppy\",\"German Sheperd\",\"German\")\n",
    "dog.bark()"
   ]
  },
  {
   "cell_type": "code",
   "execution_count": 10,
   "id": "1ed8d92d",
   "metadata": {},
   "outputs": [
    {
     "name": "stdout",
     "output_type": "stream",
     "text": [
      "I am walking\n",
      "I am running\n"
     ]
    }
   ],
   "source": [
    "# Create a base class named `Walker` with a method `walk` that prints a walking message. \n",
    "# Create another base class named `Runner` with a method `run` that prints a running message. \n",
    "# Create a derived class named `Athlete` that inherits from both `Walker` and `Runner`. \n",
    "# Create an object of the `Athlete` class and call both methods.\n",
    "\n",
    "class Walker:\n",
    "    def walk(self):\n",
    "        print(\"I am walking\")\n",
    "\n",
    "class Runner:\n",
    "    def run(self):\n",
    "        print(\"I am running\")\n",
    "\n",
    "class Athlete(Walker,Runner):\n",
    "    pass\n",
    "\n",
    "ronaldo = Athlete()\n",
    "ronaldo.walk()\n",
    "ronaldo.run()  # Output: I am running"
   ]
  },
  {
   "cell_type": "code",
   "execution_count": 12,
   "id": "3b0ebcad",
   "metadata": {},
   "outputs": [
    {
     "name": "stdout",
     "output_type": "stream",
     "text": [
      "The athlete is walking\n",
      "I am walking\n"
     ]
    }
   ],
   "source": [
    "# In the `Athlete` class, override the `walk` method to print a different message.\n",
    "#  Create an object of the class and call the `walk` method. \n",
    "# Use the `super()` function to call the `walk` method of the `Walker` class.\n",
    "\n",
    "class Athlete(Walker,Runner):\n",
    "    def walk(self):\n",
    "        print(\"The athlete is walking\")\n",
    "        super().walk()\n",
    "\n",
    "arun=Athlete()\n",
    "arun.walk()  # Output: The athlete is walking"
   ]
  },
  {
   "cell_type": "code",
   "execution_count": 13,
   "id": "ed68c34e",
   "metadata": {},
   "outputs": [
    {
     "name": "stdout",
     "output_type": "stream",
     "text": [
      "Training hours: 20\n"
     ]
    }
   ],
   "source": [
    "# In the `Athlete` class, add an attribute `training_hours` and a method `train` that prints the training hours. \n",
    "# Create an object of the class and call the method.\n",
    "\n",
    "class Athlete(Walker,Runner):\n",
    "    def __init__(self,training_hours):\n",
    "        self.training_hours=training_hours\n",
    "    def train(self):\n",
    "        print(f\"Training hours: {self.training_hours}\")\n",
    "\n",
    "Arjun = Athlete(20)\n",
    "Arjun.train()  # Output: Training hours: 20"
   ]
  },
  {
   "cell_type": "code",
   "execution_count": 15,
   "id": "74dfa11b",
   "metadata": {},
   "outputs": [
    {
     "name": "stdout",
     "output_type": "stream",
     "text": [
      "C's show method\n"
     ]
    }
   ],
   "source": [
    "# Create a class named `A` with a method `show` that prints a message. \n",
    "# Create two derived classes `B` and `C` that inherit from `A` and override the `show` method. \n",
    "# Create a class `D` that inherits from both `B` and `C`. \n",
    "# Create an object of the `D` class and call the `show` method. \n",
    "# Observe the method resolution order.\n",
    "\n",
    "class A:\n",
    "    def show(self):\n",
    "        print(\"A's show method\")\n",
    "\n",
    "class B(A):\n",
    "    def show(self):\n",
    "        print(\"B's show method\")\n",
    "\n",
    "class C(A):\n",
    "    def show(self):\n",
    "        print(\"C's show method\")\n",
    "\n",
    "class D(C,B):\n",
    "    pass\n",
    "# Create an object of the class D and call the show method\n",
    "d = D()\n",
    "d.show()  # Output: B's show method"
   ]
  },
  {
   "cell_type": "code",
   "execution_count": 16,
   "id": "b4dbcd2f",
   "metadata": {},
   "outputs": [
    {
     "name": "stdout",
     "output_type": "stream",
     "text": [
      "orange\n",
      "55\n"
     ]
    }
   ],
   "source": [
    "# Create a base class named `Shape` with an attribute `color`. \n",
    "# Create a derived class named `Circle` that inherits from `Shape` and adds an attribute `radius`. \n",
    "# Use the `super()` function to initialize the attributes. \n",
    "# Create an object of the `Circle` class and print its attributes.\n",
    "\n",
    "class Shape:\n",
    "    def __init__(self, color):\n",
    "        self.color = color\n",
    "\n",
    "class Circle(Shape):\n",
    "    def __init__(self, color, radius):\n",
    "        super().__init__(color)\n",
    "        self.radius = radius\n",
    "\n",
    "circle = Circle(\"orange\",55)\n",
    "print(circle.color)\n",
    "print(circle.radius)"
   ]
  },
  {
   "cell_type": "code",
   "execution_count": null,
   "id": "a4f4f2b7",
   "metadata": {},
   "outputs": [
    {
     "name": "stdout",
     "output_type": "stream",
     "text": [
      "Name: Varun, Employee ID: 929\n",
      "Varun\n",
      "929\n",
      "929\n"
     ]
    }
   ],
   "source": [
    "\n",
    "# Create a class named `Person` with an attribute `name`.4\n",
    "#  Create a class named `Employee` with an attribute `employee_id`. \n",
    "# Create a derived class `Manager` that inherits from both `Person` and `Employee`. \n",
    "# Use the `super()` function to initialize the attributes. \n",
    "# Create an object of the `Manager` class and print its attributes.\n",
    "\n",
    "class Person:\n",
    "    def __init__(self, name):\n",
    "        self.name = name\n",
    "\n",
    "class Employee:\n",
    "    def __init__(self, employee_id):\n",
    "        self.employee_id = employee_id\n",
    "\n",
    "class Manager(Person, Employee):\n",
    "    def __init__(self, employee_id, name):\n",
    "        Person.__init__(self, name)\n",
    "        Employee.__init__(self, employee_id)\n",
    "\n",
    "    def __str__(self):\n",
    "        return f\"Name: {self.name}, Employee ID: {self.employee_id}\"\n",
    "\n",
    "arun = Manager(929, \"Varun\")\n",
    "print(arun)\n",
    "print(arun.name)\n",
    "print(arun.employee_id)\n",
    "print(arun.employee_id)"
   ]
  },
  {
   "cell_type": "code",
   "execution_count": 24,
   "id": "a7bd4081",
   "metadata": {},
   "outputs": [
    {
     "name": "stdout",
     "output_type": "stream",
     "text": [
      "Vehicle started.\n",
      "Car started.\n"
     ]
    }
   ],
   "source": [
    "# Create a class named `Vehicle` with a method `start` that prints a starting message. \n",
    "# Create a derived class `Car` that overrides the `start` method to print a different message. \n",
    "# Use the `super()` function to call the `start` method of the `Vehicle` class. \n",
    "# Create an object of the `Car` class and call the `start` method.\n",
    "\n",
    "class Vehicle:\n",
    "    def start(self):\n",
    "        print(\"Vehicle started.\")\n",
    "\n",
    "class Car(Vehicle):\n",
    "    def start(self):\n",
    "        super().start()\n",
    "        print(\"Car started.\")\n",
    "\n",
    "car = Car()\n",
    "car.start()  # Output: Vehicle started. Car started."
   ]
  },
  {
   "cell_type": "code",
   "execution_count": 26,
   "id": "f2d3fb28",
   "metadata": {},
   "outputs": [
    {
     "name": "stdout",
     "output_type": "stream",
     "text": [
      "I am flying\n",
      "I am swimming\n"
     ]
    }
   ],
   "source": [
    "# Create a class named `Flyer` with a method `fly` that prints a flying message. \n",
    "# Create a class named `Swimmer` with a method `swim` that prints a swimming message.\n",
    "#  Create a derived class `Superhero` that inherits from both `Flyer` and `Swimmer`.\n",
    "#  Create an object of the `Superhero` class and call both methods.\n",
    "\n",
    "class Flyer:\n",
    "    def fly(self):\n",
    "        print(\"I am flying\")\n",
    "\n",
    "class Swimmer:\n",
    "    def swim(self):\n",
    "        print(\"I am swimming\")\n",
    "\n",
    "class Superhero(Flyer, Swimmer):\n",
    "    pass\n",
    "\n",
    "superhero = Superhero()\n",
    "superhero.fly()\n",
    "superhero.swim()"
   ]
  },
  {
   "cell_type": "code",
   "execution_count": 32,
   "id": "cb857134",
   "metadata": {},
   "outputs": [
    {
     "name": "stdout",
     "output_type": "stream",
     "text": [
      "5\n",
      "6\n",
      "7\n"
     ]
    }
   ],
   "source": [
    "# Create a class named `Base1` with an attribute `a`. \n",
    "# Create a class named `Base2` with an attribute `b`. \n",
    "# Create a class named `Derived` that inherits from both `Base1` and `Base2` and adds an attribute `c`. \n",
    "# Initialize all attributes using the `super()` function. \n",
    "# Create an object of the `Derived` class and print its attributes.\n",
    "\n",
    "class Base1:\n",
    "    def __init__(self,a):\n",
    "        self.a = a\n",
    "\n",
    "class Base2:\n",
    "    def __init__(self,b):\n",
    "        self.b = b\n",
    "\n",
    "class Derived(Base1,Base2):\n",
    "    def __init__(self,a,b,c):\n",
    "        Base1.__init__(self,a)\n",
    "        Base2.__init__(self,b)\n",
    "        self.c = c\n",
    "\n",
    "d=Derived(5,6,7)\n",
    "print(d.a)\n",
    "print(d.b)\n",
    "print(d.c)"
   ]
  },
  {
   "cell_type": "code",
   "execution_count": 34,
   "id": "2b7e579c",
   "metadata": {},
   "outputs": [
    {
     "name": "stdout",
     "output_type": "stream",
     "text": [
      "True\n",
      "True\n",
      "True\n"
     ]
    }
   ],
   "source": [
    "# Create a base class named `Animal` and a derived class named `Cat`. \n",
    "# Create objects of both classes and use the `isinstance` function to check the instance types.\n",
    "\n",
    "class Animal:\n",
    "    def __init__(self, name, age):\n",
    "        self.name = name\n",
    "        self.age = age\n",
    "\n",
    "class Cat(Animal):\n",
    "    def __init__(self, name, age, color):\n",
    "        super().__init__(name, age)\n",
    "        self.color = color\n",
    "\n",
    "# Create objects of both classes\n",
    "animal = Animal(\"Tom\", 2)\n",
    "cat = Cat(\"Whiskers\", 3, \"Grey\")\n",
    "# Use the isinstance function to check the instance types\n",
    "print(isinstance(animal, Animal))  # Output: True\n",
    "print(isinstance(cat, Animal))  # Output: True\n",
    "print(isinstance(cat, Cat))  # Output: True"
   ]
  },
  {
   "cell_type": "code",
   "execution_count": 36,
   "id": "5116bc7b",
   "metadata": {},
   "outputs": [
    {
     "name": "stdout",
     "output_type": "stream",
     "text": [
      "The parrot says: Polly wants a cracker!\n",
      "The penguin says: Ooh ooh ah ah!\n",
      "The bird says: Squawk!\n"
     ]
    }
   ],
   "source": [
    "# Create a base class named `Bird` with a method `speak`. \n",
    "# Create two derived classes `Parrot` and `Penguin` that override the `speak` method.\n",
    "# Create a list of `Bird` objects and call the `speak` method on each object to demonstrate polymorphism.\n",
    "\n",
    "class Bird:\n",
    "    def speak(self):\n",
    "        print(\"The bird says: Squawk!\")\n",
    "\n",
    "class Parrot(Bird):\n",
    "    def speak(self):\n",
    "        print(\"The parrot says: Polly wants a cracker!\")\n",
    "\n",
    "class Penguin(Bird):\n",
    "    def speak(self):\n",
    "        print(\"The penguin says: Ooh ooh ah ah!\")\n",
    "\n",
    "birds = [Parrot(), Penguin(), Bird()]\n",
    "\n",
    "# Demonstrating polymorphism\n",
    "for bird in birds:\n",
    "    bird.speak()"
   ]
  },
  {
   "cell_type": "code",
   "execution_count": 37,
   "id": "e689b483",
   "metadata": {},
   "outputs": [
    {
     "name": "stdout",
     "output_type": "stream",
     "text": [
      "Apple\n",
      "15\n",
      "4K\n"
     ]
    }
   ],
   "source": [
    "# Create a base class named `Device` with an attribute `brand`. \n",
    "# Create a derived class `Phone` that inherits from `Device` and adds an attribute `model`. \n",
    "# Create another base class `Camera` with an attribute `resolution`. \n",
    "# Create a derived class `Smartphone` that inherits from both `Phone` and `Camera`. \n",
    "# Create an object of the `Smartphone` class and print its attributes.\n",
    "\n",
    "class Device:\n",
    "    def __init__(self, brand):\n",
    "        self.brand = brand\n",
    "    \n",
    "class Phone(Device):\n",
    "    def __init__(self, brand, model):\n",
    "        super().__init__(brand)\n",
    "        self.model = model\n",
    "\n",
    "class Camera:\n",
    "    def __init__(self, resolution):\n",
    "        self.resolution = resolution\n",
    "\n",
    "class Smartphone(Phone, Camera):\n",
    "    def __init__(self, brand, model, resolution):\n",
    "        Phone.__init__(self, brand, model)\n",
    "        Camera.__init__(self, resolution)\n",
    "\n",
    "iphone = Smartphone(\"Apple\",\"15\",\"4K\")\n",
    "print(iphone.brand)\n",
    "print(iphone.model)\n",
    "print(iphone.resolution)"
   ]
  }
 ],
 "metadata": {
  "kernelspec": {
   "display_name": "Python 3",
   "language": "python",
   "name": "python3"
  },
  "language_info": {
   "codemirror_mode": {
    "name": "ipython",
    "version": 3
   },
   "file_extension": ".py",
   "mimetype": "text/x-python",
   "name": "python",
   "nbconvert_exporter": "python",
   "pygments_lexer": "ipython3",
   "version": "3.12.0"
  }
 },
 "nbformat": 4,
 "nbformat_minor": 5
}
