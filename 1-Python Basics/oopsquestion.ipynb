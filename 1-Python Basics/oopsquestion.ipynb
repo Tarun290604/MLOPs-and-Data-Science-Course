{
 "cells": [
  {
   "cell_type": "markdown",
   "metadata": {},
   "source": [
    "# Module: OOP Assignments\n",
    "## Lesson: Polymorphism, Abstraction, and Encapsulation\n",
    "### Assignment 1: Polymorphism with Methods\n",
    "\n",
    "Create a base class named `Shape` with a method `area`. Create two derived classes `Circle` and `Square` that override the `area` method. Create a list of `Shape` objects and call the `area` method on each object to demonstrate polymorphism.\n",
    "\n",
    "### Assignment 2: Polymorphism with Function Arguments\n",
    "\n",
    "Create a function named `describe_shape` that takes a `Shape` object as an argument and calls its `area` method. Create objects of `Circle` and `Square` classes and pass them to the `describe_shape` function.\n",
    "\n",
    "### Assignment 3: Abstract Base Class with Abstract Methods\n",
    "\n",
    "Create an abstract base class named `Vehicle` with an abstract method `start_engine`. Create derived classes `Car` and `Bike` that implement the `start_engine` method. Create objects of the derived classes and call the `start_engine` method.\n",
    "\n",
    "### Assignment 4: Abstract Base Class with Concrete Methods\n",
    "\n",
    "In the `Vehicle` class, add a concrete method `fuel_type` that returns a generic fuel type. Override this method in `Car` and `Bike` classes to return specific fuel types. Create objects of the derived classes and call the `fuel_type` method.\n",
    "\n",
    "### Assignment 5: Encapsulation with Private Attributes\n",
    "\n",
    "Create a class named `BankAccount` with private attributes `account_number` and `balance`. Add methods to deposit and withdraw money, and to check the balance. Ensure that the balance cannot be accessed directly.\n",
    "\n",
    "### Assignment 6: Encapsulation with Property Decorators\n",
    "\n",
    "In the `BankAccount` class, use property decorators to get and set the `balance` attribute. Ensure that the balance cannot be set to a negative value.\n",
    "\n",
    "### Assignment 7: Combining Encapsulation and Inheritance\n",
    "\n",
    "Create a base class named `Person` with private attributes `name` and `age`. Add methods to get and set these attributes. Create a derived class named `Student` that adds an attribute `student_id`. Create an object of the `Student` class and test the encapsulation.\n",
    "\n",
    "### Assignment 8: Polymorphism with Inheritance\n",
    "\n",
    "Create a base class named `Animal` with a method `speak`. Create two derived classes `Dog` and `Cat` that override the `speak` method. Create a list of `Animal` objects and call the `speak` method on each object to demonstrate polymorphism.\n",
    "\n",
    "### Assignment 9: Abstract Methods in Base Class\n",
    "\n",
    "Create an abstract base class named `Employee` with an abstract method `calculate_salary`. Create two derived classes `FullTimeEmployee` and `PartTimeEmployee` that implement the `calculate_salary` method. Create objects of the derived classes and call the `calculate_salary` method.\n",
    "\n",
    "### Assignment 10: Encapsulation in Data Classes\n",
    "\n",
    "Create a data class named `Product` with private attributes `product_id`, `name`, and `price`. Add methods to get and set these attributes. Ensure that the price cannot be set to a negative value.\n",
    "\n",
    "### Assignment 11: Polymorphism with Operator Overloading\n",
    "\n",
    "Create a class named `Vector` with attributes `x` and `y`. Overload the `+` operator to add two `Vector` objects. Create objects of the class and test the operator overloading.\n",
    "\n",
    "### Assignment 12: Abstract Properties\n",
    "\n",
    "Create an abstract base class named `Appliance` with an abstract property `power`. Create two derived classes `WashingMachine` and `Refrigerator` that implement the `power` property. Create objects of the derived classes and access the `power` property.\n",
    "\n",
    "### Assignment 13: Encapsulation in Class Hierarchies\n",
    "\n",
    "Create a base class named `Account` with private attributes `account_number` and `balance`. Add methods to get and set these attributes. Create a derived class named `SavingsAccount` that adds an attribute `interest_rate`. Create an object of the `SavingsAccount` class and test the encapsulation.\n",
    "\n",
    "### Assignment 14: Polymorphism with Multiple Inheritance\n",
    "\n",
    "Create a class named `Flyer` with a method `fly`. Create a class named `Swimmer` with a method `swim`. Create a class named `Superhero` that inherits from both `Flyer` and `Swimmer` and overrides both methods. Create an object of the `Superhero` class and call both methods.\n",
    "\n",
    "### Assignment 15: Abstract Methods and Multiple Inheritance\n",
    "\n",
    "Create an abstract base class named `Worker` with an abstract method `work`. Create two derived classes `Engineer` and `Doctor` that implement the `work` method. Create another derived class `Scientist` that inherits from both `Engineer` and `Doctor`. Create an object of the `Scientist` class and call the `work` method."
   ]
  },
  {
   "cell_type": "code",
   "execution_count": 1,
   "metadata": {},
   "outputs": [
    {
     "name": "stdout",
     "output_type": "stream",
     "text": [
      "78.5\n",
      "16\n",
      "28.26\n",
      "25\n"
     ]
    }
   ],
   "source": [
    "# Create a base class named `Shape` with a method `area`. \n",
    "# Create two derived classes `Circle` and `Square` that override the `area` method. \n",
    "# Create a list of `Shape` objects and call the `area` method on each object to demonstrate polymorphism.\n",
    "\n",
    "class Shape:\n",
    "    def area(self):\n",
    "        pass\n",
    "\n",
    "class Circle(Shape):\n",
    "    def __init__(self, radius):\n",
    "        self.radius = radius\n",
    "    def area(self):\n",
    "        return 3.14 * self.radius ** 2\n",
    "\n",
    "class Square(Shape):\n",
    "    def __init__(self, side):\n",
    "        self.side = side\n",
    "    def area(self):\n",
    "        return self.side ** 2\n",
    "\n",
    "# Create a list of Shape objects\n",
    "shapes = [Circle(5), Square(4), Circle(3), Square(5)]\n",
    "# Call the area method on each object in the list\n",
    "for shape in shapes:\n",
    "    print(shape.area())"
   ]
  },
  {
   "cell_type": "code",
   "execution_count": null,
   "id": "fdfa8220",
   "metadata": {},
   "outputs": [
    {
     "name": "stdout",
     "output_type": "stream",
     "text": [
      "The area of the shape is 78.53981633974483\n",
      "The area of the shape is 16\n"
     ]
    }
   ],
   "source": [
    "# Create a function named `describe_shape` that takes a `Shape` object as an argument and calls its `area` method. \n",
    "# Create objects of `Circle` and `Square` classes and pass them to the `describe_shape` function.\n",
    "\n",
    "from abc import ABC, abstractmethod\n",
    "from math import pi\n",
    "\n",
    "class Shape(ABC):\n",
    "    @abstractmethod\n",
    "    def area(self):\n",
    "        pass\n",
    "\n",
    "class Circle(Shape):\n",
    "    def __init__(self, radius):\n",
    "        self.radius = radius\n",
    "    def area(self):\n",
    "        return pi * self.radius ** 2\n",
    "\n",
    "class Square(Shape):\n",
    "    def __init__(self, side):\n",
    "        self.side = side\n",
    "    def area(self):\n",
    "        return self.side ** 2\n",
    "\n",
    "def describe_shape(shape):\n",
    "    print(f\"The area of the shape is {shape.area()}\")\n",
    "\n",
    "\n",
    "c=Circle(5)\n",
    "s=Square(4)\n",
    "describe_shape(c)\n",
    "describe_shape(s)\n"
   ]
  },
  {
   "cell_type": "code",
   "execution_count": 5,
   "id": "b9bd3393",
   "metadata": {},
   "outputs": [
    {
     "name": "stdout",
     "output_type": "stream",
     "text": [
      "Car engine started\n",
      "Bike engine started\n"
     ]
    }
   ],
   "source": [
    "# Create an abstract base class named `Vehicle` with an abstract method `start_engine`.\n",
    "# Create derived classes `Car` and `Bike` that implement the `start_engine` method. \n",
    "# Create objects of the derived classes and call the `start_engine` method.\n",
    "\n",
    "from abc import ABC, abstractmethod\n",
    "\n",
    "class Vehicle(ABC):\n",
    "    @abstractmethod\n",
    "    def start_engine(self):\n",
    "        pass\n",
    "\n",
    "class Car(Vehicle):\n",
    "    def start_engine(self):\n",
    "        print(\"Car engine started\")\n",
    "\n",
    "class Bike(Vehicle):\n",
    "    def start_engine(self):\n",
    "        print(\"Bike engine started\")\n",
    "\n",
    "car = Car()\n",
    "bike = Bike()\n",
    "car.start_engine()  # Output: Car engine started\n",
    "bike.start_engine()  # Output: Bike engine started"
   ]
  },
  {
   "cell_type": "code",
   "execution_count": 8,
   "id": "d4171809",
   "metadata": {},
   "outputs": [
    {
     "name": "stdout",
     "output_type": "stream",
     "text": [
      "Car fuel type: Petrol\n",
      "Bike fuel type: Diesel\n"
     ]
    }
   ],
   "source": [
    "# In the `Vehicle` class, add a concrete method `fuel_type` that returns a generic fuel type. \n",
    "# Override this method in `Car` and `Bike` classes to return specific fuel types. \n",
    "# Create objects of the derived classes and call the `fuel_type` method.\n",
    "\n",
    "class Vehicle:\n",
    "    def fuel_type(self):\n",
    "        return \"Generic Fuel\"\n",
    "\n",
    "class Car(Vehicle):\n",
    "    def fuel_type(self):\n",
    "        return \"Petrol\"\n",
    "\n",
    "class Bike(Vehicle):\n",
    "    def fuel_type(self):\n",
    "        return \"Diesel\"\n",
    "\n",
    "# Create objects of the derived classes\n",
    "car = Car()\n",
    "bike = Bike()\n",
    "\n",
    "# Call the fuel_type method\n",
    "print(\"Car fuel type:\", car.fuel_type())  # Output: Petrol\n",
    "print(\"Bike fuel type:\", bike.fuel_type())  # Output: Diesel"
   ]
  },
  {
   "cell_type": "code",
   "execution_count": 25,
   "id": "00f961be",
   "metadata": {},
   "outputs": [
    {
     "name": "stdout",
     "output_type": "stream",
     "text": [
      "145.0\n"
     ]
    }
   ],
   "source": [
    "# Create a class named `BankAccount` with private attributes `account_number` and `balance`.\n",
    "# Add methods to deposit and withdraw money, and to check the balance. Ensure that the balance cannot be accessed directly.\n",
    "\n",
    "class BankAccount:\n",
    "    def __init__(self, account_number, balance=0):\n",
    "        self.__account_number = account_number\n",
    "        self._balance = balance\n",
    "    @property\n",
    "    def balance(self):\n",
    "        \"\"\"Getter method for balance\"\"\"\n",
    "        return self._balance\n",
    "\n",
    "    @balance.setter\n",
    "    def balance(self, amount):\n",
    "        \"\"\"Setter method for balance ensuring it is non-negative\"\"\"\n",
    "        if amount < 0:\n",
    "            print(\"Balance cannot be negative!\")\n",
    "        else:\n",
    "            self._balance = amount\n",
    "    \n",
    "    def deposit(self):\n",
    "        amount = float(input(\"Enter the amount to deposit: \"))\n",
    "        self._balance += amount\n",
    "    def withdraw(self):\n",
    "        amount = float(input(\"Enter the amount to withdraw: \"))\n",
    "        if amount > self._balance:\n",
    "            print(\"Insufficient balance!\")\n",
    "        else:\n",
    "            self._balance -= amount\n",
    "    \n",
    "Tarun = BankAccount(8085,50)\n",
    "Tarun.deposit()\n",
    "print(Tarun.balance)  # Output: 50"
   ]
  },
  {
   "cell_type": "code",
   "execution_count": 26,
   "id": "f337a5bf",
   "metadata": {},
   "outputs": [],
   "source": [
    "Tarun.withdraw()"
   ]
  },
  {
   "cell_type": "code",
   "execution_count": null,
   "id": "0b7e7969",
   "metadata": {},
   "outputs": [],
   "source": [
    "# In the `BankAccount` class, use property decorators to get and set the `balance` attribute.\n",
    "# Ensure that the balance cannot be set to a negative value.\n",
    "\n",
    "# Edited in above"
   ]
  },
  {
   "cell_type": "code",
   "execution_count": 28,
   "id": "6dff76be",
   "metadata": {},
   "outputs": [
    {
     "name": "stdout",
     "output_type": "stream",
     "text": [
      "20\n",
      "Tarun\n",
      "180\n"
     ]
    }
   ],
   "source": [
    "# Create a base class named `Person` with private attributes `name` and `age`. \n",
    "# Add methods to get and set these attributes. \n",
    "# Create a derived class named `Student` that adds an attribute `student_id`. \n",
    "# Create an object of the `Student` class and test the encapsulation.\n",
    "\n",
    "\n",
    "class Person:\n",
    "    def __init__(self, name, age):\n",
    "        self.__name = name\n",
    "        self.__age = age\n",
    "    @property\n",
    "    def name(self):\n",
    "        return self.__name\n",
    "    @name.setter\n",
    "    def name(self, name):\n",
    "        self.__name = name\n",
    "    @property\n",
    "    def age(self):\n",
    "        return self.__age\n",
    "    @age.setter\n",
    "    def age(self, age):\n",
    "        self.__age = age\n",
    "\n",
    "class Student(Person):\n",
    "    def __init__(self, name, age, student_id):\n",
    "        super().__init__(name, age)\n",
    "        self.__student_id = student_id\n",
    "    @property\n",
    "    def student_id(self):\n",
    "        return self.__student_id\n",
    "    @student_id.setter\n",
    "    def student_id(self, student_id):\n",
    "        self.__student_id = student_id\n",
    "\n",
    "stu = Student(\"Tarun\",20,180)\n",
    "print(stu.age)\n",
    "print(stu.name)\n",
    "print(stu.student_id)\n"
   ]
  },
  {
   "cell_type": "code",
   "execution_count": 29,
   "id": "5d98c663",
   "metadata": {},
   "outputs": [
    {
     "name": "stdout",
     "output_type": "stream",
     "text": [
      "Meow!\n",
      "Woof!\n",
      "Meow!\n",
      "Woof!\n"
     ]
    }
   ],
   "source": [
    "# Create a base class named `Animal` with a method `speak`.\n",
    "#  Create two derived classes `Dog` and `Cat` that override the `speak` method. \n",
    "# Create a list of `Animal` objects and call the `speak` method on each object to demonstrate polymorphism.\n",
    "\n",
    "class Animal:\n",
    "    def speak(self):\n",
    "        pass\n",
    "\n",
    "class Dog(Animal):\n",
    "    def speak(self):\n",
    "        return \"Woof!\"\n",
    "\n",
    "class Cat(Animal):\n",
    "    def speak(self):\n",
    "        return \"Meow!\"\n",
    "\n",
    "animal = [Cat(),Dog(),Cat(),Dog()]\n",
    "for a in animal:\n",
    "    print(a.speak())\n"
   ]
  },
  {
   "cell_type": "code",
   "execution_count": 30,
   "id": "f5246f21",
   "metadata": {},
   "outputs": [
    {
     "name": "stdout",
     "output_type": "stream",
     "text": [
      "Full-Time Employee Salary: 5000\n",
      "Part-Time Employee Salary: 1600\n"
     ]
    }
   ],
   "source": [
    "# Create an abstract base class named `Employee` with an abstract method `calculate_salary`. \n",
    "# Create two derived classes `FullTimeEmployee` and `PartTimeEmployee` that implement the `calculate_salary` method. \n",
    "# Create objects of the derived classes and call the `calculate_salary` method.\n",
    "\n",
    "from abc import ABC, abstractmethod\n",
    "\n",
    "class Employee(ABC):\n",
    "    @abstractmethod\n",
    "    def calculate_salary(self):\n",
    "        \"\"\"Abstract method to calculate salary\"\"\"\n",
    "        pass\n",
    "\n",
    "class FullTimeEmployee(Employee):\n",
    "    def __init__(self, monthly_salary):\n",
    "        self.monthly_salary = monthly_salary\n",
    "\n",
    "    def calculate_salary(self):\n",
    "        return self.monthly_salary\n",
    "\n",
    "class PartTimeEmployee(Employee):\n",
    "    def __init__(self, hourly_rate, hours_worked):\n",
    "        self.hourly_rate = hourly_rate\n",
    "        self.hours_worked = hours_worked\n",
    "\n",
    "    def calculate_salary(self):\n",
    "        return self.hourly_rate * self.hours_worked\n",
    "\n",
    "# Create objects of the derived classes\n",
    "full_time_emp = FullTimeEmployee(5000)  # Monthly salary of 5000\n",
    "part_time_emp = PartTimeEmployee(20, 80)  # $20 per hour, 80 hours worked\n",
    "\n",
    "# Call the calculate_salary method\n",
    "print(\"Full-Time Employee Salary:\", full_time_emp.calculate_salary())  # Output: 5000\n",
    "print(\"Part-Time Employee Salary:\", part_time_emp.calculate_salary())  # Output: 1600\n"
   ]
  },
  {
   "cell_type": "code",
   "execution_count": 35,
   "id": "922db413",
   "metadata": {},
   "outputs": [
    {
     "name": "stdout",
     "output_type": "stream",
     "text": [
      "12\n",
      "drier\n",
      "50\n",
      "60\n",
      "Price cannot be negative\n",
      "60\n",
      "12\n",
      "55\n"
     ]
    }
   ],
   "source": [
    "\n",
    "# Create a data class named `Product` with private attributes `product_id`, `name`, and `price`. \n",
    "# Add methods to get and set these attributes. Ensure that the price cannot be set to a negative value.\n",
    "\n",
    "class Product:\n",
    "    def __init__(self, product_id, name, price):\n",
    "        self.__product_id = product_id\n",
    "        self.__name = name\n",
    "        self.__price = price\n",
    "    \n",
    "    def get_product_id(self):\n",
    "        return self.__product_id\n",
    "    \n",
    "    def set_product_id(self,id):\n",
    "        self.__product_id = id\n",
    "    \n",
    "    def get_name(self):\n",
    "        return self.__name\n",
    "    \n",
    "    def set_name(self,name):\n",
    "        self.__name = name\n",
    "\n",
    "    def get_price(self):\n",
    "        return self.__price\n",
    "    \n",
    "    def set_price(self,price):\n",
    "        if price >= 0:\n",
    "            self.__price = price\n",
    "        else:\n",
    "            print(\"Price cannot be negative\")\n",
    "\n",
    "p=Product(12,\"drier\",50)\n",
    "print(p.get_product_id())\n",
    "print(p.get_name())\n",
    "print(p.get_price())\n",
    "p.set_price(60)\n",
    "print(p.get_price())  # Output: 60\n",
    "p.set_price(-10)  # Output: Price cannot be negative\n",
    "print(p.get_price())\n",
    "print(p.get_product_id())\n",
    "p.set_product_id(55)\n",
    "print(p.get_product_id())  # Output: 55\n"
   ]
  },
  {
   "cell_type": "code",
   "execution_count": null,
   "id": "8b2015f3",
   "metadata": {},
   "outputs": [
    {
     "name": "stdout",
     "output_type": "stream",
     "text": [
      "(8,17)\n"
     ]
    }
   ],
   "source": [
    "# Create a class named `Vector` with attributes `x` and `y`. Overload the `+` operator to add two `Vector` objects. \n",
    "# Create objects of the class and test the operator overloading.\n",
    "\n",
    "class Vector:\n",
    "    def __init__(self, x, y):\n",
    "        self.x = x\n",
    "        self.y = y\n",
    "    def __add__(self,others):\n",
    "        return Vector(self.x + others.x, self.y + others.y)\n",
    "    def __str__(self):\n",
    "        return f\"({self.x},{self.y})\"\n",
    "\n",
    "v1=Vector(5,10)\n",
    "v2=Vector(3,7)\n",
    "print(v1+v2)  # Output: Vector(8, 17)"
   ]
  },
  {
   "cell_type": "code",
   "execution_count": 38,
   "id": "a37f9c76",
   "metadata": {},
   "outputs": [
    {
     "name": "stdout",
     "output_type": "stream",
     "text": [
      "5000\n",
      "2000\n"
     ]
    }
   ],
   "source": [
    "# Create an abstract base class named `Appliance` with an abstract property `power`. \n",
    "# Create two derived classes `WashingMachine` and `Refrigerator` that implement the `power` property.\n",
    "#  Create objects of the derived classes and access the `power` property.\n",
    "\n",
    "from abc import ABC,abstractmethod\n",
    "\n",
    "class Appliance(ABC):\n",
    "    @property\n",
    "    @abstractmethod\n",
    "    def power(self):\n",
    "        pass\n",
    "\n",
    "class WashingMachine(Appliance):\n",
    "    def __init__(self, power):\n",
    "        self._power = power\n",
    "    @property\n",
    "    def power(self):\n",
    "        return self._power\n",
    "\n",
    "class Refrigerator(Appliance):\n",
    "    def __init__(self, power):\n",
    "        self._power = power\n",
    "    @property\n",
    "    def power(self):\n",
    "        return self._power\n",
    "    \n",
    "Wash = WashingMachine(5000)\n",
    "Refrig = Refrigerator(2000)\n",
    "print(Wash.power)  # Output: 5000\n",
    "print(Refrig.power)  # Output: 2000"
   ]
  },
  {
   "cell_type": "code",
   "execution_count": 41,
   "id": "c01c5354",
   "metadata": {},
   "outputs": [
    {
     "name": "stdout",
     "output_type": "stream",
     "text": [
      "Account Number: 123456789\n",
      "Balance: 5000\n",
      "Interest: 3.5\n"
     ]
    }
   ],
   "source": [
    "# Create a base class named `Account` with private attributes `account_number` and `balance`. \n",
    "# Add methods to get and set these attributes. \n",
    "# Create a derived class named `SavingsAccount` that adds an attribute `interest_rate`. \n",
    "# Create an object of the `SavingsAccount` class and test the encapsulation.\n",
    "\n",
    "class Account:\n",
    "    def __init__(self,account_number,balance):\n",
    "        self.__account_number= account_number\n",
    "        self.__balance = balance\n",
    "    \n",
    "    def get_account_number(self):\n",
    "        return self.__account_number\n",
    "\n",
    "    def get_balance(self):\n",
    "        return self.__balance\n",
    "\n",
    "    def set_balance(self, amount):\n",
    "        if amount < 0:\n",
    "            print(\"Balance cannot be negative!\")\n",
    "        else:\n",
    "            self.__balance = amount\n",
    "        \n",
    "class SavingsAccount(Account):\n",
    "    def __init__(self, account_number, balance, interest_rate):\n",
    "        super().__init__(account_number, balance)\n",
    "        self.__interest_rate = interest_rate\n",
    "    def getter_interest_rate(self):\n",
    "        return self.__interest_rate\n",
    "\n",
    "savings = SavingsAccount(\"123456789\", 5000, 3.5)\n",
    "\n",
    "# Access account details using getter methods\n",
    "print(\"Account Number:\", savings.get_account_number())  # Output: 123456789\n",
    "print(\"Balance:\", savings.get_balance())  # Output: 5000\n",
    "print(\"Interest:\", savings.getter_interest_rate())  # Output: 5000"
   ]
  },
  {
   "cell_type": "code",
   "execution_count": 43,
   "id": "ec03abc0",
   "metadata": {},
   "outputs": [
    {
     "name": "stdout",
     "output_type": "stream",
     "text": [
      "I can fly faster\n",
      "I can swim faster\n"
     ]
    }
   ],
   "source": [
    "# Create a class named `Flyer` with a method `fly`. Create a class named `Swimmer` with a method `swim`.\n",
    "#  Create a class named `Superhero` that inherits from both `Flyer` and `Swimmer` and overrides both methods. \n",
    "# Create an object of the `Superhero` class and call both methods.\n",
    "\n",
    "class Flyer:\n",
    "    def fly(self):\n",
    "        return \"I can fly\"\n",
    "\n",
    "class Swimmer():\n",
    "    def swim(self):\n",
    "        return \"I can swim\"\n",
    "\n",
    "class Superhero(Flyer,Swimmer):\n",
    "    def fly(self):\n",
    "        return \"I can fly faster\"\n",
    "    def swim(self):\n",
    "        return \"I can swim faster\"\n",
    "    \n",
    "spiderman = Superhero()\n",
    "print(spiderman.fly())\n",
    "print(spiderman.swim())"
   ]
  },
  {
   "cell_type": "code",
   "execution_count": 46,
   "id": "73726fe4",
   "metadata": {},
   "outputs": [
    {
     "name": "stdout",
     "output_type": "stream",
     "text": [
      "Engineer is working\n"
     ]
    }
   ],
   "source": [
    "\n",
    "# Create an abstract base class named `Worker` with an abstract method `work`. \n",
    "# Create two derived classes `Engineer` and `Doctor` that implement the `work` method. \n",
    "# Create another derived class `Scientist` that inherits from both `Engineer` and `Doctor`. \n",
    "# Create an object of the `Scientist` class and call the `work` method.\n",
    "\n",
    "from abc import ABC, abstractmethod\n",
    "\n",
    "class Worker(ABC):\n",
    "    @abstractmethod\n",
    "    def work(self):\n",
    "        pass\n",
    "\n",
    "class Engineer(Worker):\n",
    "    def work(self):\n",
    "        return \"Engineer is working\"\n",
    "\n",
    "class Doctor(Worker):\n",
    "    def work(self):\n",
    "        return \"Doctor is working\"\n",
    "\n",
    "class Scientist(Engineer, Doctor):\n",
    "    pass\n",
    "\n",
    "abdul = Scientist()\n",
    "print(abdul.work())  # Output: Engineer is working\n"
   ]
  }
 ],
 "metadata": {
  "kernelspec": {
   "display_name": "Python 3",
   "language": "python",
   "name": "python3"
  },
  "language_info": {
   "codemirror_mode": {
    "name": "ipython",
    "version": 3
   },
   "file_extension": ".py",
   "mimetype": "text/x-python",
   "name": "python",
   "nbconvert_exporter": "python",
   "pygments_lexer": "ipython3",
   "version": "3.12.0"
  }
 },
 "nbformat": 4,
 "nbformat_minor": 5
}
