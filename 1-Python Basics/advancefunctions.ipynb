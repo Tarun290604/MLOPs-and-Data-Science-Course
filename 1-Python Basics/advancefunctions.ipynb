{
 "cells": [
  {
   "cell_type": "markdown",
   "metadata": {},
   "source": [
    "# Module 4: Advanced Functions Assignments\n",
    "## Lesson 4.1: Defining Functions\n",
    "### Assignment 1: Fibonacci Sequence with Memoization\n",
    "\n",
    "Define a recursive function to calculate the nth Fibonacci number using memoization. Test the function with different inputs.\n",
    "\n",
    "### Assignment 2: Function with Nested Default Arguments\n",
    "\n",
    "Define a function that takes two arguments, a and b, where b is a dictionary with a default value of an empty dictionary. The function should add a new key-value pair to the dictionary and return it. Test the function with different inputs.\n",
    "\n",
    "### Assignment 3: Function with Variable Keyword Arguments\n",
    "\n",
    "Define a function that takes a variable number of keyword arguments and returns a dictionary containing only those key-value pairs where the value is an integer. Test the function with different inputs.\n",
    "\n",
    "### Assignment 4: Function with Callback\n",
    "\n",
    "Define a function that takes another function as a callback and a list of integers. The function should apply the callback to each integer in the list and return a new list with the results. Test with different callback functions.\n",
    "\n",
    "### Assignment 5: Function that Returns a Function\n",
    "\n",
    "Define a function that returns another function. The returned function should take an integer and return its square. Test the returned function with different inputs.\n",
    "\n",
    "### Assignment 6: Function with Decorators\n",
    "\n",
    "Define a function that calculates the time taken to execute another function. Apply this decorator to a function that performs a complex calculation. Test the decorated function with different inputs.\n",
    "\n",
    "### Assignment 7: Higher-Order Function for Filtering and Mapping\n",
    "\n",
    "Define a higher-order function that takes two functions, a filter function and a map function, along with a list of integers. The higher-order function should first filter the integers using the filter function and then apply the map function to the filtered integers. Test with different filter and map functions.\n",
    "\n",
    "### Assignment 8: Function Composition\n",
    "\n",
    "Define a function that composes two functions, f and g, such that the result is f(g(x)). Test with different functions f and g.\n",
    "\n",
    "### Assignment 9: Partial Function Application\n",
    "\n",
    "Use the functools.partial function to create a new function that multiplies its input by 2. Test the new function with different inputs.\n",
    "\n",
    "### Assignment 10: Function with Error Handling\n",
    "\n",
    "Define a function that takes a list of integers and returns their average. The function should handle any errors that occur (e.g., empty list) and return None in such cases. Test with different inputs.\n",
    "\n",
    "### Assignment 11: Function with Generators\n",
    "\n",
    "Define a function that generates an infinite sequence of Fibonacci numbers. Test by printing the first 10 numbers in the sequence.\n",
    "\n",
    "### Assignment 12: Currying\n",
    "\n",
    "Define a curried function that takes three arguments, one at a time, and returns their product. Test the function by providing arguments one at a time.\n",
    "\n",
    "### Assignment 13: Function with Context Manager\n",
    "\n",
    "Define a function that uses a context manager to write a list of integers to a file. The function should handle any errors that occur during file operations. Test with different lists.\n",
    "\n",
    "### Assignment 14: Function with Multiple Return Types\n",
    "\n",
    "Define a function that takes a list of mixed data types (integers, strings, and floats) and returns three lists: one containing all the integers, one containing all the strings, and one containing all the floats. Test with different inputs.\n",
    "\n",
    "### Assignment 15: Function with State\n",
    "\n",
    "Define a function that maintains state between calls using a mutable default argument. The function should keep track of how many times it has been called. Test by calling the function multiple times."
   ]
  },
  {
   "cell_type": "code",
   "execution_count": 6,
   "metadata": {},
   "outputs": [
    {
     "name": "stdout",
     "output_type": "stream",
     "text": [
      "55\n",
      "144\n"
     ]
    }
   ],
   "source": [
    "# Define a recursive function to calculate the nth Fibonacci number using memoization. Test the function with different inputs.\n",
    "def fibonacci(n, memo={}):\n",
    "    if n in memo:\n",
    "        return memo[n]\n",
    "    if n <= 1:\n",
    "        return n\n",
    "    memo[n] = fibonacci(n - 1, memo) + fibonacci(n - 2, memo)\n",
    "    return memo[n]\n",
    "\n",
    "print(fibonacci(10))  # Output: 55\n",
    "print(fibonacci(12))"
   ]
  },
  {
   "cell_type": "code",
   "execution_count": 8,
   "id": "17d2b32e",
   "metadata": {},
   "outputs": [
    {
     "name": "stdout",
     "output_type": "stream",
     "text": [
      "{'key1': 'value_of_key1'}\n",
      "{'key2': 'value_of_key2'}\n",
      "{'keyA': 1, 'key3': 'value_of_key3'}\n",
      "{'key4': 'value_of_key4'}\n"
     ]
    }
   ],
   "source": [
    "# Define a function that takes two arguments, a and b, where b is a dictionary with a default value of an empty dictionary. The function should add a new key-value pair to the dictionary and return it. Test the function with different inputs.\n",
    "def add_to_dict(a, b=None):\n",
    "    if b is None:\n",
    "        b = {} \n",
    "    b[a] = f\"value_of_{a}\"  \n",
    "    return b\n",
    "\n",
    "# Test Cases\n",
    "print(add_to_dict(\"key1\"))        \n",
    "print(add_to_dict(\"key2\"))         \n",
    "print(add_to_dict(\"key3\", {\"keyA\": 1})) \n",
    "print(add_to_dict(\"key4\", {}))           \n"
   ]
  },
  {
   "cell_type": "code",
   "execution_count": 10,
   "id": "d0baf045",
   "metadata": {},
   "outputs": [
    {
     "name": "stdout",
     "output_type": "stream",
     "text": [
      "{'a': 1, 'b': 2, 'c': 3}\n"
     ]
    }
   ],
   "source": [
    "# Define a function that takes a variable number of keyword arguments and returns a dictionary containing only those key-value pairs where the value is an integer. Test the function with different inputs.\n",
    "def arg(**kwargs):\n",
    "    return {a:b for a,b in kwargs.items()}\n",
    "print(arg(a=1,b=2,c=3)) "
   ]
  },
  {
   "cell_type": "code",
   "execution_count": 12,
   "id": "a38f9933",
   "metadata": {},
   "outputs": [
    {
     "name": "stdout",
     "output_type": "stream",
     "text": [
      "[1, 4, 4, 9, 16, 25, 36]\n",
      "[1, 8, 8, 27, 64, 125, 216]\n"
     ]
    }
   ],
   "source": [
    "# Define a function that takes another function as a callback and a list of integers. The function should apply the callback to each integer in the list and return a new list with the results. Test with different callback functions.\n",
    "\n",
    "def apply_callback(callback, lst):\n",
    "    return [callback(i) for i in lst]\n",
    "# Test the function with different callback functions\n",
    "def square(num):\n",
    "    return num ** 2\n",
    "def cube(num):\n",
    "    return num ** 3\n",
    "print(apply_callback(square,[1,2,2,3,4,5,6]))\n",
    "print(apply_callback(cube,[1,2,2,3,4,5,6]))"
   ]
  },
  {
   "cell_type": "code",
   "execution_count": 15,
   "id": "c127c28f",
   "metadata": {},
   "outputs": [
    {
     "name": "stdout",
     "output_type": "stream",
     "text": [
      "25\n"
     ]
    }
   ],
   "source": [
    "# Define a function that returns another function. The returned function should take an integer and return its square. Test the returned function with different inputs.\n",
    "def square_func():\n",
    "    def square(x):\n",
    "        return x ** 2\n",
    "    return square\n",
    "# Test the returned function with different inputs\n",
    "square_func_1 = square_func()\n",
    "print(square_func_1(5)) "
   ]
  },
  {
   "cell_type": "code",
   "execution_count": 24,
   "id": "7060f75e",
   "metadata": {},
   "outputs": [
    {
     "name": "stdout",
     "output_type": "stream",
     "text": [
      "Time taken: 0.072933 seconds\n"
     ]
    },
    {
     "data": {
      "text/plain": [
       "249500250000"
      ]
     },
     "execution_count": 24,
     "metadata": {},
     "output_type": "execute_result"
    }
   ],
   "source": [
    "# Define a function that calculates the time taken to execute another function. Apply this decorator to a function that performs a complex calculation. Test the decorated function with different inputs.\n",
    "import time\n",
    "\n",
    "def time_it(func):\n",
    "    def wrapper(*args, **kwargs):\n",
    "        start_time = time.time()\n",
    "        result = func(*args, **kwargs)\n",
    "        end_time = time.time()\n",
    "        print(f\"Time taken: {end_time - start_time:.6f} seconds\")\n",
    "        return result\n",
    "    return wrapper\n",
    "\n",
    "@time_it\n",
    "def complex_calculation(n):\n",
    "    result = 0\n",
    "    for i in range(n):\n",
    "        for j in range(n):\n",
    "            result += i * j\n",
    "    return result\n",
    "\n",
    "complex_calculation(1000)\n",
    "        "
   ]
  },
  {
   "cell_type": "code",
   "execution_count": 19,
   "id": "20b9ffe2",
   "metadata": {},
   "outputs": [
    {
     "name": "stdout",
     "output_type": "stream",
     "text": [
      "Execution time: 0.016301 seconds\n",
      "333328333350000\n",
      "Execution time: 0.117190 seconds\n",
      "333332833333500000\n"
     ]
    }
   ],
   "source": [
    "import time\n",
    "\n",
    "# Decorator to measure execution time\n",
    "def time_it(func):\n",
    "    def wrapper(*args, **kwargs):\n",
    "        start_time = time.time()  # Start timer\n",
    "        result = func(*args, **kwargs)  # Execute the function\n",
    "        end_time = time.time()  # End timer\n",
    "        print(f\"Execution time: {end_time - start_time:.6f} seconds\")\n",
    "        return result\n",
    "    return wrapper\n",
    "\n",
    "# Function performing a complex calculation\n",
    "@time_it\n",
    "def complex_calculation(n):\n",
    "    # Simulate a complex operation (e.g., sum of squares)\n",
    "    return sum(x ** 2 for x in range(n))\n",
    "\n",
    "# Test the decorated function with different inputs\n",
    "print(complex_calculation(10**5))  # Large input to test performance\n",
    "print(complex_calculation(10**6))  # Even larger input"
   ]
  },
  {
   "cell_type": "code",
   "execution_count": 29,
   "id": "7c6e6d4d",
   "metadata": {},
   "outputs": [
    {
     "name": "stdout",
     "output_type": "stream",
     "text": [
      "[4, 16, 36, 64, 100]\n",
      "[4, 8, 12, 16, 20]\n",
      "[36, 49, 64, 81, 100]\n",
      "[12, 14, 16, 18, 20]\n"
     ]
    }
   ],
   "source": [
    "# Define a higher-order function that takes two functions, a filter function and a map function, along with a list of integers. The higher-order function should first filter the integers using the filter function and then apply the map function to the filtered integers. Test with different filter and map functions.\n",
    "\n",
    "def filter_and_map(filter_func, map_func, numbers):\n",
    "    filtered_numbers = filter(filter_func, numbers)  # Apply the filter function\n",
    "    mapped_numbers = map(map_func, filtered_numbers)  # Apply the map function\n",
    "    return list(mapped_numbers)  # Convert map object to list\n",
    "\n",
    "# Example Filter Functions\n",
    "def is_even(x):\n",
    "    return x % 2 == 0  # Keeps only even numbers\n",
    "\n",
    "def greater_than_five(x):\n",
    "    return x > 5  # Keeps numbers greater than 5\n",
    "\n",
    "# Example Map Functions\n",
    "def square(x):\n",
    "    return x ** 2  # Squares the number\n",
    "\n",
    "def double(x):\n",
    "    return x * 2  # Doubles the number\n",
    "\n",
    "# List of numbers\n",
    "numbers = [1, 2, 3, 4, 5, 6, 7, 8, 9, 10]\n",
    "\n",
    "# Testing different filter & map combinations\n",
    "print(filter_and_map(is_even, square, numbers))          # [4, 16, 36, 64, 100]\n",
    "print(filter_and_map(is_even, double, numbers))          # [4, 8, 12, 16, 20]\n",
    "print(filter_and_map(greater_than_five, square, numbers)) # [36, 49, 64, 81, 100]\n",
    "print(filter_and_map(greater_than_five, double, numbers)) # [12, 14, 16, 18, 20]\n"
   ]
  },
  {
   "cell_type": "code",
   "execution_count": 30,
   "id": "fdf278bf",
   "metadata": {},
   "outputs": [
    {
     "name": "stdout",
     "output_type": "stream",
     "text": [
      "10\n"
     ]
    }
   ],
   "source": [
    "# Define a function that composes two functions, f and g, such that the result is f(g(x)). Test with different functions f and g.\n",
    "\n",
    "def compose(f,g):\n",
    "    return lambda x:f(g(x))\n",
    "\n",
    "def sq(x):\n",
    "    return x**2\n",
    "def add_one(x):\n",
    "    return x+1\n",
    "def mul_by_two(x):\n",
    "    return 2*x\n",
    "\n",
    "sq=compose(add_one,sq)\n",
    "print(sq(3))  # Output: 10"
   ]
  },
  {
   "cell_type": "code",
   "execution_count": 33,
   "id": "082d12f0",
   "metadata": {},
   "outputs": [
    {
     "name": "stdout",
     "output_type": "stream",
     "text": [
      "10\n",
      "100\n",
      "10000000\n"
     ]
    }
   ],
   "source": [
    "# Use the functools.partial function to create a new function that multiplies its input by 2. Test the new function with different inputs.\n",
    "\n",
    "from functools import partial\n",
    "\n",
    "def mul(a,b):\n",
    "    return a*b\n",
    "\n",
    "double = partial(mul,2)\n",
    "\n",
    "print(double(5))\n",
    "print(double(50))\n",
    "print(double(5000000))"
   ]
  },
  {
   "cell_type": "code",
   "execution_count": 34,
   "id": "2beb5f5d",
   "metadata": {},
   "outputs": [
    {
     "name": "stdout",
     "output_type": "stream",
     "text": [
      "None\n",
      "3.2857142857142856\n"
     ]
    }
   ],
   "source": [
    "# Define a function that takes a list of integers and returns their average. The function should handle any errors that occur (e.g., empty list) and return None in such cases. Test with different inputs.\n",
    "\n",
    "def avg(num):\n",
    "    try:\n",
    "        if not num:\n",
    "            return None\n",
    "        return sum(num) / len(num)\n",
    "    except TypeError:\n",
    "        return None\n",
    "\n",
    "print(avg([]))\n",
    "print(avg([1,2,3,2,4,5,6,]))"
   ]
  },
  {
   "cell_type": "code",
   "execution_count": 35,
   "id": "0845d304",
   "metadata": {},
   "outputs": [
    {
     "name": "stdout",
     "output_type": "stream",
     "text": [
      "[0, 1, 1, 2, 3, 5, 8, 13, 21, 34]\n"
     ]
    }
   ],
   "source": [
    "# Define a function that generates an infinite sequence of Fibonacci numbers. Test by printing the first 10 numbers in the sequence.\n",
    "def fibonacci_generator():\n",
    "    a, b = 0, 1\n",
    "    while True:\n",
    "        yield a  # Yield the current Fibonacci number\n",
    "        a, b = b, a + b  # Update values for the next iteration\n",
    "\n",
    "# Testing: Print the first 10 Fibonacci numbers\n",
    "fib_gen = fibonacci_generator()\n",
    "first_10_fib = [next(fib_gen) for _ in range(10)]  # Get first 10 numbers\n",
    "print(first_10_fib)\n",
    "     "
   ]
  },
  {
   "cell_type": "code",
   "execution_count": 37,
   "id": "ab927c58",
   "metadata": {},
   "outputs": [
    {
     "name": "stdout",
     "output_type": "stream",
     "text": [
      "24\n",
      "24\n"
     ]
    }
   ],
   "source": [
    "# Define a curried function that takes three arguments, one at a time, and returns their product. Test the function by providing arguments one at a time.\n",
    "def curried_product(a):\n",
    "    return lambda b: lambda c: a * b * c  # Returns nested functions\n",
    "\n",
    "# Testing: Providing arguments one at a time\n",
    "step1 = curried_product(2)  # Returns a function waiting for `b`\n",
    "step2 = step1(3)            # Returns a function waiting for `c`\n",
    "result = step2(4)           # Computes 2 * 3 * 4 = 24\n",
    "\n",
    "print(result)  # Expected output: 24\n",
    "\n",
    "# Alternative one-liner call\n",
    "print(curried_product(2)(3)(4))  # Expected: 24\n"
   ]
  },
  {
   "cell_type": "code",
   "execution_count": 38,
   "id": "6c5cf2e6",
   "metadata": {},
   "outputs": [
    {
     "name": "stdout",
     "output_type": "stream",
     "text": [
      "Successfully wrote to numbers.txt\n",
      "Successfully wrote to numbers.txt\n",
      "Successfully wrote to numbers.txt\n",
      "Successfully wrote to numbers.txt\n"
     ]
    }
   ],
   "source": [
    "# Define a function that uses a context manager to write a list of integers to a file. The function should handle any errors that occur during file operations. Test with different lists.\n",
    "\n",
    "def write_numbers_to_file(filename, numbers):\n",
    "    try:\n",
    "        with open(filename, \"w\") as file:  # Open file in write mode\n",
    "            for num in numbers:\n",
    "                file.write(str(num) + \"\\n\")  # Write each number on a new line\n",
    "        print(f\"Successfully wrote to {filename}\")\n",
    "    except (IOError, TypeError) as e:  # Handle file and type errors\n",
    "        print(f\"Error writing to file: {e}\")\n",
    "\n",
    "# Testing with different lists\n",
    "write_numbers_to_file(\"numbers.txt\", [1, 2, 3, 4, 5])\n",
    "write_numbers_to_file(\"numbers.txt\", [10, -5, 30, 99])\n",
    "write_numbers_to_file(\"numbers.txt\", [])  # Edge case: Empty list\n",
    "write_numbers_to_file(\"numbers.txt\", [1, \"a\", 3])  # Invalid type (should raise an error)"
   ]
  },
  {
   "cell_type": "code",
   "execution_count": 40,
   "id": "b022b7a6",
   "metadata": {},
   "outputs": [
    {
     "name": "stdout",
     "output_type": "stream",
     "text": [
      "([1, 3, 10], ['hello', 'world'], [2.5, 4.0])\n",
      "([42, 7], ['apple', 'banana', 'chatgpt'], [3.14, 2.71])\n",
      "([100, 300], ['test', 'data', 'python'], [200.5, 400.99])\n"
     ]
    }
   ],
   "source": [
    "# Define a function that takes a list of mixed data types (integers, strings, and floats) and returns three lists: one containing all the integers, one containing all the strings, and one containing all the floats. Test with different inputs.\n",
    "def separate_types(mixed_list):\n",
    "    int_list = []\n",
    "    str_list = []\n",
    "    float_list = []\n",
    "\n",
    "    for item in mixed_list:\n",
    "        if isinstance(item, int) and not isinstance(item, bool):  # Ensure bools are not classified as ints\n",
    "            int_list.append(item)\n",
    "        elif isinstance(item, float):\n",
    "            float_list.append(item)\n",
    "        elif isinstance(item, str):\n",
    "            str_list.append(item)\n",
    "\n",
    "    return int_list, str_list, float_list\n",
    "\n",
    "# Testing with different inputs\n",
    "test_list1 = [1, \"hello\", 2.5, 3, \"world\", 4.0, 10]\n",
    "test_list2 = [\"apple\", 42, 3.14, \"banana\", 7, 2.71, \"chatgpt\"]\n",
    "test_list3 = [100, 200.5, \"test\", \"data\", 300, 400.99, \"python\"]\n",
    "\n",
    "print(separate_types(test_list1))  # Expected: ([1, 3, 10], ['hello', 'world'], [2.5, 4.0])\n",
    "print(separate_types(test_list2))  # Expected: ([42, 7], ['apple', 'banana', 'chatgpt'], [3.14, 2.71])\n",
    "print(separate_types(test_list3))  # Expected: ([100, 300], ['test', 'data', 'python'], [200.5, 400.99])\n"
   ]
  },
  {
   "cell_type": "code",
   "execution_count": 44,
   "id": "d587999f",
   "metadata": {},
   "outputs": [
    {
     "name": "stdout",
     "output_type": "stream",
     "text": [
      "1\n",
      "2\n",
      "3\n",
      "4\n"
     ]
    }
   ],
   "source": [
    "# Define a function that maintains state between calls using a mutable default argument. The function should keep track of how many times it has been called. Test by calling the function multiple times.\n",
    "\n",
    "def call_counter(counter={\"count\": 0}):\n",
    "    counter[\"count\"] += 1  # Increment count\n",
    "    return counter[\"count\"]\n",
    "\n",
    "# Testing by calling multiple times\n",
    "print(call_counter())  # Expected: 1\n",
    "print(call_counter())  # Expected: 2\n",
    "print(call_counter())  # Expected: 3\n",
    "print(call_counter())  # Expected: 4"
   ]
  }
 ],
 "metadata": {
  "kernelspec": {
   "display_name": "Python 3",
   "language": "python",
   "name": "python3"
  },
  "language_info": {
   "codemirror_mode": {
    "name": "ipython",
    "version": 3
   },
   "file_extension": ".py",
   "mimetype": "text/x-python",
   "name": "python",
   "nbconvert_exporter": "python",
   "pygments_lexer": "ipython3",
   "version": "3.12.0"
  }
 },
 "nbformat": 4,
 "nbformat_minor": 5
}
