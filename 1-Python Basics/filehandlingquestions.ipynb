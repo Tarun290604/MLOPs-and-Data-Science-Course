{
 "cells": [
  {
   "cell_type": "markdown",
   "metadata": {},
   "source": [
    "# Module: File Handling Assignments\n",
    "## Lesson: File Handling and Operations\n",
    "### Assignment 1: Reading a File\n",
    "\n",
    "Write a function that reads the contents of a file named `sample.txt` and prints each line.\n",
    "\n",
    "### Assignment 2: Writing to a File\n",
    "\n",
    "Write a function that writes a list of strings to a file named `output.txt`, with each string on a new line.\n",
    "\n",
    "### Assignment 3: Copying a File\n",
    "\n",
    "Write a function that copies the contents of a file named `source.txt` to a new file named `destination.txt`.\n",
    "\n",
    "### Assignment 4: Appending to a File\n",
    "\n",
    "Write a function that appends a given string to the end of a file named `log.txt`.\n",
    "\n",
    "### Assignment 5: Counting Words in a File\n",
    "\n",
    "Write a function that reads the contents of a file named `document.txt` and returns the number of words in the file.\n",
    "\n",
    "### Assignment 6: Finding and Replacing Text\n",
    "\n",
    "Write a function that finds and replaces all occurrences of a given word in a file named `data.txt` with another word.\n",
    "\n",
    "### Assignment 7: Reading a File in Reverse\n",
    "\n",
    "Write a function that reads the contents of a file named `reverse.txt` and prints each line in reverse order.\n",
    "\n",
    "### Assignment 8: Counting Lines, Words, and Characters\n",
    "\n",
    "Write a function that reads the contents of a file named `stats.txt` and returns the number of lines, words, and characters in the file.\n",
    "\n",
    "### Assignment 9: Merging Multiple Files\n",
    "\n",
    "Write a function that merges the contents of multiple files into a single file named `merged.txt`.\n",
    "\n",
    "### Assignment 10: Splitting a Large File\n",
    "\n",
    "Write a function that splits a large file named `large.txt` into smaller files of 100 lines each.\n",
    "\n",
    "### Assignment 11: Creating a Log File\n",
    "\n",
    "Write a function that creates a log file named `activity.log` and writes log messages with timestamps.\n",
    "\n",
    "### Assignment 12: Binary File Operations\n",
    "\n",
    "Write a function that reads a binary file named `image.bin` and writes its contents to another binary file named `copy_image.bin`.\n",
    "\n",
    "### Assignment 13: CSV File Operations\n",
    "\n",
    "Write a function that reads a CSV file named `data.csv` and prints its contents as a list of dictionaries.\n",
    "\n",
    "### Assignment 14: JSON File Operations\n",
    "\n",
    "Write a function that reads a JSON file named `data.json` and prints its contents as a Python dictionary.\n",
    "\n",
    "### Assignment 15: File Permission Handling\n",
    "\n",
    "Write a function that attempts to read a file named `protected.txt` and handles any permission errors gracefully by printing an error message."
   ]
  },
  {
   "cell_type": "code",
   "execution_count": 3,
   "metadata": {},
   "outputs": [
    {
     "name": "stdout",
     "output_type": "stream",
     "text": [
      "Hi i am Tarun\n",
      "currently working at caze labs\n"
     ]
    }
   ],
   "source": [
    "# Write a function that reads the contents of a file named `sample.txt` and prints each line.\n",
    "\n",
    "with open(\"sample.txt\",\"r\") as file:\n",
    "    for line in file:\n",
    "        print(line.strip())"
   ]
  },
  {
   "cell_type": "code",
   "execution_count": 7,
   "id": "ef6a7c77",
   "metadata": {},
   "outputs": [],
   "source": [
    "\n",
    "# Write a function that writes a list of strings to a file named `output.txt`, with each string on a new line.\n",
    "def write_to_file(strings):\n",
    "    with open('output.txt', 'w') as f:\n",
    "        for string in strings:\n",
    "            f.writelines(string + '\\n')\n",
    "        # Test the function\n",
    "\n",
    "write_to_file(['Hello', 'World',\"Welcome\",\"to\",\"Coding\"])"
   ]
  },
  {
   "cell_type": "code",
   "execution_count": 8,
   "id": "730e44ba",
   "metadata": {},
   "outputs": [
    {
     "name": "stdout",
     "output_type": "stream",
     "text": [
      "destination.txt\n"
     ]
    }
   ],
   "source": [
    "# Write a function that copies the contents of a file named `source.txt` to a new file named `destination.txt`.\n",
    "# The function should return the path to the new file.\n",
    "def copy_file(source_path, destination_path):\n",
    "    with open(source_path, 'r') as source_file:\n",
    "        with open(destination_path, 'w') as destination_file:\n",
    "            destination_file.write(source_file.read())\n",
    "            return destination_path\n",
    "        # Test the function\n",
    "\n",
    "print(copy_file('output.txt', 'destination.txt'))"
   ]
  },
  {
   "cell_type": "code",
   "execution_count": 12,
   "id": "73fe1e5f",
   "metadata": {},
   "outputs": [],
   "source": [
    "# Write a function that appends a given string to the end of a file named `log.txt`.\n",
    "\n",
    "def appender(string):\n",
    "    with open(\"log.txt\",\"a\") as file:\n",
    "        file.write(string + \"\\n\")\n",
    "\n",
    "appender(\"Tarun\")"
   ]
  },
  {
   "cell_type": "code",
   "execution_count": 13,
   "id": "fcaed25a",
   "metadata": {},
   "outputs": [
    {
     "data": {
      "text/plain": [
       "9"
      ]
     },
     "execution_count": 13,
     "metadata": {},
     "output_type": "execute_result"
    }
   ],
   "source": [
    "# Write a function that reads the contents of a file named `document.txt` and returns the number of words in the file.\n",
    "\n",
    "def countinfile():\n",
    "    # Open the file in read mode\n",
    "    with open('sample.txt', 'r') as file:\n",
    "        # Read the contents of the file\n",
    "        contents = file.read()\n",
    "        # Split the contents into words\n",
    "        words = contents.split()\n",
    "        # Return the number of words\n",
    "        return len(words)\n",
    "\n",
    "countinfile()"
   ]
  },
  {
   "cell_type": "code",
   "execution_count": 14,
   "id": "cd64ecfa",
   "metadata": {},
   "outputs": [
    {
     "data": {
      "text/plain": [
       "'Hi i am Tarun\\ncurrently working at caze labs'"
      ]
     },
     "execution_count": 14,
     "metadata": {},
     "output_type": "execute_result"
    }
   ],
   "source": [
    "# Write a function that finds and replaces all occurrences of a given word in a file named `data.txt` with another word.\n",
    "\n",
    "# The function should take two arguments: the word to be replaced and the replacement word.\n",
    "# The function should return the modified file content.\n",
    "def replace_word(replace_word, replacement_word):\n",
    "    try:\n",
    "        with open('sample.txt', 'r') as file:\n",
    "            content = file.read()\n",
    "    except FileNotFoundError:\n",
    "        print(\"The file does not exist.\")\n",
    "        return None\n",
    "    content = content.replace(replace_word, replacement_word)\n",
    "    with open('sample.txt', 'w') as file:\n",
    "        file.write(content)\n",
    "        return content\n",
    "\n",
    "replace_word(\"Hello\",\"Hi\")    "
   ]
  },
  {
   "cell_type": "code",
   "execution_count": 18,
   "id": "ce696533",
   "metadata": {},
   "outputs": [
    {
     "name": "stdout",
     "output_type": "stream",
     "text": [
      ".knip dna egnaro fo seuh ni yks eht gnitniap ,noziroh eht woleb deppid nus ehT\n",
      ".seiromem dna thguoht ni tsol ,steerts teiuq eht hguorht deklaw ehS\n",
      ".noitanimreted steem ytisoiruc erehw sevirht noitavonnI\n",
      ".gnitrofmoc ylddo saw wodniw eht tsniaga gnippat spordniar fo dnuos ehT\n",
      ".llits dnats ot demees emit ,tserof eht fo traeh eht nI\n"
     ]
    }
   ],
   "source": [
    "# Write a function that reads the contents of a file named `reverse.txt` and prints each line in reverse order.\n",
    "\n",
    "def read_reverse_file():\n",
    "    with open('reverse.txt', 'r') as file:\n",
    "        for line in file:\n",
    "            print(line.strip()[::-1])\n",
    "\n",
    "read_reverse_file()"
   ]
  },
  {
   "cell_type": "code",
   "execution_count": 20,
   "id": "5f86ec8d",
   "metadata": {},
   "outputs": [
    {
     "name": "stdout",
     "output_type": "stream",
     "text": [
      "Lines: 5, Words: 54, Characters: 330\n"
     ]
    }
   ],
   "source": [
    "# Write a function that reads the contents of a file named `stats.txt` and returns the number of lines, words, and characters in the file.\n",
    "\n",
    "def file_stats():\n",
    "    with open('reverse.txt', 'r') as file:\n",
    "        lines = file.readlines()\n",
    "        num_lines = len(lines)\n",
    "        num_words = sum(len(line.split()) for line in lines)\n",
    "        num_chars = sum(len(line) for line in lines)\n",
    "    \n",
    "    return num_lines, num_words, num_chars\n",
    "\n",
    "# Call the function and print the results\n",
    "lines, words, chars = file_stats()\n",
    "print(f'Lines: {lines}, Words: {words}, Characters: {chars}')"
   ]
  },
  {
   "cell_type": "code",
   "execution_count": 22,
   "id": "6e9b0734",
   "metadata": {},
   "outputs": [
    {
     "name": "stdout",
     "output_type": "stream",
     "text": [
      "merged.txt\n"
     ]
    }
   ],
   "source": [
    "# Write a function that merges the contents of multiple files into a single file named `merged.txt`.\n",
    "# The function should take a list of file paths as input and return the merged file path.\n",
    "def merge_files(file_paths):\n",
    "    # Initialize an empty string to store the merged content\n",
    "    merged_content = \"\"\n",
    "    for file in file_paths:\n",
    "        with open(file,\"r\") as f:\n",
    "            # Read the content of each file and append it to the merged content\n",
    "            merged_content += f.read()\n",
    "            # Write the merged content to a new file named `merged.txt`\n",
    "    with open(\"merged.txt\",\"w\") as f:\n",
    "        f.write(merged_content)\n",
    "    return \"merged.txt\"\n",
    "\n",
    "# Test the function\n",
    "print(merge_files([\"sample.txt\", \"reverse.txt\", \"log.txt\"]))"
   ]
  },
  {
   "cell_type": "code",
   "execution_count": 24,
   "id": "d7dbde6e",
   "metadata": {},
   "outputs": [],
   "source": [
    "\n",
    "# Write a function that splits a large file named `large.txt` into smaller files of 100 lines each.\n",
    "\n",
    "def split_file():\n",
    "    with open('large.txt', 'r') as file:\n",
    "        lines = file.readlines()\n",
    "        \n",
    "    for i in range(0, len(lines), 100):\n",
    "        chunk = lines[i:i+100]\n",
    "        with open(f'large_part_{i//100 + 1}.txt', 'w') as chunk_file:\n",
    "            chunk_file.writelines(chunk)\n",
    "\n",
    "# Call the function to execute\n",
    "split_file()"
   ]
  },
  {
   "cell_type": "code",
   "execution_count": 23,
   "id": "370ea0c3",
   "metadata": {},
   "outputs": [],
   "source": [
    "def generate_large_file():\n",
    "    with open('large.txt', 'w') as file:\n",
    "        for i in range(1, 1001):  # Creating a file with 1000 lines \n",
    "            file.write(f'This is line {i}\\n')\n",
    "\n",
    "generate_large_file()"
   ]
  },
  {
   "cell_type": "code",
   "execution_count": 25,
   "id": "3cdfb958",
   "metadata": {},
   "outputs": [],
   "source": [
    "# Write a function that creates a log file named `activity.log` and writes log messages with timestamps.\n",
    "\n",
    "from datetime import datetime\n",
    "\n",
    "def write_log(message):\n",
    "    timestamp = datetime.now().strftime('%Y-%m-%d %H:%M:%S')\n",
    "    with open('activity.log', 'a') as log_file:\n",
    "        log_file.write(f'[{timestamp}] {message}\\n')\n",
    "\n",
    "# Example usage\n",
    "write_log('Application started')\n",
    "write_log('User logged in')\n",
    "write_log('Performed an important operation')"
   ]
  },
  {
   "cell_type": "code",
   "execution_count": 26,
   "id": "b7a4a58f",
   "metadata": {},
   "outputs": [],
   "source": [
    "# Write a function that reads a binary file named image.bin and writes its contents to another binary file named copy_image.bin\n",
    "def copy_binary_file():\n",
    "    with open('image.bin', 'rb') as src_file:\n",
    "        data = src_file.read()\n",
    "    \n",
    "    with open('copy_image.bin', 'wb') as dest_file:\n",
    "        dest_file.write(data)\n",
    "\n",
    "# Call the function to execute\n",
    "copy_binary_file()"
   ]
  },
  {
   "cell_type": "code",
   "execution_count": 28,
   "id": "55d5f548",
   "metadata": {},
   "outputs": [
    {
     "name": "stdout",
     "output_type": "stream",
     "text": [
      "[{'id': '1', 'name': 'Alice', 'age': '30', 'city': 'New York'}, {'id': '2', 'name': 'Bob', 'age': '25', 'city': 'Los Angeles'}, {'id': '3', 'name': 'Charlie', 'age': '35', 'city': 'Chicago'}, {'id': '4', 'name': 'Diana', 'age': '28', 'city': 'Houston'}]\n"
     ]
    }
   ],
   "source": [
    "# Write a function that reads a CSV file named data.csv and prints its contents as a list of dictionaries.\n",
    "\n",
    "import csv\n",
    "\n",
    "def read_csv_as_dict():\n",
    "    with open('data.csv', 'r', newline='') as file:\n",
    "        reader = csv.DictReader(file)\n",
    "        data = [row for row in reader]\n",
    "    \n",
    "    print(data)\n",
    "\n",
    "# Call the function to execute\n",
    "read_csv_as_dict()"
   ]
  },
  {
   "cell_type": "code",
   "execution_count": 29,
   "id": "5449823e",
   "metadata": {},
   "outputs": [
    {
     "name": "stdout",
     "output_type": "stream",
     "text": [
      "{'employees': [{'id': 1, 'name': 'Alice', 'age': 30, 'city': 'New York'}, {'id': 2, 'name': 'Bob', 'age': 25, 'city': 'Los Angeles'}, {'id': 3, 'name': 'Charlie', 'age': 35, 'city': 'Chicago'}, {'id': 4, 'name': 'Diana', 'age': 28, 'city': 'Houston'}]}\n"
     ]
    },
    {
     "data": {
      "text/plain": [
       "{'employees': [{'id': 1, 'name': 'Alice', 'age': 30, 'city': 'New York'},\n",
       "  {'id': 2, 'name': 'Bob', 'age': 25, 'city': 'Los Angeles'},\n",
       "  {'id': 3, 'name': 'Charlie', 'age': 35, 'city': 'Chicago'},\n",
       "  {'id': 4, 'name': 'Diana', 'age': 28, 'city': 'Houston'}]}"
      ]
     },
     "execution_count": 29,
     "metadata": {},
     "output_type": "execute_result"
    }
   ],
   "source": [
    "# Write a function that reads a JSON file named data.json and prints its contents as a Python dictionary.\n",
    "\n",
    "import json\n",
    "\n",
    "def read_json():\n",
    "    with open('data.json', 'r') as file:\n",
    "        data = json.load(file)\n",
    "    \n",
    "    print(data)\n",
    "    return data\n",
    "\n",
    "# Call the function to execute\n",
    "read_json()"
   ]
  },
  {
   "cell_type": "code",
   "execution_count": 32,
   "id": "4f4969c7",
   "metadata": {},
   "outputs": [
    {
     "name": "stdout",
     "output_type": "stream",
     "text": [
      "This is a protected file.\n",
      "Only authorized users should access this content.\n",
      "Handle permissions carefully!\n"
     ]
    }
   ],
   "source": [
    "def read_protected_file():\n",
    "    try:\n",
    "        with open('protected.txt', 'r') as file:\n",
    "            content = file.read()\n",
    "            print(content)\n",
    "    except PermissionError:\n",
    "        print(\"Error: Permission denied while accessing 'protected.txt'.\")\n",
    "    except FileNotFoundError:\n",
    "        print(\"Error: 'protected.txt' not found.\")\n",
    "\n",
    "# Call the function to execute\n",
    "read_protected_file()"
   ]
  }
 ],
 "metadata": {
  "kernelspec": {
   "display_name": "Python 3",
   "language": "python",
   "name": "python3"
  },
  "language_info": {
   "codemirror_mode": {
    "name": "ipython",
    "version": 3
   },
   "file_extension": ".py",
   "mimetype": "text/x-python",
   "name": "python",
   "nbconvert_exporter": "python",
   "pygments_lexer": "ipython3",
   "version": "3.12.0"
  }
 },
 "nbformat": 4,
 "nbformat_minor": 5
}
