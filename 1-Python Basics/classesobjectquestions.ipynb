{
 "cells": [
  {
   "cell_type": "markdown",
   "metadata": {},
   "source": [
    "# Module: Classes and Objects Assignments\n",
    "## Lesson: Creating and Working with Classes and Objects\n",
    "### Assignment 1: Basic Class and Object Creation\n",
    "\n",
    "Create a class named `Car` with attributes `make`, `model`, and `year`. Create an object of the class and print its attributes.\n",
    "\n",
    "### Assignment 2: Methods in Class\n",
    "\n",
    "Add a method named `start_engine` to the `Car` class that prints a message when the engine starts. Create an object of the class and call the method.\n",
    "\n",
    "### Assignment 3: Class with Constructor\n",
    "\n",
    "Create a class named `Student` with attributes `name` and `age`. Use a constructor to initialize these attributes. Create an object of the class and print its attributes.\n",
    "\n",
    "### Assignment 4: Class with Private Attributes\n",
    "\n",
    "Create a class named `BankAccount` with private attributes `account_number` and `balance`. Add methods to deposit and withdraw money, and to check the balance. Create an object of the class and perform some operations.\n",
    "\n",
    "### Assignment 5: Class Inheritance\n",
    "\n",
    "Create a base class named `Person` with attributes `name` and `age`. Create a derived class named `Employee` that inherits from `Person` and adds an attribute `employee_id`. Create an object of the derived class and print its attributes.\n",
    "\n",
    "### Assignment 6: Method Overriding\n",
    "\n",
    "In the `Employee` class, override the `__str__` method to return a string representation of the object. Create an object of the class and print it.\n",
    "\n",
    "### Assignment 7: Class Composition\n",
    "\n",
    "Create a class named `Address` with attributes `street`, `city`, and `zipcode`. Create a class named `Person` that has an `Address` object as an attribute. Create an object of the `Person` class and print its address.\n",
    "\n",
    "### Assignment 8: Class with Class Variables\n",
    "\n",
    "Create a class named `Counter` with a class variable `count`. Each time an object is created, increment the count. Add a method to get the current count. Create multiple objects and print the count.\n",
    "\n",
    "### Assignment 9: Static Methods\n",
    "\n",
    "Create a class named `MathOperations` with a static method to calculate the square root of a number. Call the static method without creating an object.\n",
    "\n",
    "### Assignment 10: Class with Properties\n",
    "\n",
    "Create a class named `Rectangle` with private attributes `length` and `width`. Use properties to get and set these attributes. Create an object of the class and test the properties.\n",
    "\n",
    "### Assignment 11: Abstract Base Class\n",
    "\n",
    "Create an abstract base class named `Shape` with an abstract method `area`. Create derived classes `Circle` and `Square` that implement the `area` method. Create objects of the derived classes and call the `area` method.\n",
    "\n",
    "### Assignment 12: Operator Overloading\n",
    "\n",
    "Create a class named `Vector` with attributes `x` and `y`. Overload the `+` operator to add two `Vector` objects. Create objects of the class and test the operator overloading.\n",
    "\n",
    "### Assignment 13: Class with Custom Exception\n",
    "\n",
    "Create a custom exception named `InsufficientBalanceError`. In the `BankAccount` class, raise this exception when a withdrawal amount is greater than the balance. Handle the exception and print an appropriate message.\n",
    "\n",
    "### Assignment 14: Class with Context Manager\n",
    "\n",
    "Create a class named `FileManager` that implements the context manager protocol to open and close a file. Use this class to read the contents of a file.\n",
    "\n",
    "### Assignment 15: Chaining Methods\n",
    "\n",
    "Create a class named `Calculator` with methods to add, subtract, multiply, and divide. Each method should return the object itself to allow method chaining. Create an object and chain multiple method calls."
   ]
  },
  {
   "cell_type": "code",
   "execution_count": 1,
   "metadata": {},
   "outputs": [
    {
     "name": "stdout",
     "output_type": "stream",
     "text": [
      "BMW\n",
      "Sports 250\n",
      "1950\n"
     ]
    }
   ],
   "source": [
    "# Create a class named `Car` with attributes `make`, `model`, and `year`. Create an object of the class and print its attributes.\n",
    "\n",
    "class Car:\n",
    "    def __init__(self, make, model, year):\n",
    "        self.make = make\n",
    "        self.model = model\n",
    "        self.year = year\n",
    "\n",
    "c1= Car(\"BMW\",\"Sports 250\",1950)\n",
    "print(c1.make)\n",
    "print(c1.model)\n",
    "print(c1.year)"
   ]
  },
  {
   "cell_type": "code",
   "execution_count": 3,
   "id": "84890b26",
   "metadata": {},
   "outputs": [
    {
     "name": "stdout",
     "output_type": "stream",
     "text": [
      "Toyota\n",
      "Camry\n"
     ]
    }
   ],
   "source": [
    "# Add a method named `start_engine` to the `Car` class that prints a message when the engine starts. Create an object of the class and call the method.\n",
    "# Output: \"Engine started\"\n",
    "class Car:\n",
    "    def __init__(self, brand, model, year):\n",
    "        self.brand = brand\n",
    "        self.model = model\n",
    "        self.year = year\n",
    "        def start_engine(self):\n",
    "            print(\"Engine started\")\n",
    "            # Create an object of the class\n",
    "car = Car(\"Toyota\", \"Camry\", 2020)\n",
    "print(car.brand)\n",
    "print(car.model)"
   ]
  },
  {
   "cell_type": "code",
   "execution_count": 4,
   "id": "202ac959",
   "metadata": {},
   "outputs": [
    {
     "name": "stdout",
     "output_type": "stream",
     "text": [
      "John\n",
      "20\n"
     ]
    }
   ],
   "source": [
    "# Create a class named `Student` with attributes `name` and `age`. Use a constructor to initialize these attributes. Create an object of the class and print its attributes.\n",
    "\n",
    "class Student:\n",
    "    def __init__(self, name, age):\n",
    "        self.name = name\n",
    "        self.age = age\n",
    "\n",
    "x = Student(\"John\",\"20\")\n",
    "print(x.name)\n",
    "print(x.age)"
   ]
  },
  {
   "cell_type": "code",
   "execution_count": 5,
   "id": "39a46216",
   "metadata": {},
   "outputs": [],
   "source": [
    "# Create a class named `BankAccount` with private attributes `account_number` and `balance`. Add methods to deposit and withdraw money, and to check the balance. Create an object of the class and perform some operations.\n",
    "\n",
    "class BankAccount:\n",
    "    def __init__(self, account_number, balance):\n",
    "        self.__account_number = account_number\n",
    "        self.__balance = balance\n",
    "    def deposit(self, amount):\n",
    "        self.__balance += amount\n",
    "    def withdraw(self, amount):\n",
    "        if amount > self.__balance:\n",
    "            print(\"Insufficient balance\")\n",
    "        else:\n",
    "            self.__balance -= amount\n",
    "    def check_balance(self):\n",
    "        return self.__balance\n",
    "\n",
    "Arun = BankAccount(99152,50000)"
   ]
  },
  {
   "cell_type": "code",
   "execution_count": 8,
   "id": "3c4cd443",
   "metadata": {},
   "outputs": [
    {
     "name": "stdout",
     "output_type": "stream",
     "text": [
      "65000\n"
     ]
    }
   ],
   "source": [
    "Arun.deposit(5000)\n",
    "print(Arun.check_balance())"
   ]
  },
  {
   "cell_type": "code",
   "execution_count": 10,
   "id": "81a8b300",
   "metadata": {},
   "outputs": [
    {
     "name": "stdout",
     "output_type": "stream",
     "text": [
      "<bound method BankAccount.check_balance of <__main__.BankAccount object at 0x000001771FB72B70>>\n"
     ]
    }
   ],
   "source": [
    "Arun.withdraw(2500)\n",
    "print(Arun.check_balance)  # Output: 7500"
   ]
  },
  {
   "cell_type": "code",
   "execution_count": 16,
   "id": "834d3df4",
   "metadata": {},
   "outputs": [
    {
     "name": "stdout",
     "output_type": "stream",
     "text": [
      "John\n",
      "30\n",
      "1234\n"
     ]
    }
   ],
   "source": [
    "# Create a base class named `Person` with attributes `name` and `age`. Create a derived class named `Employee` that inherits from `Person` and adds an attribute `employee_id`. Create an object of the derived class and print its attributes.\n",
    "\n",
    "class Person:\n",
    "    def __init__(self, name, age):\n",
    "        self.name = name\n",
    "        self.age = age\n",
    "class Employee(Person):\n",
    "    def __init__(self, name, age, employee_id):\n",
    "        super().__init__(name, age)\n",
    "        self.employee_id = employee_id\n",
    "emp = Employee(\"John\", 30, 1234)\n",
    "print(emp.name)  # Output: John\n",
    "print(emp.age)   # Output: 30\n",
    "print(emp.employee_id)  # Output: 1234"
   ]
  },
  {
   "cell_type": "code",
   "execution_count": 18,
   "id": "4d03a285",
   "metadata": {},
   "outputs": [
    {
     "name": "stdout",
     "output_type": "stream",
     "text": [
      "Employee: John Doe, Age: 30, Employee ID: E001\n"
     ]
    }
   ],
   "source": [
    "# In the `Employee` class, override the `__str__` method to return a string representation of the object. Create an object of the class and print it.\n",
    "\n",
    "class Person:\n",
    "    def __init__(self, name, age):\n",
    "        self.name = name\n",
    "        self.age = age\n",
    "class Employee(Person):\n",
    "    def __init__(self, name, age, employee_id):\n",
    "        super().__init__(name, age)\n",
    "        self.employee_id = employee_id\n",
    "    def __str__(self):\n",
    "        return f\"Employee: {self.name}, Age: {self.age}, Employee ID: {self.employee_id}\"\n",
    "\n",
    "emp = Employee(\"John Doe\", 30, \"E001\")\n",
    "print(emp)"
   ]
  },
  {
   "cell_type": "code",
   "execution_count": 19,
   "id": "197c6bee",
   "metadata": {},
   "outputs": [
    {
     "name": "stdout",
     "output_type": "stream",
     "text": [
      "Street: 123 Main St\n",
      "City: Anytown\n",
      "Zipcode: 123\n"
     ]
    }
   ],
   "source": [
    "\n",
    "# Create a class named `Address` with attributes `street`, `city`, and `zipcode`. Create a class named `Person` that has an `Address` object as an attribute. Create an object of the `Person` class and print its address.\n",
    "\n",
    "class Address:\n",
    "    def __init__(self, street, city, zipcode):\n",
    "        self.street = street\n",
    "        self.city = city\n",
    "        self.zipcode = zipcode\n",
    "class Person:\n",
    "    def __init__(self, name, address):\n",
    "        self.name = name\n",
    "        self.address = address\n",
    "    def print_address(self):\n",
    "        print(f\"Street: {self.address.street}\")\n",
    "        print(f\"City: {self.address.city}\")\n",
    "        print(f\"Zipcode: {self.address.zipcode}\")\n",
    "person = Person(\"John Doe\", Address(\"123 Main St\", \"Anytown\", \"123\"))\n",
    "person.print_address()"
   ]
  },
  {
   "cell_type": "code",
   "execution_count": 21,
   "id": "6cf2ba63",
   "metadata": {},
   "outputs": [
    {
     "data": {
      "text/plain": [
       "3"
      ]
     },
     "execution_count": 21,
     "metadata": {},
     "output_type": "execute_result"
    }
   ],
   "source": [
    "# Create a class named `Counter` with a class variable `count`. Each time an object is created, increment the count. Add a method to get the current count. Create multiple objects and print the count.\n",
    "\n",
    "class Counter:\n",
    "    count = 0\n",
    "    def __init__(self):\n",
    "        Counter.count += 1\n",
    "    def get_count(self):\n",
    "        return Counter.count\n",
    "\n",
    "c1=Counter()\n",
    "c1.count\n",
    "c2=Counter()\n",
    "c2.count\n",
    "c3=Counter()\n",
    "c3.count"
   ]
  },
  {
   "cell_type": "markdown",
   "id": "24944b1d",
   "metadata": {},
   "source": [
    "A static method in Python is a method that belongs to a class but does not access or modify instance (self) or class (cls) attributes. It is defined using the @staticmethod decorator.\n",
    "\n",
    "Unlike instance methods, static methods do not require an instance of the class to be called. They behave like regular functions but are logically grouped within a class."
   ]
  },
  {
   "cell_type": "code",
   "execution_count": 22,
   "id": "cf4047ea",
   "metadata": {},
   "outputs": [
    {
     "name": "stdout",
     "output_type": "stream",
     "text": [
      "4.0\n"
     ]
    }
   ],
   "source": [
    "# Create a class named `MathOperations` with a static method to calculate the square root of a number. Call the static method without creating an object.\n",
    "\n",
    "# The method should take a number as an argument and return its square root.\n",
    "class MathOperations:\n",
    "    @staticmethod\n",
    "    def square_root(num):\n",
    "        return num ** 0.5\n",
    "    # Call the static method with a number as an argument\n",
    "print(MathOperations.square_root(16))  # Output: 4.0"
   ]
  },
  {
   "cell_type": "code",
   "execution_count": 32,
   "id": "561637f2",
   "metadata": {},
   "outputs": [
    {
     "name": "stdout",
     "output_type": "stream",
     "text": [
      "5\n",
      "-99\n",
      "10\n"
     ]
    }
   ],
   "source": [
    "# Create a class named `Rectangle` with private attributes `length` and `width`. Use properties to get and set these attributes. Create an object of the class and test the properties.\n",
    "\n",
    "class Rectangle:\n",
    "    def __init__(self, length, width):\n",
    "        self.__length = length\n",
    "        self.__width = width\n",
    "    @property\n",
    "    def length(self):\n",
    "        return self.__length\n",
    "    @length.setter\n",
    "    def length(self, value):\n",
    "        if value > 0:\n",
    "            self.__length = value\n",
    "        else:\n",
    "            raise ValueError(\"Length must be greater than zero\")\n",
    "    @property\n",
    "    def width(self):\n",
    "        return self.__width\n",
    "    @width.setter\n",
    "    def width(self, value):\n",
    "        if value > 0:\n",
    "            self.__width = value\n",
    "        else:\n",
    "            raise ValueError(\"Width must be greater than zero\")\n",
    "rect = Rectangle(5,-99)\n",
    "print(rect.length)  # Output: 5\n",
    "print(rect.width)   # Output: 3\n",
    "rect.length = 10\n",
    "print(rect.length)  # Output: 10\n"
   ]
  },
  {
   "cell_type": "code",
   "execution_count": 35,
   "id": "0187f55e",
   "metadata": {},
   "outputs": [
    {
     "name": "stdout",
     "output_type": "stream",
     "text": [
      "Circle area: 78.53981633974483\n",
      "Square area: 16\n"
     ]
    }
   ],
   "source": [
    "# Create an abstract base class named `Shape` with an abstract method `area`. Create derived classes `Circle` and `Square` that implement the `area` method. Create objects of the derived classes and call the `area` method.\n",
    "\n",
    "from abc import ABC, abstractmethod\n",
    "from math import pi\n",
    "class Shape(ABC):\n",
    "    @abstractmethod\n",
    "    def area(self):\n",
    "        pass\n",
    "class Circle(Shape):\n",
    "    def __init__(self, radius):\n",
    "        self.radius = radius\n",
    "    def area(self):\n",
    "        return pi * (self.radius ** 2)\n",
    "class Square(Shape):\n",
    "    def __init__(self, side):\n",
    "        self.side = side\n",
    "    def area(self):\n",
    "        return self.side ** 2\n",
    "                    # Create objects of the derived classes\n",
    "circle = Circle(5)\n",
    "square = Square(4)\n",
    "                    # Call the `area` method\n",
    "print(f\"Circle area: {circle.area()}\")\n",
    "print(f\"Square area: {square.area()}\")\n",
    "                    "
   ]
  },
  {
   "cell_type": "code",
   "execution_count": null,
   "id": "20970adc",
   "metadata": {},
   "outputs": [
    {
     "name": "stdout",
     "output_type": "stream",
     "text": [
      "8\n",
      "12\n"
     ]
    }
   ],
   "source": [
    "# Create a class named `Vector` with attributes `x` and `y`. Overload the `+` operator to add two `Vector` objects. Create objects of the class and test the operator overloading.\n",
    "\n",
    "class Vector:\n",
    "    def __init__(self, x, y):\n",
    "        self.x = x\n",
    "        self.y = y\n",
    "    def __add__(self,others):\n",
    "        return Vector(self.x + others.x, self.y + others.y)\n",
    "\n",
    "V = Vector(5,8)\n",
    "V2 = Vector(3,4)\n",
    "v1= V+V2 # Output: Vector(8, 12)\n",
    "print(v1.x)\n",
    "print(v1.y)"
   ]
  },
  {
   "cell_type": "code",
   "execution_count": 44,
   "id": "ac708810",
   "metadata": {},
   "outputs": [
    {
     "name": "stdout",
     "output_type": "stream",
     "text": [
      "Deposited $200. New balance: $700\n",
      "Error: Cannot withdraw $800. Available balance: $700\n"
     ]
    }
   ],
   "source": [
    "# Create a custom exception named `InsufficientBalanceError`. In the `BankAccount` class, raise this exception when a withdrawal amount is greater than the balance. Handle the exception and print an appropriate message.\n",
    "# Custom exception class\n",
    "class InsufficientBalanceError(Exception):\n",
    "    \"\"\"Exception raised when withdrawal amount exceeds available balance.\"\"\"\n",
    "    \n",
    "    def __init__(self, message=\"Insufficient balance for this withdrawal\"):\n",
    "        super().__init__(message)  # Calling the base Exception class\n",
    "\n",
    "# BankAccount class\n",
    "class BankAccount:\n",
    "    def __init__(self, account_number, owner_name, balance=0):\n",
    "        self.account_number = account_number  # Public attribute\n",
    "        self.owner_name = owner_name  # Public attribute\n",
    "        self.balance = balance  # Public attribute\n",
    "\n",
    "    def deposit(self, amount):\n",
    "        \"\"\"Method to deposit money into the account.\"\"\"\n",
    "        if amount > 0:\n",
    "            self.balance += amount\n",
    "            print(f\"Deposited ${amount}. New balance: ${self.balance}\")\n",
    "        else:\n",
    "            print(\"Deposit amount must be positive.\")\n",
    "\n",
    "    def withdraw(self, amount):\n",
    "        \"\"\"Method to withdraw money from the account, raising InsufficientBalanceError if needed.\"\"\"\n",
    "        if amount > self.balance:\n",
    "            raise InsufficientBalanceError(f\"Cannot withdraw ${amount}. Available balance: ${self.balance}\")\n",
    "        self.balance -= amount\n",
    "        print(f\"Withdrew ${amount}. New balance: ${self.balance}\")\n",
    "\n",
    "# Creating an object of BankAccount\n",
    "my_account = BankAccount(\"123456789\", \"Alice\", 500)\n",
    "\n",
    "# Performing transactions\n",
    "try:\n",
    "    my_account.deposit(200)  # Depositing $200\n",
    "    my_account.withdraw(800)  # Attempting to withdraw $800 (exceeds balance)\n",
    "except InsufficientBalanceError as e:\n",
    "    print(f\"Error: {e}\")  # Handling the exception and displaying a message\n"
   ]
  },
  {
   "cell_type": "code",
   "execution_count": 47,
   "id": "67f8a40a",
   "metadata": {},
   "outputs": [
    {
     "name": "stdout",
     "output_type": "stream",
     "text": [
      "Hello, this is a test file.\n",
      "Python context managers are useful!\n",
      "\n"
     ]
    }
   ],
   "source": [
    "# Create a class named `FileManager` that implements the context manager protocol to open and close a file. Use this class to read the contents of a file.\n",
    "\n",
    "class FileManager:\n",
    "    def __init__(self, filename):\n",
    "        self.filename = filename\n",
    "    def __enter__(self):\n",
    "        self.file = open(self.filename, 'r')\n",
    "        return self.file\n",
    "    def __exit__(self, exc_type, exc_val, exc_tb):\n",
    "        self.file.close()\n",
    "with FileManager('example.txt') as file:\n",
    "    contents = file.read()\n",
    "    print(contents)\n"
   ]
  },
  {
   "cell_type": "code",
   "execution_count": 46,
   "id": "4fa53913",
   "metadata": {},
   "outputs": [
    {
     "name": "stdout",
     "output_type": "stream",
     "text": [
      "File Content:\n",
      " Hello, this is a test file.\n",
      "Python context managers are useful!\n",
      "\n"
     ]
    }
   ],
   "source": [
    "class FileManager:\n",
    "    \"\"\"Custom context manager for handling file operations.\"\"\"\n",
    "    \n",
    "    def __init__(self, file_name, mode):\n",
    "        self.file_name = file_name\n",
    "        self.mode = mode\n",
    "        self.file = None  # Placeholder for the file object\n",
    "\n",
    "    def __enter__(self):\n",
    "        \"\"\"Opens the file when entering the context.\"\"\"\n",
    "        self.file = open(self.file_name, self.mode)\n",
    "        return self.file  # Returning file object to be used inside 'with' block\n",
    "\n",
    "    def __exit__(self, exc_type, exc_value, traceback):\n",
    "        \"\"\"Closes the file when exiting the context.\"\"\"\n",
    "        if self.file:\n",
    "            self.file.close()\n",
    "        # Returning False allows exceptions to be propagated\n",
    "        return False  \n",
    "\n",
    "# Writing to a file using FileManager\n",
    "with FileManager(\"example.txt\", \"w\") as file:\n",
    "    file.write(\"Hello, this is a test file.\\n\")\n",
    "    file.write(\"Python context managers are useful!\\n\")\n",
    "\n",
    "# Reading from a file using FileManager\n",
    "with FileManager(\"example.txt\", \"r\") as file:\n",
    "    content = file.read()\n",
    "    print(\"File Content:\\n\", content)"
   ]
  },
  {
   "cell_type": "code",
   "execution_count": 49,
   "id": "6ecee285",
   "metadata": {},
   "outputs": [
    {
     "name": "stdout",
     "output_type": "stream",
     "text": [
      "2.0\n"
     ]
    }
   ],
   "source": [
    "# Create a class named `Calculator` with methods to add, subtract, multiply, and divide. Each method should return the object itself to allow method chaining. Create an object and chain multiple method calls.\n",
    "\n",
    "class Calculator:\n",
    "    def add(self, num):\n",
    "        self.result += num\n",
    "        return self\n",
    "    def subtract(self, num):\n",
    "        self.result -= num\n",
    "        return self\n",
    "    def multiply(self, num):\n",
    "        self.result *= num\n",
    "        return self\n",
    "    def divide(self, num):\n",
    "        if num != 0:\n",
    "            self.result /= num\n",
    "            return self\n",
    "    def __init__(self):\n",
    "        self.result = 0\n",
    "        # Create an object and chain multiple method calls\n",
    "calc = Calculator()\n",
    "print(calc.add(5).subtract(3).multiply(2).divide(2).result)\n"
   ]
  }
 ],
 "metadata": {
  "kernelspec": {
   "display_name": "Python 3",
   "language": "python",
   "name": "python3"
  },
  "language_info": {
   "codemirror_mode": {
    "name": "ipython",
    "version": 3
   },
   "file_extension": ".py",
   "mimetype": "text/x-python",
   "name": "python",
   "nbconvert_exporter": "python",
   "pygments_lexer": "ipython3",
   "version": "3.12.0"
  }
 },
 "nbformat": 4,
 "nbformat_minor": 5
}
